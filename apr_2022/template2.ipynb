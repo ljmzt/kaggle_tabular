{
 "cells": [
  {
   "cell_type": "code",
   "execution_count": 78,
   "id": "a67665d8",
   "metadata": {},
   "outputs": [],
   "source": [
    "import pandas as pd\n",
    "import numpy as np\n",
    "from scipy.signal import correlate\n",
    "from sklearn.metrics import accuracy_score\n",
    "from sklearn.linear_model import LogisticRegression\n",
    "from copy import deepcopy\n",
    "from matplotlib import pyplot as plt\n",
    "clf = LogisticRegression()"
   ]
  },
  {
   "cell_type": "code",
   "execution_count": 2,
   "id": "29f6f127",
   "metadata": {},
   "outputs": [],
   "source": [
    "def prep(X):\n",
    "    mean = np.mean(X, axis=1)[:, np.newaxis]\n",
    "    X = X - mean\n",
    "    power = np.sum(np.power(X, 2), axis=1)\n",
    "    power[power==0] = 1\n",
    "    power = np.sqrt(power)[:,np.newaxis]\n",
    "    X = X / power\n",
    "    return X"
   ]
  },
  {
   "cell_type": "code",
   "execution_count": 4,
   "id": "48f13acd",
   "metadata": {},
   "outputs": [],
   "source": [
    "accuracy_score?"
   ]
  },
  {
   "cell_type": "code",
   "execution_count": 39,
   "id": "0269c275",
   "metadata": {},
   "outputs": [
    {
     "data": {
      "text/plain": [
       "array([    1,     2,     3, ..., 25963, 25965, 25966])"
      ]
     },
     "execution_count": 39,
     "metadata": {},
     "output_type": "execute_result"
    }
   ],
   "source": [
    "np.arange(len(y))[y==1]"
   ]
  },
  {
   "cell_type": "code",
   "execution_count": 74,
   "id": "cb52499c",
   "metadata": {},
   "outputs": [],
   "source": [
    "def search(X, y, n_series=500, n_win=10):\n",
    "    best1 = -999\n",
    "    for template_len in [3,5,10]:\n",
    "        ids = np.random.choice(np.arange(len(y))[y==1], n_series)\n",
    "        for k,idx in enumerate(ids):\n",
    "            if (k % 100 == 1):\n",
    "                print(template_len, k, idx)\n",
    "            for i in np.random.choice(range(len(X[0])-template_len), n_win):\n",
    "                template = X[idx, i:i+template_len].copy()\n",
    "                template -= np.mean(template)\n",
    "                power = np.sum(np.power(template,2))\n",
    "                if (power == 0):\n",
    "                    continue\n",
    "                template /= np.sqrt(power)\n",
    "\n",
    "                w = correlate(template[np.newaxis,:], X, mode='valid')[::-1]\n",
    "                w = np.max(w, axis=1).reshape(-1,1)\n",
    "                clf.fit(w,y)\n",
    "                score = accuracy_score(y, clf.predict(w))\n",
    "\n",
    "                if (score > best1):\n",
    "                    best1 = score\n",
    "                    best_template1 = template.copy()\n",
    "                    print(template_len, idx, i, best1)\n",
    "\n",
    "    return best_template1"
   ]
  },
  {
   "cell_type": "code",
   "execution_count": 76,
   "id": "4999d9bf",
   "metadata": {},
   "outputs": [
    {
     "name": "stdout",
     "output_type": "stream",
     "text": [
      "1 1 23217\n",
      "2 5147 1 0.5807147258163894\n",
      "2 1 20732\n",
      "3 5255 19 0.6108672211953173\n",
      "3 1 4260\n",
      "3 16270 24 0.6114833641404805\n",
      "3 15800 50 0.6117529266789895\n",
      "5 1 2557\n",
      "5 2557 11 0.6166820702402958\n",
      "5 16756 16 0.6170671595810228\n",
      "5 12523 4 0.6204944547134935\n",
      "5 20610 25 0.6207255083179297\n",
      "5 10473 13 0.6211105976586568\n",
      "10 1 9063\n"
     ]
    }
   ],
   "source": [
    "np.random.seed(123)\n",
    "\n",
    "y = pd.read_csv('train_labels.csv',index_col='sequence').values[:,0]\n",
    "\n",
    "sensor = 'sensor_12'\n",
    "series = pd.read_csv('train.csv',index_col=['sequence','subject','step'])[[sensor]]\n",
    "\n",
    "X = series.values.reshape(-1,60)\n",
    "X = prep(X)\n",
    "\n",
    "template1 = search(X, y, n_series=100)\n",
    "df = pd.DataFrame(template1, columns=['template'])\n",
    "df.to_csv('template_'+sensor+'.csv', index=False)\n",
    "\n",
    "rr = np.max(correlate(template1[np.newaxis,:],X,mode='valid')[::-1],axis=1)\n",
    "df = pd.DataFrame(rr, columns=['corr'])\n",
    "df.to_csv('template_corr_'+sensor+'.csv', index=False)"
   ]
  },
  {
   "cell_type": "code",
   "execution_count": 79,
   "id": "2d5d4e1c",
   "metadata": {},
   "outputs": [
    {
     "data": {
      "text/plain": [
       "[<matplotlib.lines.Line2D at 0x1239a2490>]"
      ]
     },
     "execution_count": 79,
     "metadata": {},
     "output_type": "execute_result"
    },
    {
     "data": {
      "image/png": "[encoded data removed]",
      "text/plain": [
       "<Figure size 432x288 with 1 Axes>"
      ]
     },
     "metadata": {
      "needs_background": "light"
     },
     "output_type": "display_data"
    }
   ],
   "source": [
    "plt.plot(rr)"
   ]
  },
  {
   "cell_type": "code",
   "execution_count": 81,
   "id": "aae900a1",
   "metadata": {},
   "outputs": [
    {
     "data": {
      "image/png": "[encoded data removed]",
      "text/plain": [
       "<Figure size 432x288 with 1 Axes>"
      ]
     },
     "metadata": {
      "needs_background": "light"
     },
     "output_type": "display_data"
    }
   ],
   "source": [
    "plt.hist(rr[y==1],bins=20);\n",
    "plt.hist(rr[y==0],bins=20,alpha=0.5);"
   ]
  },
  {
   "cell_type": "code",
   "execution_count": 92,
   "id": "db943b71",
   "metadata": {},
   "outputs": [],
   "source": [
    "clf = LogisticRegression(n_jobs=2)"
   ]
  },
  {
   "cell_type": "code",
   "execution_count": 88,
   "id": "2d3ccdd4",
   "metadata": {},
   "outputs": [
    {
     "data": {
      "text/plain": [
       "LogisticRegression()"
      ]
     },
     "execution_count": 88,
     "metadata": {},
     "output_type": "execute_result"
    }
   ],
   "source": [
    "clf.fit(X,y)"
   ]
  },
  {
   "cell_type": "code",
   "execution_count": 91,
   "id": "880ad9ee",
   "metadata": {},
   "outputs": [
    {
     "data": {
      "text/plain": [
       "(25968, 60)"
      ]
     },
     "execution_count": 91,
     "metadata": {},
     "output_type": "execute_result"
    }
   ],
   "source": [
    "X.shape"
   ]
  },
  {
   "cell_type": "code",
   "execution_count": 89,
   "id": "7e3ee6ce",
   "metadata": {},
   "outputs": [
    {
     "data": {
      "text/plain": [
       "array([[ 0.00892306,  0.02737814,  0.0835098 , -0.07597832,  0.19012028,\n",
       "         0.15193137,  0.04082124,  0.09291309,  0.01710128,  0.23676014,\n",
       "         0.05447207, -0.0283229 ,  0.19333709, -0.00856902,  0.0449084 ,\n",
       "         0.10043466, -0.00136997,  0.0926709 , -0.0423627 ,  0.05470305,\n",
       "        -0.13499481,  0.05913483, -0.01379259, -0.077588  , -0.02382717,\n",
       "        -0.18676947, -0.13171229, -0.06255444, -0.21116937, -0.10551959,\n",
       "         0.08758037,  0.11616807,  0.11993351, -0.00768425, -0.14652055,\n",
       "         0.2077929 ,  0.14408526,  0.12147445,  0.11924225,  0.05421263,\n",
       "         0.15314897, -0.05521744,  0.11061695, -0.07058729, -0.06965112,\n",
       "        -0.24812409, -0.01616489, -0.17118287,  0.02540929, -0.09239312,\n",
       "        -0.15674726, -0.12869001, -0.16960759, -0.01844039,  0.09810847,\n",
       "        -0.03852157,  0.05511491, -0.13920283, -0.03949454, -0.18924697]])"
      ]
     },
     "execution_count": 89,
     "metadata": {},
     "output_type": "execute_result"
    }
   ],
   "source": [
    "clf.coef_"
   ]
  },
  {
   "cell_type": "code",
   "execution_count": 93,
   "id": "d8518509",
   "metadata": {},
   "outputs": [],
   "source": [
    "import os"
   ]
  },
  {
   "cell_type": "code",
   "execution_count": 94,
   "id": "e837adda",
   "metadata": {},
   "outputs": [
    {
     "name": "stdout",
     "output_type": "stream",
     "text": [
      "blas_info:\n",
      "    libraries = ['cblas', 'blas', 'cblas', 'blas']\n",
      "    library_dirs = ['/opt/anaconda3/envs/cs2020/lib']\n",
      "    include_dirs = ['/opt/anaconda3/envs/cs2020/include']\n",
      "    language = c\n",
      "    define_macros = [('HAVE_CBLAS', None)]\n",
      "blas_opt_info:\n",
      "    define_macros = [('NO_ATLAS_INFO', 1), ('HAVE_CBLAS', None)]\n",
      "    libraries = ['cblas', 'blas', 'cblas', 'blas']\n",
      "    library_dirs = ['/opt/anaconda3/envs/cs2020/lib']\n",
      "    include_dirs = ['/opt/anaconda3/envs/cs2020/include']\n",
      "    language = c\n",
      "lapack_info:\n",
      "    libraries = ['lapack', 'blas', 'lapack', 'blas']\n",
      "    library_dirs = ['/opt/anaconda3/envs/cs2020/lib']\n",
      "    language = f77\n",
      "lapack_opt_info:\n",
      "    libraries = ['lapack', 'blas', 'lapack', 'blas', 'cblas', 'blas', 'cblas', 'blas']\n",
      "    library_dirs = ['/opt/anaconda3/envs/cs2020/lib']\n",
      "    language = c\n",
      "    define_macros = [('NO_ATLAS_INFO', 1), ('HAVE_CBLAS', None)]\n",
      "    include_dirs = ['/opt/anaconda3/envs/cs2020/include']\n",
      "Supported SIMD extensions in this NumPy install:\n",
      "    baseline = SSE,SSE2,SSE3\n",
      "    found = SSSE3,SSE41,POPCNT,SSE42,AVX,F16C,FMA3,AVX2\n",
      "    not found = AVX512F,AVX512CD,AVX512_KNL,AVX512_SKX,AVX512_CLX,AVX512_CNL,AVX512_ICL\n"
     ]
    }
   ],
   "source": [
    "np.__config__.show()"
   ]
  },
  {
   "cell_type": "code",
   "execution_count": 11,
   "id": "82b8154a",
   "metadata": {},
   "outputs": [
    {
     "data": {
      "text/plain": [
       "(25968,)"
      ]
     },
     "execution_count": 11,
     "metadata": {},
     "output_type": "execute_result"
    }
   ],
   "source": [
    "y.shape"
   ]
  },
  {
   "cell_type": "code",
   "execution_count": 27,
   "id": "54637d4b",
   "metadata": {},
   "outputs": [],
   "source": [
    "x1 = np.array([0.1,2])\n",
    "x2 = np.array([[3,4,5],[5,6,7]])"
   ]
  },
  {
   "cell_type": "code",
   "execution_count": 28,
   "id": "7ffd2ded",
   "metadata": {},
   "outputs": [
    {
     "data": {
      "text/plain": [
       "((2,), (1, 2))"
      ]
     },
     "execution_count": 28,
     "metadata": {},
     "output_type": "execute_result"
    }
   ],
   "source": [
    "x1.shape, x1[np.newaxis,:].shape"
   ]
  },
  {
   "cell_type": "code",
   "execution_count": 29,
   "id": "2716ec89",
   "metadata": {},
   "outputs": [
    {
     "data": {
      "text/plain": [
       "array([[14.6, 12.5],\n",
       "       [10.4,  8.3]])"
      ]
     },
     "execution_count": 29,
     "metadata": {},
     "output_type": "execute_result"
    }
   ],
   "source": [
    "correlate(x1[np.newaxis,:],x2,mode='valid')"
   ]
  },
  {
   "cell_type": "code",
   "execution_count": 30,
   "id": "0fe03c80",
   "metadata": {},
   "outputs": [
    {
     "data": {
      "text/plain": [
       "array([14.6, 10.4])"
      ]
     },
     "execution_count": 30,
     "metadata": {},
     "output_type": "execute_result"
    }
   ],
   "source": [
    "np.max(correlate(x1[np.newaxis,:],x2,mode='valid'), axis=1)"
   ]
  }
 ],
 "metadata": {
  "kernelspec": {
   "display_name": "Python 3 (ipykernel)",
   "language": "python",
   "name": "python3"
  },
  "language_info": {
   "codemirror_mode": {
    "name": "ipython",
    "version": 3
   },
   "file_extension": ".py",
   "mimetype": "text/x-python",
   "name": "python",
   "nbconvert_exporter": "python",
   "pygments_lexer": "ipython3",
   "version": "3.9.10"
  }
 },
 "nbformat": 4,
 "nbformat_minor": 5
}
