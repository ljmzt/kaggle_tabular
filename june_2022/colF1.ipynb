{
 "cells": [
  {
   "cell_type": "code",
   "execution_count": 10,
   "id": "bf15665a",
   "metadata": {},
   "outputs": [],
   "source": [
    "import pandas as pd\n",
    "from matplotlib import pyplot as plt\n",
    "import numpy as np\n",
    "from torch.utils.data import DataLoader, Dataset\n",
    "import torch\n",
    "import torch.nn as nn\n",
    "from datetime import datetime\n",
    "from torch.utils.data import random_split\n",
    "from sklearn.preprocessing import minmax_scale"
   ]
  },
  {
   "cell_type": "code",
   "execution_count": 2,
   "id": "ec001ef2",
   "metadata": {},
   "outputs": [
    {
     "data": {
      "text/html": [
       "<div>\n",
       "<style scoped>\n",
       "    .dataframe tbody tr th:only-of-type {\n",
       "        vertical-align: middle;\n",
       "    }\n",
       "\n",
       "    .dataframe tbody tr th {\n",
       "        vertical-align: top;\n",
       "    }\n",
       "\n",
       "    .dataframe thead th {\n",
       "        text-align: right;\n",
       "    }\n",
       "</style>\n",
       "<table border=\"1\" class=\"dataframe\">\n",
       "  <thead>\n",
       "    <tr style=\"text-align: right;\">\n",
       "      <th></th>\n",
       "      <th>row_id</th>\n",
       "      <th>F_1_0</th>\n",
       "      <th>F_1_1</th>\n",
       "      <th>F_1_2</th>\n",
       "      <th>F_1_3</th>\n",
       "      <th>F_1_4</th>\n",
       "      <th>F_1_5</th>\n",
       "      <th>F_1_6</th>\n",
       "      <th>F_1_7</th>\n",
       "      <th>F_1_8</th>\n",
       "      <th>...</th>\n",
       "      <th>F_4_5</th>\n",
       "      <th>F_4_6</th>\n",
       "      <th>F_4_7</th>\n",
       "      <th>F_4_8</th>\n",
       "      <th>F_4_9</th>\n",
       "      <th>F_4_10</th>\n",
       "      <th>F_4_11</th>\n",
       "      <th>F_4_12</th>\n",
       "      <th>F_4_13</th>\n",
       "      <th>F_4_14</th>\n",
       "    </tr>\n",
       "  </thead>\n",
       "  <tbody>\n",
       "    <tr>\n",
       "      <th>0</th>\n",
       "      <td>0</td>\n",
       "      <td>-0.354591</td>\n",
       "      <td>-0.464038</td>\n",
       "      <td>2.304115</td>\n",
       "      <td>0.734486</td>\n",
       "      <td>1.696395</td>\n",
       "      <td>0.136285</td>\n",
       "      <td>-0.518344</td>\n",
       "      <td>0.502640</td>\n",
       "      <td>-1.852504</td>\n",
       "      <td>...</td>\n",
       "      <td>3.744152</td>\n",
       "      <td>0.794438</td>\n",
       "      <td>0.265185</td>\n",
       "      <td>-0.561809</td>\n",
       "      <td>0.196480</td>\n",
       "      <td>0.373434</td>\n",
       "      <td>6.206995</td>\n",
       "      <td>3.809505</td>\n",
       "      <td>1.236486</td>\n",
       "      <td>1.182055</td>\n",
       "    </tr>\n",
       "    <tr>\n",
       "      <th>1</th>\n",
       "      <td>1</td>\n",
       "      <td>1.380940</td>\n",
       "      <td>-0.499626</td>\n",
       "      <td>-0.418548</td>\n",
       "      <td>1.911725</td>\n",
       "      <td>-0.826130</td>\n",
       "      <td>-1.715371</td>\n",
       "      <td>-0.577091</td>\n",
       "      <td>-1.041486</td>\n",
       "      <td>0.596067</td>\n",
       "      <td>...</td>\n",
       "      <td>-2.895826</td>\n",
       "      <td>-0.738275</td>\n",
       "      <td>2.361818</td>\n",
       "      <td>-0.060753</td>\n",
       "      <td>0.727249</td>\n",
       "      <td>-0.271882</td>\n",
       "      <td>5.232157</td>\n",
       "      <td>-4.218259</td>\n",
       "      <td>-2.724883</td>\n",
       "      <td>-0.063775</td>\n",
       "    </tr>\n",
       "    <tr>\n",
       "      <th>2</th>\n",
       "      <td>2</td>\n",
       "      <td>0.256023</td>\n",
       "      <td>-1.059874</td>\n",
       "      <td>NaN</td>\n",
       "      <td>0.345678</td>\n",
       "      <td>1.513814</td>\n",
       "      <td>1.243864</td>\n",
       "      <td>-0.509648</td>\n",
       "      <td>-0.800481</td>\n",
       "      <td>-0.115945</td>\n",
       "      <td>...</td>\n",
       "      <td>2.252834</td>\n",
       "      <td>0.472496</td>\n",
       "      <td>2.491386</td>\n",
       "      <td>0.353381</td>\n",
       "      <td>-0.260682</td>\n",
       "      <td>-0.000833</td>\n",
       "      <td>-0.116457</td>\n",
       "      <td>-2.131747</td>\n",
       "      <td>3.661499</td>\n",
       "      <td>-0.131576</td>\n",
       "    </tr>\n",
       "    <tr>\n",
       "      <th>3</th>\n",
       "      <td>3</td>\n",
       "      <td>-0.728420</td>\n",
       "      <td>-2.432399</td>\n",
       "      <td>-2.453602</td>\n",
       "      <td>-0.020509</td>\n",
       "      <td>0.333397</td>\n",
       "      <td>0.086049</td>\n",
       "      <td>-1.787601</td>\n",
       "      <td>0.667011</td>\n",
       "      <td>0.761564</td>\n",
       "      <td>...</td>\n",
       "      <td>2.004600</td>\n",
       "      <td>-4.664806</td>\n",
       "      <td>-0.847211</td>\n",
       "      <td>-0.264249</td>\n",
       "      <td>0.664334</td>\n",
       "      <td>-0.557868</td>\n",
       "      <td>8.499483</td>\n",
       "      <td>-4.738799</td>\n",
       "      <td>-3.054611</td>\n",
       "      <td>0.494152</td>\n",
       "    </tr>\n",
       "    <tr>\n",
       "      <th>4</th>\n",
       "      <td>4</td>\n",
       "      <td>0.590212</td>\n",
       "      <td>-0.066127</td>\n",
       "      <td>0.468009</td>\n",
       "      <td>-1.096038</td>\n",
       "      <td>0.119399</td>\n",
       "      <td>-1.809710</td>\n",
       "      <td>0.466358</td>\n",
       "      <td>-0.053196</td>\n",
       "      <td>-0.580320</td>\n",
       "      <td>...</td>\n",
       "      <td>0.976937</td>\n",
       "      <td>2.558883</td>\n",
       "      <td>3.377724</td>\n",
       "      <td>0.846891</td>\n",
       "      <td>0.696032</td>\n",
       "      <td>0.554121</td>\n",
       "      <td>-5.979714</td>\n",
       "      <td>-2.869631</td>\n",
       "      <td>3.733057</td>\n",
       "      <td>-0.722943</td>\n",
       "    </tr>\n",
       "  </tbody>\n",
       "</table>\n",
       "<p>5 rows × 81 columns</p>\n",
       "</div>"
      ],
      "text/plain": [
       "   row_id     F_1_0     F_1_1     F_1_2     F_1_3     F_1_4     F_1_5  \\\n",
       "0       0 -0.354591 -0.464038  2.304115  0.734486  1.696395  0.136285   \n",
       "1       1  1.380940 -0.499626 -0.418548  1.911725 -0.826130 -1.715371   \n",
       "2       2  0.256023 -1.059874       NaN  0.345678  1.513814  1.243864   \n",
       "3       3 -0.728420 -2.432399 -2.453602 -0.020509  0.333397  0.086049   \n",
       "4       4  0.590212 -0.066127  0.468009 -1.096038  0.119399 -1.809710   \n",
       "\n",
       "      F_1_6     F_1_7     F_1_8  ...     F_4_5     F_4_6     F_4_7     F_4_8  \\\n",
       "0 -0.518344  0.502640 -1.852504  ...  3.744152  0.794438  0.265185 -0.561809   \n",
       "1 -0.577091 -1.041486  0.596067  ... -2.895826 -0.738275  2.361818 -0.060753   \n",
       "2 -0.509648 -0.800481 -0.115945  ...  2.252834  0.472496  2.491386  0.353381   \n",
       "3 -1.787601  0.667011  0.761564  ...  2.004600 -4.664806 -0.847211 -0.264249   \n",
       "4  0.466358 -0.053196 -0.580320  ...  0.976937  2.558883  3.377724  0.846891   \n",
       "\n",
       "      F_4_9    F_4_10    F_4_11    F_4_12    F_4_13    F_4_14  \n",
       "0  0.196480  0.373434  6.206995  3.809505  1.236486  1.182055  \n",
       "1  0.727249 -0.271882  5.232157 -4.218259 -2.724883 -0.063775  \n",
       "2 -0.260682 -0.000833 -0.116457 -2.131747  3.661499 -0.131576  \n",
       "3  0.664334 -0.557868  8.499483 -4.738799 -3.054611  0.494152  \n",
       "4  0.696032  0.554121 -5.979714 -2.869631  3.733057 -0.722943  \n",
       "\n",
       "[5 rows x 81 columns]"
      ]
     },
     "execution_count": 2,
     "metadata": {},
     "output_type": "execute_result"
    }
   ],
   "source": [
    "data = pd.read_csv('data.csv')\n",
    "data.head()"
   ]
  },
  {
   "cell_type": "code",
   "execution_count": 5,
   "id": "2039620b",
   "metadata": {},
   "outputs": [
    {
     "data": {
      "text/html": [
       "<div>\n",
       "<style scoped>\n",
       "    .dataframe tbody tr th:only-of-type {\n",
       "        vertical-align: middle;\n",
       "    }\n",
       "\n",
       "    .dataframe tbody tr th {\n",
       "        vertical-align: top;\n",
       "    }\n",
       "\n",
       "    .dataframe thead th {\n",
       "        text-align: right;\n",
       "    }\n",
       "</style>\n",
       "<table border=\"1\" class=\"dataframe\">\n",
       "  <thead>\n",
       "    <tr style=\"text-align: right;\">\n",
       "      <th></th>\n",
       "      <th>F_1_0</th>\n",
       "      <th>F_1_1</th>\n",
       "      <th>F_1_2</th>\n",
       "      <th>F_1_3</th>\n",
       "      <th>F_1_4</th>\n",
       "      <th>F_1_5</th>\n",
       "      <th>F_1_6</th>\n",
       "      <th>F_1_7</th>\n",
       "      <th>F_1_8</th>\n",
       "      <th>F_1_9</th>\n",
       "      <th>F_1_10</th>\n",
       "      <th>F_1_11</th>\n",
       "      <th>F_1_12</th>\n",
       "      <th>F_1_13</th>\n",
       "      <th>F_1_14</th>\n",
       "    </tr>\n",
       "  </thead>\n",
       "  <tbody>\n",
       "    <tr>\n",
       "      <th>0</th>\n",
       "      <td>-0.354591</td>\n",
       "      <td>-0.464038</td>\n",
       "      <td>2.304115</td>\n",
       "      <td>0.734486</td>\n",
       "      <td>1.696395</td>\n",
       "      <td>0.136285</td>\n",
       "      <td>-0.518344</td>\n",
       "      <td>0.502640</td>\n",
       "      <td>-1.852504</td>\n",
       "      <td>-0.500665</td>\n",
       "      <td>-1.416075</td>\n",
       "      <td>1.201521</td>\n",
       "      <td>0.551902</td>\n",
       "      <td>-0.759827</td>\n",
       "      <td>NaN</td>\n",
       "    </tr>\n",
       "    <tr>\n",
       "      <th>1</th>\n",
       "      <td>1.380940</td>\n",
       "      <td>-0.499626</td>\n",
       "      <td>-0.418548</td>\n",
       "      <td>1.911725</td>\n",
       "      <td>-0.826130</td>\n",
       "      <td>-1.715371</td>\n",
       "      <td>-0.577091</td>\n",
       "      <td>-1.041486</td>\n",
       "      <td>0.596067</td>\n",
       "      <td>-0.363425</td>\n",
       "      <td>-0.853630</td>\n",
       "      <td>0.674525</td>\n",
       "      <td>0.843058</td>\n",
       "      <td>-0.041438</td>\n",
       "      <td>0.259496</td>\n",
       "    </tr>\n",
       "    <tr>\n",
       "      <th>2</th>\n",
       "      <td>0.256023</td>\n",
       "      <td>-1.059874</td>\n",
       "      <td>NaN</td>\n",
       "      <td>0.345678</td>\n",
       "      <td>1.513814</td>\n",
       "      <td>1.243864</td>\n",
       "      <td>-0.509648</td>\n",
       "      <td>-0.800481</td>\n",
       "      <td>-0.115945</td>\n",
       "      <td>0.595777</td>\n",
       "      <td>-0.073235</td>\n",
       "      <td>-1.381605</td>\n",
       "      <td>-0.108676</td>\n",
       "      <td>0.703693</td>\n",
       "      <td>-0.464042</td>\n",
       "    </tr>\n",
       "    <tr>\n",
       "      <th>3</th>\n",
       "      <td>-0.728420</td>\n",
       "      <td>-2.432399</td>\n",
       "      <td>-2.453602</td>\n",
       "      <td>-0.020509</td>\n",
       "      <td>0.333397</td>\n",
       "      <td>0.086049</td>\n",
       "      <td>-1.787601</td>\n",
       "      <td>0.667011</td>\n",
       "      <td>0.761564</td>\n",
       "      <td>-2.217847</td>\n",
       "      <td>-0.618973</td>\n",
       "      <td>0.742112</td>\n",
       "      <td>0.494157</td>\n",
       "      <td>0.744673</td>\n",
       "      <td>-0.769181</td>\n",
       "    </tr>\n",
       "    <tr>\n",
       "      <th>4</th>\n",
       "      <td>0.590212</td>\n",
       "      <td>-0.066127</td>\n",
       "      <td>0.468009</td>\n",
       "      <td>-1.096038</td>\n",
       "      <td>0.119399</td>\n",
       "      <td>-1.809710</td>\n",
       "      <td>0.466358</td>\n",
       "      <td>-0.053196</td>\n",
       "      <td>-0.580320</td>\n",
       "      <td>-1.143500</td>\n",
       "      <td>1.338692</td>\n",
       "      <td>1.193330</td>\n",
       "      <td>1.038010</td>\n",
       "      <td>-0.763692</td>\n",
       "      <td>0.513466</td>\n",
       "    </tr>\n",
       "  </tbody>\n",
       "</table>\n",
       "</div>"
      ],
      "text/plain": [
       "      F_1_0     F_1_1     F_1_2     F_1_3     F_1_4     F_1_5     F_1_6  \\\n",
       "0 -0.354591 -0.464038  2.304115  0.734486  1.696395  0.136285 -0.518344   \n",
       "1  1.380940 -0.499626 -0.418548  1.911725 -0.826130 -1.715371 -0.577091   \n",
       "2  0.256023 -1.059874       NaN  0.345678  1.513814  1.243864 -0.509648   \n",
       "3 -0.728420 -2.432399 -2.453602 -0.020509  0.333397  0.086049 -1.787601   \n",
       "4  0.590212 -0.066127  0.468009 -1.096038  0.119399 -1.809710  0.466358   \n",
       "\n",
       "      F_1_7     F_1_8     F_1_9    F_1_10    F_1_11    F_1_12    F_1_13  \\\n",
       "0  0.502640 -1.852504 -0.500665 -1.416075  1.201521  0.551902 -0.759827   \n",
       "1 -1.041486  0.596067 -0.363425 -0.853630  0.674525  0.843058 -0.041438   \n",
       "2 -0.800481 -0.115945  0.595777 -0.073235 -1.381605 -0.108676  0.703693   \n",
       "3  0.667011  0.761564 -2.217847 -0.618973  0.742112  0.494157  0.744673   \n",
       "4 -0.053196 -0.580320 -1.143500  1.338692  1.193330  1.038010 -0.763692   \n",
       "\n",
       "     F_1_14  \n",
       "0       NaN  \n",
       "1  0.259496  \n",
       "2 -0.464042  \n",
       "3 -0.769181  \n",
       "4  0.513466  "
      ]
     },
     "execution_count": 5,
     "metadata": {},
     "output_type": "execute_result"
    }
   ],
   "source": [
    "colF1 = [col for col in data.columns if col[0:3]=='F_1']\n",
    "data = data[colF1]\n",
    "data.head()"
   ]
  },
  {
   "cell_type": "code",
   "execution_count": 7,
   "id": "8666e9cd",
   "metadata": {},
   "outputs": [
    {
     "data": {
      "text/plain": [
       "(-0.0006874779987428729, 1.000784078063498)"
      ]
     },
     "execution_count": 7,
     "metadata": {},
     "output_type": "execute_result"
    }
   ],
   "source": [
    "data['F_1_0'].mean(), data['F_1_0'].std()"
   ]
  },
  {
   "cell_type": "code",
   "execution_count": 8,
   "id": "5b744da4",
   "metadata": {},
   "outputs": [
    {
     "data": {
      "image/png": "[encoded data removed]",
      "text/plain": [
       "<Figure size 432x288 with 1 Axes>"
      ]
     },
     "metadata": {
      "needs_background": "light"
     },
     "output_type": "display_data"
    }
   ],
   "source": [
    "plt.hist(data.values[:,0]);"
   ]
  },
  {
   "cell_type": "code",
   "execution_count": 11,
   "id": "9428b8a9",
   "metadata": {},
   "outputs": [
    {
     "data": {
      "image/png": "[encoded data removed]",
      "text/plain": [
       "<Figure size 432x288 with 1 Axes>"
      ]
     },
     "metadata": {
      "needs_background": "light"
     },
     "output_type": "display_data"
    }
   ],
   "source": [
    "X_norm = minmax_scale(data.values, feature_range=(-1,1), axis=0)\n",
    "plt.hist(X_norm[:,0]);"
   ]
  },
  {
   "cell_type": "code",
   "execution_count": 12,
   "id": "c9a39542",
   "metadata": {},
   "outputs": [
    {
     "data": {
      "text/plain": [
       "(759506, 15)"
      ]
     },
     "execution_count": 12,
     "metadata": {},
     "output_type": "execute_result"
    }
   ],
   "source": [
    "X = X_norm[np.sum(np.isnan(X_norm), axis=1)==0]\n",
    "X.shape"
   ]
  },
  {
   "cell_type": "code",
   "execution_count": 13,
   "id": "ad46d14c",
   "metadata": {},
   "outputs": [
    {
     "data": {
      "image/png": "[encoded data removed]",
      "text/plain": [
       "<Figure size 432x288 with 1 Axes>"
      ]
     },
     "metadata": {
      "needs_background": "light"
     },
     "output_type": "display_data"
    }
   ],
   "source": [
    "plt.hist(X[:,0]);"
   ]
  },
  {
   "cell_type": "code",
   "execution_count": 14,
   "id": "8be02e9b",
   "metadata": {},
   "outputs": [],
   "source": [
    "class MyDataset(Dataset):\n",
    "    def __init__(self, X, icol):\n",
    "        self.X = X\n",
    "        self.icol = icol\n",
    "    \n",
    "    def __len__(self):\n",
    "        return len(self.X)\n",
    "    \n",
    "    def __getitem__(self, idx):\n",
    "        return torch.Tensor(np.hstack((self.X[idx,:self.icol], self.X[idx,(self.icol+1):]))), torch.Tensor([self.X[idx,self.icol]])"
   ]
  },
  {
   "cell_type": "code",
   "execution_count": 15,
   "id": "a1278dde",
   "metadata": {},
   "outputs": [],
   "source": [
    "class Model(nn.Module):\n",
    "    def __init__(self, input_dim=14, hidden_dim=128):\n",
    "        super().__init__()\n",
    "        self.fc1 = nn.Linear(input_dim, hidden_dim*4)\n",
    "        self.bn1 = nn.BatchNorm1d(hidden_dim*4)\n",
    "        self.fc2 = nn.Linear(hidden_dim*4, hidden_dim*2)\n",
    "        self.bn2 = nn.BatchNorm1d(hidden_dim*2)\n",
    "        self.fc3 = nn.Linear(hidden_dim*2, hidden_dim)\n",
    "        self.bn3 = nn.BatchNorm1d(hidden_dim)\n",
    "        self.fc4 = nn.Linear(hidden_dim, 1)\n",
    "        self.activation = nn.ReLU()\n",
    "    def forward(self, x):\n",
    "        x = self.bn1(self.activation(self.fc1(x)))\n",
    "        x = self.bn2(self.activation(self.fc2(x)))\n",
    "        x = self.bn3(self.activation(self.fc3(x)))\n",
    "        return nn.Tanh()(self.fc4(x))"
   ]
  },
  {
   "cell_type": "code",
   "execution_count": 16,
   "id": "77635f53",
   "metadata": {},
   "outputs": [],
   "source": [
    "def val(model, dataloader):\n",
    "    criteria = nn.MSELoss()\n",
    "    model.eval()\n",
    "    with torch.no_grad():\n",
    "        loss_mean = 0\n",
    "        for X, y in dataloader:\n",
    "            predict = model(X)\n",
    "            loss = criteria(predict, y)\n",
    "            loss_mean += loss.item() * X.shape[0]\n",
    "    return loss_mean / len(dataloader.dataset)"
   ]
  },
  {
   "cell_type": "code",
   "execution_count": 19,
   "id": "4ebb5461",
   "metadata": {},
   "outputs": [],
   "source": [
    "def train(dataset, savename, xmean, epoches=1000, earlystop_patience=10):\n",
    "    model = Model()\n",
    "    \n",
    "    n = len(dataset)\n",
    "    n1 = int(0.9*n)\n",
    "    n2 = n - n1\n",
    "    train_dataset, val_dataset = random_split(dataset, [n1,n2])\n",
    "    train_dataloader = DataLoader(train_dataset, batch_size=1024, shuffle=True, drop_last=True)\n",
    "    val_dataloader = DataLoader(val_dataset, batch_size=1024, shuffle=False, drop_last=False)\n",
    "    optimizer = torch.optim.Adam(model.parameters(), lr=1e-2)\n",
    "    scheduler = torch.optim.lr_scheduler.ReduceLROnPlateau(optimizer, 'min', patience=5)\n",
    "    criteria = nn.MSELoss()\n",
    "    \n",
    "    for X, y in test_dataloader:\n",
    "        predict = (xmea)\n",
    "        \n",
    "    print(f'starting loss={val(model, train_dataloader)}')\n",
    "    \n",
    "    val_loss_min = 100.\n",
    "    best_epoch = 0\n",
    "    \n",
    "    for epoch in range(epoches):\n",
    "        \n",
    "        print(f'lr={optimizer.param_groups[0][\"lr\"]}')\n",
    "        \n",
    "        if epoch - best_epoch > earlystop_patience:\n",
    "            print('early stop')\n",
    "            break\n",
    "        \n",
    "        model.train()\n",
    "\n",
    "        loss_mean = 0\n",
    "        for X, y in train_dataloader:\n",
    "            predict = model(X)\n",
    "            loss = criteria(predict, y)\n",
    "            optimizer.zero_grad()\n",
    "            loss.backward()\n",
    "            optimizer.step()\n",
    "            loss_mean += loss.item() * X.shape[0]\n",
    "        \n",
    "        loss_mean /= len(train_dataloader.dataset)\n",
    "        val_loss = val(model, val_dataloader)\n",
    "        print(f\"{datetime.now().strftime('%H:%M:%S')}-epoch {epoch}: training loss={loss_mean}, validation loss={val_loss}\")\n",
    "        scheduler.step(val_loss)\n",
    "        \n",
    "        if val_loss < val_loss_min:\n",
    "            val_loss_min = val_loss\n",
    "            best_epoch = epoch\n",
    "            torch.save({'model':model.state_dict()}, savename)"
   ]
  },
  {
   "cell_type": "code",
   "execution_count": 45,
   "id": "e2f75fc7",
   "metadata": {},
   "outputs": [
    {
     "name": "stdout",
     "output_type": "stream",
     "text": [
      "-0.038940545705351715\n",
      "ref=0.042569910975904054\n"
     ]
    }
   ],
   "source": [
    "icol = 0\n",
    "mean_X = X[:,icol].mean()\n",
    "print(mean_X)\n",
    "print(f\"ref={np.mean(np.square(X[:,icol] - mean_X))}\")"
   ]
  },
  {
   "cell_type": "code",
   "execution_count": null,
   "id": "e5de5243",
   "metadata": {},
   "outputs": [],
   "source": [
    "mydataset = MyDataset(X, icol)\n",
    "train(mydataset, f'model_dum_{icol}.pickle', xmean)"
   ]
  },
  {
   "cell_type": "code",
   "execution_count": 35,
   "id": "b56e6794",
   "metadata": {},
   "outputs": [
    {
     "data": {
      "text/plain": [
       "array([1, 2, 3, 4, 5, 6, 1])"
      ]
     },
     "execution_count": 35,
     "metadata": {},
     "output_type": "execute_result"
    }
   ],
   "source": [
    "np.hstack(([1,2,3],[4,5,6],[1]))"
   ]
  },
  {
   "cell_type": "code",
   "execution_count": 46,
   "id": "668f47c4",
   "metadata": {},
   "outputs": [],
   "source": [
    "class MyDataset(Dataset):\n",
    "    def __init__(self, X, icol):\n",
    "        self.X = X\n",
    "        self.icol = icol\n",
    "        self.meanX = np.mean(self.X[:,icol])\n",
    "    \n",
    "    def __len__(self):\n",
    "        return len(self.X)\n",
    "    \n",
    "    def __getitem__(self, idx):\n",
    "        return torch.Tensor(np.hstack((self.X[idx,:self.icol], self.X[idx,(self.icol+1):], self.meanX))),\\\n",
    "               torch.Tensor([self.X[idx,self.icol]])"
   ]
  },
  {
   "cell_type": "code",
   "execution_count": 47,
   "id": "dea1ee72",
   "metadata": {},
   "outputs": [
    {
     "data": {
      "text/plain": [
       "(tensor([-0.1273, -0.1096,  0.3247, -0.1121, -0.2754, -0.0899,  0.2500,  0.0923,\n",
       "         -0.0529, -0.1881,  0.1213,  0.6887,  0.4524,  0.0353, -0.0389]),\n",
       " tensor([0.2460]))"
      ]
     },
     "execution_count": 47,
     "metadata": {},
     "output_type": "execute_result"
    }
   ],
   "source": [
    "mydataset = MyDataset(X, icol)\n",
    "mydataset[0]"
   ]
  },
  {
   "cell_type": "code",
   "execution_count": 48,
   "id": "a6eab450",
   "metadata": {},
   "outputs": [],
   "source": [
    "class Model(nn.Module):\n",
    "    def __init__(self, input_dim=15, hidden_dim=128):\n",
    "        super().__init__()\n",
    "        self.fc1 = nn.Linear(input_dim, hidden_dim*4)\n",
    "        self.bn1 = nn.BatchNorm1d(hidden_dim*4)\n",
    "        self.fc2 = nn.Linear(hidden_dim*4, hidden_dim*2)\n",
    "        self.bn2 = nn.BatchNorm1d(hidden_dim*2)\n",
    "        self.fc3 = nn.Linear(hidden_dim*2, hidden_dim)\n",
    "        self.bn3 = nn.BatchNorm1d(hidden_dim)\n",
    "        self.fc4 = nn.Linear(hidden_dim, 1)\n",
    "        self.activation = nn.ReLU()\n",
    "    def forward(self, x):\n",
    "        x = self.bn1(self.activation(self.fc1(x)))\n",
    "        x = self.bn2(self.activation(self.fc2(x)))\n",
    "        x = self.bn3(self.activation(self.fc3(x)))\n",
    "        return nn.Tanh()(self.fc4(x))"
   ]
  },
  {
   "cell_type": "code",
   "execution_count": 50,
   "id": "3a38d3f0",
   "metadata": {},
   "outputs": [
    {
     "name": "stdout",
     "output_type": "stream",
     "text": [
      "starting loss=0.045200412295782\n",
      "lr=0.01\n",
      "17:58:30-epoch 0: training loss=0.04837054455837761, validation loss=0.043231605150416595\n",
      "lr=0.01\n",
      "17:59:25-epoch 1: training loss=0.043252721610526436, validation loss=0.042951291876129775\n",
      "lr=0.01\n",
      "18:00:21-epoch 2: training loss=0.04284872158896093, validation loss=0.0425890562084588\n",
      "lr=0.01\n",
      "18:01:16-epoch 3: training loss=0.042657227101146604, validation loss=0.0424918020110384\n",
      "lr=0.01\n",
      "18:02:12-epoch 4: training loss=0.042590373903043176, validation loss=0.042521536229590685\n",
      "lr=0.01\n",
      "18:03:07-epoch 5: training loss=0.04257868905541139, validation loss=0.0424582593887446\n",
      "lr=0.01\n",
      "18:04:06-epoch 6: training loss=0.04257852583187323, validation loss=0.04246731408490615\n",
      "lr=0.01\n",
      "18:05:01-epoch 7: training loss=0.04257633552356225, validation loss=0.042466385126719346\n",
      "lr=0.01\n",
      "18:05:54-epoch 8: training loss=0.04257686606144867, validation loss=0.04246721429312393\n",
      "lr=0.01\n",
      "18:06:47-epoch 9: training loss=0.0426098392810056, validation loss=0.04249270587311609\n",
      "lr=0.01\n",
      "18:07:41-epoch 10: training loss=0.04258748684764731, validation loss=0.04246698398286716\n",
      "lr=0.01\n",
      "18:08:33-epoch 11: training loss=0.042600552130672924, validation loss=0.042497782938788496\n",
      "lr=0.001\n",
      "18:09:26-epoch 12: training loss=0.042551724413062084, validation loss=0.04246468300076864\n",
      "lr=0.001\n",
      "18:10:19-epoch 13: training loss=0.04254895316222175, validation loss=0.04246429096550254\n",
      "lr=0.001\n"
     ]
    },
    {
     "ename": "KeyboardInterrupt",
     "evalue": "",
     "output_type": "error",
     "traceback": [
      "\u001b[0;31m---------------------------------------------------------------------------\u001b[0m",
      "\u001b[0;31mKeyboardInterrupt\u001b[0m                         Traceback (most recent call last)",
      "Input \u001b[0;32mIn [50]\u001b[0m, in \u001b[0;36m<cell line: 3>\u001b[0;34m()\u001b[0m\n\u001b[1;32m      1\u001b[0m icol \u001b[38;5;241m=\u001b[39m \u001b[38;5;241m0\u001b[39m\n\u001b[1;32m      2\u001b[0m mydataset \u001b[38;5;241m=\u001b[39m MyDataset(X, icol)\n\u001b[0;32m----> 3\u001b[0m \u001b[43mtrain\u001b[49m\u001b[43m(\u001b[49m\u001b[43mmydataset\u001b[49m\u001b[43m,\u001b[49m\u001b[43m \u001b[49m\u001b[38;5;124;43mf\u001b[39;49m\u001b[38;5;124;43m'\u001b[39;49m\u001b[38;5;124;43mmodel_dum_\u001b[39;49m\u001b[38;5;132;43;01m{\u001b[39;49;00m\u001b[43micol\u001b[49m\u001b[38;5;132;43;01m}\u001b[39;49;00m\u001b[38;5;124;43m.pickle\u001b[39;49m\u001b[38;5;124;43m'\u001b[39;49m\u001b[43m)\u001b[49m\n",
      "Input \u001b[0;32mIn [19]\u001b[0m, in \u001b[0;36mtrain\u001b[0;34m(dataset, savename, epoches, earlystop_patience)\u001b[0m\n\u001b[1;32m     33\u001b[0m     optimizer\u001b[38;5;241m.\u001b[39mzero_grad()\n\u001b[1;32m     34\u001b[0m     loss\u001b[38;5;241m.\u001b[39mbackward()\n\u001b[0;32m---> 35\u001b[0m     \u001b[43moptimizer\u001b[49m\u001b[38;5;241;43m.\u001b[39;49m\u001b[43mstep\u001b[49m\u001b[43m(\u001b[49m\u001b[43m)\u001b[49m\n\u001b[1;32m     36\u001b[0m     loss_mean \u001b[38;5;241m+\u001b[39m\u001b[38;5;241m=\u001b[39m loss\u001b[38;5;241m.\u001b[39mitem() \u001b[38;5;241m*\u001b[39m X\u001b[38;5;241m.\u001b[39mshape[\u001b[38;5;241m0\u001b[39m]\n\u001b[1;32m     38\u001b[0m loss_mean \u001b[38;5;241m/\u001b[39m\u001b[38;5;241m=\u001b[39m \u001b[38;5;28mlen\u001b[39m(train_dataloader\u001b[38;5;241m.\u001b[39mdataset)\n",
      "File \u001b[0;32m/opt/anaconda3/envs/cs2020/lib/python3.9/site-packages/torch/optim/optimizer.py:88\u001b[0m, in \u001b[0;36mOptimizer._hook_for_profile.<locals>.profile_hook_step.<locals>.wrapper\u001b[0;34m(*args, **kwargs)\u001b[0m\n\u001b[1;32m     86\u001b[0m profile_name \u001b[38;5;241m=\u001b[39m \u001b[38;5;124m\"\u001b[39m\u001b[38;5;124mOptimizer.step#\u001b[39m\u001b[38;5;132;01m{}\u001b[39;00m\u001b[38;5;124m.step\u001b[39m\u001b[38;5;124m\"\u001b[39m\u001b[38;5;241m.\u001b[39mformat(obj\u001b[38;5;241m.\u001b[39m\u001b[38;5;18m__class__\u001b[39m\u001b[38;5;241m.\u001b[39m\u001b[38;5;18m__name__\u001b[39m)\n\u001b[1;32m     87\u001b[0m \u001b[38;5;28;01mwith\u001b[39;00m torch\u001b[38;5;241m.\u001b[39mautograd\u001b[38;5;241m.\u001b[39mprofiler\u001b[38;5;241m.\u001b[39mrecord_function(profile_name):\n\u001b[0;32m---> 88\u001b[0m     \u001b[38;5;28;01mreturn\u001b[39;00m \u001b[43mfunc\u001b[49m\u001b[43m(\u001b[49m\u001b[38;5;241;43m*\u001b[39;49m\u001b[43margs\u001b[49m\u001b[43m,\u001b[49m\u001b[43m \u001b[49m\u001b[38;5;241;43m*\u001b[39;49m\u001b[38;5;241;43m*\u001b[39;49m\u001b[43mkwargs\u001b[49m\u001b[43m)\u001b[49m\n",
      "File \u001b[0;32m/opt/anaconda3/envs/cs2020/lib/python3.9/site-packages/torch/autograd/grad_mode.py:28\u001b[0m, in \u001b[0;36m_DecoratorContextManager.__call__.<locals>.decorate_context\u001b[0;34m(*args, **kwargs)\u001b[0m\n\u001b[1;32m     25\u001b[0m \u001b[38;5;129m@functools\u001b[39m\u001b[38;5;241m.\u001b[39mwraps(func)\n\u001b[1;32m     26\u001b[0m \u001b[38;5;28;01mdef\u001b[39;00m \u001b[38;5;21mdecorate_context\u001b[39m(\u001b[38;5;241m*\u001b[39margs, \u001b[38;5;241m*\u001b[39m\u001b[38;5;241m*\u001b[39mkwargs):\n\u001b[1;32m     27\u001b[0m     \u001b[38;5;28;01mwith\u001b[39;00m \u001b[38;5;28mself\u001b[39m\u001b[38;5;241m.\u001b[39m\u001b[38;5;18m__class__\u001b[39m():\n\u001b[0;32m---> 28\u001b[0m         \u001b[38;5;28;01mreturn\u001b[39;00m \u001b[43mfunc\u001b[49m\u001b[43m(\u001b[49m\u001b[38;5;241;43m*\u001b[39;49m\u001b[43margs\u001b[49m\u001b[43m,\u001b[49m\u001b[43m \u001b[49m\u001b[38;5;241;43m*\u001b[39;49m\u001b[38;5;241;43m*\u001b[39;49m\u001b[43mkwargs\u001b[49m\u001b[43m)\u001b[49m\n",
      "File \u001b[0;32m/opt/anaconda3/envs/cs2020/lib/python3.9/site-packages/torch/optim/adam.py:133\u001b[0m, in \u001b[0;36mAdam.step\u001b[0;34m(self, closure)\u001b[0m\n\u001b[1;32m    130\u001b[0m             \u001b[38;5;66;03m# record the step after step update\u001b[39;00m\n\u001b[1;32m    131\u001b[0m             state_steps\u001b[38;5;241m.\u001b[39mappend(state[\u001b[38;5;124m'\u001b[39m\u001b[38;5;124mstep\u001b[39m\u001b[38;5;124m'\u001b[39m])\n\u001b[0;32m--> 133\u001b[0m     \u001b[43mF\u001b[49m\u001b[38;5;241;43m.\u001b[39;49m\u001b[43madam\u001b[49m\u001b[43m(\u001b[49m\u001b[43mparams_with_grad\u001b[49m\u001b[43m,\u001b[49m\n\u001b[1;32m    134\u001b[0m \u001b[43m           \u001b[49m\u001b[43mgrads\u001b[49m\u001b[43m,\u001b[49m\n\u001b[1;32m    135\u001b[0m \u001b[43m           \u001b[49m\u001b[43mexp_avgs\u001b[49m\u001b[43m,\u001b[49m\n\u001b[1;32m    136\u001b[0m \u001b[43m           \u001b[49m\u001b[43mexp_avg_sqs\u001b[49m\u001b[43m,\u001b[49m\n\u001b[1;32m    137\u001b[0m \u001b[43m           \u001b[49m\u001b[43mmax_exp_avg_sqs\u001b[49m\u001b[43m,\u001b[49m\n\u001b[1;32m    138\u001b[0m \u001b[43m           \u001b[49m\u001b[43mstate_steps\u001b[49m\u001b[43m,\u001b[49m\n\u001b[1;32m    139\u001b[0m \u001b[43m           \u001b[49m\u001b[43mamsgrad\u001b[49m\u001b[38;5;241;43m=\u001b[39;49m\u001b[43mgroup\u001b[49m\u001b[43m[\u001b[49m\u001b[38;5;124;43m'\u001b[39;49m\u001b[38;5;124;43mamsgrad\u001b[39;49m\u001b[38;5;124;43m'\u001b[39;49m\u001b[43m]\u001b[49m\u001b[43m,\u001b[49m\n\u001b[1;32m    140\u001b[0m \u001b[43m           \u001b[49m\u001b[43mbeta1\u001b[49m\u001b[38;5;241;43m=\u001b[39;49m\u001b[43mbeta1\u001b[49m\u001b[43m,\u001b[49m\n\u001b[1;32m    141\u001b[0m \u001b[43m           \u001b[49m\u001b[43mbeta2\u001b[49m\u001b[38;5;241;43m=\u001b[39;49m\u001b[43mbeta2\u001b[49m\u001b[43m,\u001b[49m\n\u001b[1;32m    142\u001b[0m \u001b[43m           \u001b[49m\u001b[43mlr\u001b[49m\u001b[38;5;241;43m=\u001b[39;49m\u001b[43mgroup\u001b[49m\u001b[43m[\u001b[49m\u001b[38;5;124;43m'\u001b[39;49m\u001b[38;5;124;43mlr\u001b[39;49m\u001b[38;5;124;43m'\u001b[39;49m\u001b[43m]\u001b[49m\u001b[43m,\u001b[49m\n\u001b[1;32m    143\u001b[0m \u001b[43m           \u001b[49m\u001b[43mweight_decay\u001b[49m\u001b[38;5;241;43m=\u001b[39;49m\u001b[43mgroup\u001b[49m\u001b[43m[\u001b[49m\u001b[38;5;124;43m'\u001b[39;49m\u001b[38;5;124;43mweight_decay\u001b[39;49m\u001b[38;5;124;43m'\u001b[39;49m\u001b[43m]\u001b[49m\u001b[43m,\u001b[49m\n\u001b[1;32m    144\u001b[0m \u001b[43m           \u001b[49m\u001b[43meps\u001b[49m\u001b[38;5;241;43m=\u001b[39;49m\u001b[43mgroup\u001b[49m\u001b[43m[\u001b[49m\u001b[38;5;124;43m'\u001b[39;49m\u001b[38;5;124;43meps\u001b[39;49m\u001b[38;5;124;43m'\u001b[39;49m\u001b[43m]\u001b[49m\u001b[43m)\u001b[49m\n\u001b[1;32m    145\u001b[0m \u001b[38;5;28;01mreturn\u001b[39;00m loss\n",
      "File \u001b[0;32m/opt/anaconda3/envs/cs2020/lib/python3.9/site-packages/torch/optim/_functional.py:86\u001b[0m, in \u001b[0;36madam\u001b[0;34m(params, grads, exp_avgs, exp_avg_sqs, max_exp_avg_sqs, state_steps, amsgrad, beta1, beta2, lr, weight_decay, eps)\u001b[0m\n\u001b[1;32m     83\u001b[0m     grad \u001b[38;5;241m=\u001b[39m grad\u001b[38;5;241m.\u001b[39madd(param, alpha\u001b[38;5;241m=\u001b[39mweight_decay)\n\u001b[1;32m     85\u001b[0m \u001b[38;5;66;03m# Decay the first and second moment running average coefficient\u001b[39;00m\n\u001b[0;32m---> 86\u001b[0m \u001b[43mexp_avg\u001b[49m\u001b[38;5;241;43m.\u001b[39;49m\u001b[43mmul_\u001b[49m\u001b[43m(\u001b[49m\u001b[43mbeta1\u001b[49m\u001b[43m)\u001b[49m\u001b[38;5;241m.\u001b[39madd_(grad, alpha\u001b[38;5;241m=\u001b[39m\u001b[38;5;241m1\u001b[39m \u001b[38;5;241m-\u001b[39m beta1)\n\u001b[1;32m     87\u001b[0m exp_avg_sq\u001b[38;5;241m.\u001b[39mmul_(beta2)\u001b[38;5;241m.\u001b[39maddcmul_(grad, grad\u001b[38;5;241m.\u001b[39mconj(), value\u001b[38;5;241m=\u001b[39m\u001b[38;5;241m1\u001b[39m \u001b[38;5;241m-\u001b[39m beta2)\n\u001b[1;32m     88\u001b[0m \u001b[38;5;28;01mif\u001b[39;00m amsgrad:\n\u001b[1;32m     89\u001b[0m     \u001b[38;5;66;03m# Maintains the maximum of all 2nd moment running avg. till now\u001b[39;00m\n",
      "\u001b[0;31mKeyboardInterrupt\u001b[0m: "
     ]
    }
   ],
   "source": [
    "icol = 0\n",
    "mydataset = MyDataset(X, icol)\n",
    "train(mydataset, f'model_dum_{icol}.pickle')"
   ]
  },
  {
   "cell_type": "markdown",
   "id": "415b1139",
   "metadata": {},
   "source": [
    "### so this indeed cannot be predicted by the other columns, what about rows??"
   ]
  },
  {
   "cell_type": "code",
   "execution_count": 51,
   "id": "c971fdfc",
   "metadata": {},
   "outputs": [
    {
     "data": {
      "text/html": [
       "<div>\n",
       "<style scoped>\n",
       "    .dataframe tbody tr th:only-of-type {\n",
       "        vertical-align: middle;\n",
       "    }\n",
       "\n",
       "    .dataframe tbody tr th {\n",
       "        vertical-align: top;\n",
       "    }\n",
       "\n",
       "    .dataframe thead th {\n",
       "        text-align: right;\n",
       "    }\n",
       "</style>\n",
       "<table border=\"1\" class=\"dataframe\">\n",
       "  <thead>\n",
       "    <tr style=\"text-align: right;\">\n",
       "      <th></th>\n",
       "      <th>F_1_0</th>\n",
       "      <th>F_1_1</th>\n",
       "      <th>F_1_2</th>\n",
       "      <th>F_1_3</th>\n",
       "      <th>F_1_4</th>\n",
       "      <th>F_1_5</th>\n",
       "      <th>F_1_6</th>\n",
       "      <th>F_1_7</th>\n",
       "      <th>F_1_8</th>\n",
       "      <th>F_1_9</th>\n",
       "      <th>F_1_10</th>\n",
       "      <th>F_1_11</th>\n",
       "      <th>F_1_12</th>\n",
       "      <th>F_1_13</th>\n",
       "      <th>F_1_14</th>\n",
       "    </tr>\n",
       "  </thead>\n",
       "  <tbody>\n",
       "    <tr>\n",
       "      <th>0</th>\n",
       "      <td>-0.354591</td>\n",
       "      <td>-0.464038</td>\n",
       "      <td>2.304115</td>\n",
       "      <td>0.734486</td>\n",
       "      <td>1.696395</td>\n",
       "      <td>0.136285</td>\n",
       "      <td>-0.518344</td>\n",
       "      <td>0.502640</td>\n",
       "      <td>-1.852504</td>\n",
       "      <td>-0.500665</td>\n",
       "      <td>-1.416075</td>\n",
       "      <td>1.201521</td>\n",
       "      <td>0.551902</td>\n",
       "      <td>-0.759827</td>\n",
       "      <td>NaN</td>\n",
       "    </tr>\n",
       "    <tr>\n",
       "      <th>1</th>\n",
       "      <td>1.380940</td>\n",
       "      <td>-0.499626</td>\n",
       "      <td>-0.418548</td>\n",
       "      <td>1.911725</td>\n",
       "      <td>-0.826130</td>\n",
       "      <td>-1.715371</td>\n",
       "      <td>-0.577091</td>\n",
       "      <td>-1.041486</td>\n",
       "      <td>0.596067</td>\n",
       "      <td>-0.363425</td>\n",
       "      <td>-0.853630</td>\n",
       "      <td>0.674525</td>\n",
       "      <td>0.843058</td>\n",
       "      <td>-0.041438</td>\n",
       "      <td>0.259496</td>\n",
       "    </tr>\n",
       "    <tr>\n",
       "      <th>2</th>\n",
       "      <td>0.256023</td>\n",
       "      <td>-1.059874</td>\n",
       "      <td>NaN</td>\n",
       "      <td>0.345678</td>\n",
       "      <td>1.513814</td>\n",
       "      <td>1.243864</td>\n",
       "      <td>-0.509648</td>\n",
       "      <td>-0.800481</td>\n",
       "      <td>-0.115945</td>\n",
       "      <td>0.595777</td>\n",
       "      <td>-0.073235</td>\n",
       "      <td>-1.381605</td>\n",
       "      <td>-0.108676</td>\n",
       "      <td>0.703693</td>\n",
       "      <td>-0.464042</td>\n",
       "    </tr>\n",
       "    <tr>\n",
       "      <th>3</th>\n",
       "      <td>-0.728420</td>\n",
       "      <td>-2.432399</td>\n",
       "      <td>-2.453602</td>\n",
       "      <td>-0.020509</td>\n",
       "      <td>0.333397</td>\n",
       "      <td>0.086049</td>\n",
       "      <td>-1.787601</td>\n",
       "      <td>0.667011</td>\n",
       "      <td>0.761564</td>\n",
       "      <td>-2.217847</td>\n",
       "      <td>-0.618973</td>\n",
       "      <td>0.742112</td>\n",
       "      <td>0.494157</td>\n",
       "      <td>0.744673</td>\n",
       "      <td>-0.769181</td>\n",
       "    </tr>\n",
       "    <tr>\n",
       "      <th>4</th>\n",
       "      <td>0.590212</td>\n",
       "      <td>-0.066127</td>\n",
       "      <td>0.468009</td>\n",
       "      <td>-1.096038</td>\n",
       "      <td>0.119399</td>\n",
       "      <td>-1.809710</td>\n",
       "      <td>0.466358</td>\n",
       "      <td>-0.053196</td>\n",
       "      <td>-0.580320</td>\n",
       "      <td>-1.143500</td>\n",
       "      <td>1.338692</td>\n",
       "      <td>1.193330</td>\n",
       "      <td>1.038010</td>\n",
       "      <td>-0.763692</td>\n",
       "      <td>0.513466</td>\n",
       "    </tr>\n",
       "    <tr>\n",
       "      <th>...</th>\n",
       "      <td>...</td>\n",
       "      <td>...</td>\n",
       "      <td>...</td>\n",
       "      <td>...</td>\n",
       "      <td>...</td>\n",
       "      <td>...</td>\n",
       "      <td>...</td>\n",
       "      <td>...</td>\n",
       "      <td>...</td>\n",
       "      <td>...</td>\n",
       "      <td>...</td>\n",
       "      <td>...</td>\n",
       "      <td>...</td>\n",
       "      <td>...</td>\n",
       "      <td>...</td>\n",
       "    </tr>\n",
       "    <tr>\n",
       "      <th>999995</th>\n",
       "      <td>-0.823740</td>\n",
       "      <td>0.285673</td>\n",
       "      <td>0.343307</td>\n",
       "      <td>-0.436747</td>\n",
       "      <td>1.700549</td>\n",
       "      <td>-1.069432</td>\n",
       "      <td>0.819698</td>\n",
       "      <td>-0.168457</td>\n",
       "      <td>-0.429074</td>\n",
       "      <td>0.844075</td>\n",
       "      <td>0.569298</td>\n",
       "      <td>0.235662</td>\n",
       "      <td>0.540328</td>\n",
       "      <td>-0.262106</td>\n",
       "      <td>-1.566722</td>\n",
       "    </tr>\n",
       "    <tr>\n",
       "      <th>999996</th>\n",
       "      <td>-0.769106</td>\n",
       "      <td>-0.387363</td>\n",
       "      <td>-1.227469</td>\n",
       "      <td>0.601183</td>\n",
       "      <td>0.351161</td>\n",
       "      <td>0.219475</td>\n",
       "      <td>-0.530277</td>\n",
       "      <td>0.853452</td>\n",
       "      <td>0.608646</td>\n",
       "      <td>1.648023</td>\n",
       "      <td>-0.040150</td>\n",
       "      <td>-1.235223</td>\n",
       "      <td>0.834497</td>\n",
       "      <td>1.385112</td>\n",
       "      <td>-1.575306</td>\n",
       "    </tr>\n",
       "    <tr>\n",
       "      <th>999997</th>\n",
       "      <td>0.147534</td>\n",
       "      <td>-0.715276</td>\n",
       "      <td>-0.465049</td>\n",
       "      <td>-1.988941</td>\n",
       "      <td>-1.594535</td>\n",
       "      <td>-1.044882</td>\n",
       "      <td>3.159455</td>\n",
       "      <td>-0.634108</td>\n",
       "      <td>0.890382</td>\n",
       "      <td>-1.212444</td>\n",
       "      <td>-0.874219</td>\n",
       "      <td>0.926165</td>\n",
       "      <td>-0.970726</td>\n",
       "      <td>-1.832919</td>\n",
       "      <td>0.860467</td>\n",
       "    </tr>\n",
       "    <tr>\n",
       "      <th>999998</th>\n",
       "      <td>-1.709886</td>\n",
       "      <td>-0.813785</td>\n",
       "      <td>-1.866536</td>\n",
       "      <td>-0.179420</td>\n",
       "      <td>2.231478</td>\n",
       "      <td>1.460122</td>\n",
       "      <td>-0.220585</td>\n",
       "      <td>-0.118496</td>\n",
       "      <td>-0.140064</td>\n",
       "      <td>1.362596</td>\n",
       "      <td>-1.469418</td>\n",
       "      <td>0.984130</td>\n",
       "      <td>-1.502292</td>\n",
       "      <td>-0.404490</td>\n",
       "      <td>-0.420554</td>\n",
       "    </tr>\n",
       "    <tr>\n",
       "      <th>999999</th>\n",
       "      <td>-0.806380</td>\n",
       "      <td>-0.025251</td>\n",
       "      <td>-0.875477</td>\n",
       "      <td>0.802440</td>\n",
       "      <td>0.889492</td>\n",
       "      <td>-1.030684</td>\n",
       "      <td>-0.209134</td>\n",
       "      <td>-0.341420</td>\n",
       "      <td>2.367991</td>\n",
       "      <td>0.314807</td>\n",
       "      <td>-0.552680</td>\n",
       "      <td>-0.474998</td>\n",
       "      <td>-0.962963</td>\n",
       "      <td>0.794223</td>\n",
       "      <td>0.275021</td>\n",
       "    </tr>\n",
       "  </tbody>\n",
       "</table>\n",
       "<p>1000000 rows × 15 columns</p>\n",
       "</div>"
      ],
      "text/plain": [
       "           F_1_0     F_1_1     F_1_2     F_1_3     F_1_4     F_1_5     F_1_6  \\\n",
       "0      -0.354591 -0.464038  2.304115  0.734486  1.696395  0.136285 -0.518344   \n",
       "1       1.380940 -0.499626 -0.418548  1.911725 -0.826130 -1.715371 -0.577091   \n",
       "2       0.256023 -1.059874       NaN  0.345678  1.513814  1.243864 -0.509648   \n",
       "3      -0.728420 -2.432399 -2.453602 -0.020509  0.333397  0.086049 -1.787601   \n",
       "4       0.590212 -0.066127  0.468009 -1.096038  0.119399 -1.809710  0.466358   \n",
       "...          ...       ...       ...       ...       ...       ...       ...   \n",
       "999995 -0.823740  0.285673  0.343307 -0.436747  1.700549 -1.069432  0.819698   \n",
       "999996 -0.769106 -0.387363 -1.227469  0.601183  0.351161  0.219475 -0.530277   \n",
       "999997  0.147534 -0.715276 -0.465049 -1.988941 -1.594535 -1.044882  3.159455   \n",
       "999998 -1.709886 -0.813785 -1.866536 -0.179420  2.231478  1.460122 -0.220585   \n",
       "999999 -0.806380 -0.025251 -0.875477  0.802440  0.889492 -1.030684 -0.209134   \n",
       "\n",
       "           F_1_7     F_1_8     F_1_9    F_1_10    F_1_11    F_1_12    F_1_13  \\\n",
       "0       0.502640 -1.852504 -0.500665 -1.416075  1.201521  0.551902 -0.759827   \n",
       "1      -1.041486  0.596067 -0.363425 -0.853630  0.674525  0.843058 -0.041438   \n",
       "2      -0.800481 -0.115945  0.595777 -0.073235 -1.381605 -0.108676  0.703693   \n",
       "3       0.667011  0.761564 -2.217847 -0.618973  0.742112  0.494157  0.744673   \n",
       "4      -0.053196 -0.580320 -1.143500  1.338692  1.193330  1.038010 -0.763692   \n",
       "...          ...       ...       ...       ...       ...       ...       ...   \n",
       "999995 -0.168457 -0.429074  0.844075  0.569298  0.235662  0.540328 -0.262106   \n",
       "999996  0.853452  0.608646  1.648023 -0.040150 -1.235223  0.834497  1.385112   \n",
       "999997 -0.634108  0.890382 -1.212444 -0.874219  0.926165 -0.970726 -1.832919   \n",
       "999998 -0.118496 -0.140064  1.362596 -1.469418  0.984130 -1.502292 -0.404490   \n",
       "999999 -0.341420  2.367991  0.314807 -0.552680 -0.474998 -0.962963  0.794223   \n",
       "\n",
       "          F_1_14  \n",
       "0            NaN  \n",
       "1       0.259496  \n",
       "2      -0.464042  \n",
       "3      -0.769181  \n",
       "4       0.513466  \n",
       "...          ...  \n",
       "999995 -1.566722  \n",
       "999996 -1.575306  \n",
       "999997  0.860467  \n",
       "999998 -0.420554  \n",
       "999999  0.275021  \n",
       "\n",
       "[1000000 rows x 15 columns]"
      ]
     },
     "execution_count": 51,
     "metadata": {},
     "output_type": "execute_result"
    }
   ],
   "source": [
    "data"
   ]
  },
  {
   "cell_type": "code",
   "execution_count": 59,
   "id": "c27ee84b",
   "metadata": {},
   "outputs": [
    {
     "data": {
      "text/plain": [
       "array([     0, 578138, 145814, ..., 795464, 565148, 662840])"
      ]
     },
     "execution_count": 59,
     "metadata": {},
     "output_type": "execute_result"
    }
   ],
   "source": [
    "np.argsort(np.abs(data['F_1_1'].values - data['F_1_1'][0]))"
   ]
  },
  {
   "cell_type": "code",
   "execution_count": 60,
   "id": "312ec589",
   "metadata": {},
   "outputs": [
    {
     "data": {
      "text/plain": [
       "F_1_0    -1.849806\n",
       "F_1_1    -0.464040\n",
       "F_1_2     0.672246\n",
       "F_1_3    -0.951045\n",
       "F_1_4     1.071388\n",
       "F_1_5    -0.723347\n",
       "F_1_6    -0.876403\n",
       "F_1_7     0.861063\n",
       "F_1_8     0.320815\n",
       "F_1_9     0.414444\n",
       "F_1_10   -0.383463\n",
       "F_1_11    0.477462\n",
       "F_1_12    0.823286\n",
       "F_1_13    1.364030\n",
       "F_1_14   -1.044247\n",
       "Name: 578138, dtype: float64"
      ]
     },
     "execution_count": 60,
     "metadata": {},
     "output_type": "execute_result"
    }
   ],
   "source": [
    "data.iloc[578138]"
   ]
  },
  {
   "cell_type": "code",
   "execution_count": 72,
   "id": "4223bc4a",
   "metadata": {},
   "outputs": [
    {
     "data": {
      "text/plain": [
       "array([        nan, 13.48005571,         nan, ...,  0.72342095,\n",
       "       -5.63328045,  2.98405127])"
      ]
     },
     "execution_count": 72,
     "metadata": {},
     "output_type": "execute_result"
    }
   ],
   "source": [
    "vec = data.values[[1],:] @ data.values.T\n",
    "vec = vec.reshape(-1)\n",
    "vec"
   ]
  },
  {
   "cell_type": "code",
   "execution_count": 75,
   "id": "b736f4db",
   "metadata": {},
   "outputs": [
    {
     "data": {
      "text/plain": [
       "array([748503, 503254, 107870, ..., 706285, 706319,      0])"
      ]
     },
     "execution_count": 75,
     "metadata": {},
     "output_type": "execute_result"
    }
   ],
   "source": [
    "np.argsort(np.abs(vec))"
   ]
  },
  {
   "cell_type": "code",
   "execution_count": 76,
   "id": "c812356d",
   "metadata": {},
   "outputs": [
    {
     "data": {
      "text/plain": [
       "nan"
      ]
     },
     "execution_count": 76,
     "metadata": {},
     "output_type": "execute_result"
    }
   ],
   "source": [
    "vec[706319]"
   ]
  },
  {
   "cell_type": "code",
   "execution_count": 94,
   "id": "454bb10d",
   "metadata": {},
   "outputs": [
    {
     "data": {
      "image/png": "[encoded data removed]",
      "text/plain": [
       "<Figure size 432x288 with 1 Axes>"
      ]
     },
     "metadata": {
      "needs_background": "light"
     },
     "output_type": "display_data"
    }
   ],
   "source": [
    "plt.hist(data.values[:,14], bins=100);"
   ]
  },
  {
   "cell_type": "code",
   "execution_count": 98,
   "id": "cafa55d9",
   "metadata": {},
   "outputs": [
    {
     "data": {
      "text/plain": [
       "<matplotlib.collections.PathCollection at 0x156d33640>"
      ]
     },
     "execution_count": 98,
     "metadata": {},
     "output_type": "execute_result"
    },
    {
     "data": {
      "image/png": "[encoded data removed]",
      "text/plain": [
       "<Figure size 432x288 with 1 Axes>"
      ]
     },
     "metadata": {
      "needs_background": "light"
     },
     "output_type": "display_data"
    }
   ],
   "source": [
    "plt.scatter(data.values[:,0],data.values[:,1],s=1,alpha=0.2)"
   ]
  }
 ],
 "metadata": {
  "kernelspec": {
   "display_name": "Python 3 (ipykernel)",
   "language": "python",
   "name": "python3"
  },
  "language_info": {
   "codemirror_mode": {
    "name": "ipython",
    "version": 3
   },
   "file_extension": ".py",
   "mimetype": "text/x-python",
   "name": "python",
   "nbconvert_exporter": "python",
   "pygments_lexer": "ipython3",
   "version": "3.9.12"
  }
 },
 "nbformat": 4,
 "nbformat_minor": 5
}
