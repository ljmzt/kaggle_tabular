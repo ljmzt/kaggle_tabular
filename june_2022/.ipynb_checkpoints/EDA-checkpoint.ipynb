{
 "cells": [
  {
   "cell_type": "code",
   "execution_count": 29,
   "id": "cecdbefc",
   "metadata": {},
   "outputs": [],
   "source": [
    "import pandas as pd\n",
    "from matplotlib import pyplot as plt\n",
    "import numpy as np"
   ]
  },
  {
   "cell_type": "code",
   "execution_count": 2,
   "id": "21f3c5a2",
   "metadata": {},
   "outputs": [
    {
     "data": {
      "text/html": [
       "<div>\n",
       "<style scoped>\n",
       "    .dataframe tbody tr th:only-of-type {\n",
       "        vertical-align: middle;\n",
       "    }\n",
       "\n",
       "    .dataframe tbody tr th {\n",
       "        vertical-align: top;\n",
       "    }\n",
       "\n",
       "    .dataframe thead th {\n",
       "        text-align: right;\n",
       "    }\n",
       "</style>\n",
       "<table border=\"1\" class=\"dataframe\">\n",
       "  <thead>\n",
       "    <tr style=\"text-align: right;\">\n",
       "      <th></th>\n",
       "      <th>row_id</th>\n",
       "      <th>F_1_0</th>\n",
       "      <th>F_1_1</th>\n",
       "      <th>F_1_2</th>\n",
       "      <th>F_1_3</th>\n",
       "      <th>F_1_4</th>\n",
       "      <th>F_1_5</th>\n",
       "      <th>F_1_6</th>\n",
       "      <th>F_1_7</th>\n",
       "      <th>F_1_8</th>\n",
       "      <th>...</th>\n",
       "      <th>F_4_5</th>\n",
       "      <th>F_4_6</th>\n",
       "      <th>F_4_7</th>\n",
       "      <th>F_4_8</th>\n",
       "      <th>F_4_9</th>\n",
       "      <th>F_4_10</th>\n",
       "      <th>F_4_11</th>\n",
       "      <th>F_4_12</th>\n",
       "      <th>F_4_13</th>\n",
       "      <th>F_4_14</th>\n",
       "    </tr>\n",
       "  </thead>\n",
       "  <tbody>\n",
       "    <tr>\n",
       "      <th>0</th>\n",
       "      <td>0</td>\n",
       "      <td>-0.354591</td>\n",
       "      <td>-0.464038</td>\n",
       "      <td>2.304115</td>\n",
       "      <td>0.734486</td>\n",
       "      <td>1.696395</td>\n",
       "      <td>0.136285</td>\n",
       "      <td>-0.518344</td>\n",
       "      <td>0.502640</td>\n",
       "      <td>-1.852504</td>\n",
       "      <td>...</td>\n",
       "      <td>3.744152</td>\n",
       "      <td>0.794438</td>\n",
       "      <td>0.265185</td>\n",
       "      <td>-0.561809</td>\n",
       "      <td>0.196480</td>\n",
       "      <td>0.373434</td>\n",
       "      <td>6.206995</td>\n",
       "      <td>3.809505</td>\n",
       "      <td>1.236486</td>\n",
       "      <td>1.182055</td>\n",
       "    </tr>\n",
       "    <tr>\n",
       "      <th>1</th>\n",
       "      <td>1</td>\n",
       "      <td>1.380940</td>\n",
       "      <td>-0.499626</td>\n",
       "      <td>-0.418548</td>\n",
       "      <td>1.911725</td>\n",
       "      <td>-0.826130</td>\n",
       "      <td>-1.715371</td>\n",
       "      <td>-0.577091</td>\n",
       "      <td>-1.041486</td>\n",
       "      <td>0.596067</td>\n",
       "      <td>...</td>\n",
       "      <td>-2.895826</td>\n",
       "      <td>-0.738275</td>\n",
       "      <td>2.361818</td>\n",
       "      <td>-0.060753</td>\n",
       "      <td>0.727249</td>\n",
       "      <td>-0.271882</td>\n",
       "      <td>5.232157</td>\n",
       "      <td>-4.218259</td>\n",
       "      <td>-2.724883</td>\n",
       "      <td>-0.063775</td>\n",
       "    </tr>\n",
       "    <tr>\n",
       "      <th>2</th>\n",
       "      <td>2</td>\n",
       "      <td>0.256023</td>\n",
       "      <td>-1.059874</td>\n",
       "      <td>NaN</td>\n",
       "      <td>0.345678</td>\n",
       "      <td>1.513814</td>\n",
       "      <td>1.243864</td>\n",
       "      <td>-0.509648</td>\n",
       "      <td>-0.800481</td>\n",
       "      <td>-0.115945</td>\n",
       "      <td>...</td>\n",
       "      <td>2.252834</td>\n",
       "      <td>0.472496</td>\n",
       "      <td>2.491386</td>\n",
       "      <td>0.353381</td>\n",
       "      <td>-0.260682</td>\n",
       "      <td>-0.000833</td>\n",
       "      <td>-0.116457</td>\n",
       "      <td>-2.131747</td>\n",
       "      <td>3.661499</td>\n",
       "      <td>-0.131576</td>\n",
       "    </tr>\n",
       "    <tr>\n",
       "      <th>3</th>\n",
       "      <td>3</td>\n",
       "      <td>-0.728420</td>\n",
       "      <td>-2.432399</td>\n",
       "      <td>-2.453602</td>\n",
       "      <td>-0.020509</td>\n",
       "      <td>0.333397</td>\n",
       "      <td>0.086049</td>\n",
       "      <td>-1.787601</td>\n",
       "      <td>0.667011</td>\n",
       "      <td>0.761564</td>\n",
       "      <td>...</td>\n",
       "      <td>2.004600</td>\n",
       "      <td>-4.664806</td>\n",
       "      <td>-0.847211</td>\n",
       "      <td>-0.264249</td>\n",
       "      <td>0.664334</td>\n",
       "      <td>-0.557868</td>\n",
       "      <td>8.499483</td>\n",
       "      <td>-4.738799</td>\n",
       "      <td>-3.054611</td>\n",
       "      <td>0.494152</td>\n",
       "    </tr>\n",
       "    <tr>\n",
       "      <th>4</th>\n",
       "      <td>4</td>\n",
       "      <td>0.590212</td>\n",
       "      <td>-0.066127</td>\n",
       "      <td>0.468009</td>\n",
       "      <td>-1.096038</td>\n",
       "      <td>0.119399</td>\n",
       "      <td>-1.809710</td>\n",
       "      <td>0.466358</td>\n",
       "      <td>-0.053196</td>\n",
       "      <td>-0.580320</td>\n",
       "      <td>...</td>\n",
       "      <td>0.976937</td>\n",
       "      <td>2.558883</td>\n",
       "      <td>3.377724</td>\n",
       "      <td>0.846891</td>\n",
       "      <td>0.696032</td>\n",
       "      <td>0.554121</td>\n",
       "      <td>-5.979714</td>\n",
       "      <td>-2.869631</td>\n",
       "      <td>3.733057</td>\n",
       "      <td>-0.722943</td>\n",
       "    </tr>\n",
       "  </tbody>\n",
       "</table>\n",
       "<p>5 rows × 81 columns</p>\n",
       "</div>"
      ],
      "text/plain": [
       "   row_id     F_1_0     F_1_1     F_1_2     F_1_3     F_1_4     F_1_5  \\\n",
       "0       0 -0.354591 -0.464038  2.304115  0.734486  1.696395  0.136285   \n",
       "1       1  1.380940 -0.499626 -0.418548  1.911725 -0.826130 -1.715371   \n",
       "2       2  0.256023 -1.059874       NaN  0.345678  1.513814  1.243864   \n",
       "3       3 -0.728420 -2.432399 -2.453602 -0.020509  0.333397  0.086049   \n",
       "4       4  0.590212 -0.066127  0.468009 -1.096038  0.119399 -1.809710   \n",
       "\n",
       "      F_1_6     F_1_7     F_1_8  ...     F_4_5     F_4_6     F_4_7     F_4_8  \\\n",
       "0 -0.518344  0.502640 -1.852504  ...  3.744152  0.794438  0.265185 -0.561809   \n",
       "1 -0.577091 -1.041486  0.596067  ... -2.895826 -0.738275  2.361818 -0.060753   \n",
       "2 -0.509648 -0.800481 -0.115945  ...  2.252834  0.472496  2.491386  0.353381   \n",
       "3 -1.787601  0.667011  0.761564  ...  2.004600 -4.664806 -0.847211 -0.264249   \n",
       "4  0.466358 -0.053196 -0.580320  ...  0.976937  2.558883  3.377724  0.846891   \n",
       "\n",
       "      F_4_9    F_4_10    F_4_11    F_4_12    F_4_13    F_4_14  \n",
       "0  0.196480  0.373434  6.206995  3.809505  1.236486  1.182055  \n",
       "1  0.727249 -0.271882  5.232157 -4.218259 -2.724883 -0.063775  \n",
       "2 -0.260682 -0.000833 -0.116457 -2.131747  3.661499 -0.131576  \n",
       "3  0.664334 -0.557868  8.499483 -4.738799 -3.054611  0.494152  \n",
       "4  0.696032  0.554121 -5.979714 -2.869631  3.733057 -0.722943  \n",
       "\n",
       "[5 rows x 81 columns]"
      ]
     },
     "execution_count": 2,
     "metadata": {},
     "output_type": "execute_result"
    }
   ],
   "source": [
    "data = pd.read_csv('data.csv')\n",
    "data.head()"
   ]
  },
  {
   "cell_type": "code",
   "execution_count": 5,
   "id": "0cacdc46",
   "metadata": {},
   "outputs": [
    {
     "name": "stdout",
     "output_type": "stream",
     "text": [
      "<class 'pandas.core.frame.DataFrame'>\n",
      "RangeIndex: 1000000 entries, 0 to 999999\n",
      "Data columns (total 81 columns):\n",
      " #   Column  Non-Null Count    Dtype  \n",
      "---  ------  --------------    -----  \n",
      " 0   row_id  1000000 non-null  int64  \n",
      " 1   F_1_0   981603 non-null   float64\n",
      " 2   F_1_1   981784 non-null   float64\n",
      " 3   F_1_2   981992 non-null   float64\n",
      " 4   F_1_3   981750 non-null   float64\n",
      " 5   F_1_4   981678 non-null   float64\n",
      " 6   F_1_5   981911 non-null   float64\n",
      " 7   F_1_6   981867 non-null   float64\n",
      " 8   F_1_7   981872 non-null   float64\n",
      " 9   F_1_8   981838 non-null   float64\n",
      " 10  F_1_9   981751 non-null   float64\n",
      " 11  F_1_10  982039 non-null   float64\n",
      " 12  F_1_11  981830 non-null   float64\n",
      " 13  F_1_12  981797 non-null   float64\n",
      " 14  F_1_13  981602 non-null   float64\n",
      " 15  F_1_14  981961 non-null   float64\n",
      " 16  F_2_0   1000000 non-null  int64  \n",
      " 17  F_2_1   1000000 non-null  int64  \n",
      " 18  F_2_2   1000000 non-null  int64  \n",
      " 19  F_2_3   1000000 non-null  int64  \n",
      " 20  F_2_4   1000000 non-null  int64  \n",
      " 21  F_2_5   1000000 non-null  int64  \n",
      " 22  F_2_6   1000000 non-null  int64  \n",
      " 23  F_2_7   1000000 non-null  int64  \n",
      " 24  F_2_8   1000000 non-null  int64  \n",
      " 25  F_2_9   1000000 non-null  int64  \n",
      " 26  F_2_10  1000000 non-null  int64  \n",
      " 27  F_2_11  1000000 non-null  int64  \n",
      " 28  F_2_12  1000000 non-null  int64  \n",
      " 29  F_2_13  1000000 non-null  int64  \n",
      " 30  F_2_14  1000000 non-null  int64  \n",
      " 31  F_2_15  1000000 non-null  int64  \n",
      " 32  F_2_16  1000000 non-null  int64  \n",
      " 33  F_2_17  1000000 non-null  int64  \n",
      " 34  F_2_18  1000000 non-null  int64  \n",
      " 35  F_2_19  1000000 non-null  int64  \n",
      " 36  F_2_20  1000000 non-null  int64  \n",
      " 37  F_2_21  1000000 non-null  int64  \n",
      " 38  F_2_22  1000000 non-null  int64  \n",
      " 39  F_2_23  1000000 non-null  int64  \n",
      " 40  F_2_24  1000000 non-null  int64  \n",
      " 41  F_3_0   981971 non-null   float64\n",
      " 42  F_3_1   981655 non-null   float64\n",
      " 43  F_3_2   981944 non-null   float64\n",
      " 44  F_3_3   981946 non-null   float64\n",
      " 45  F_3_4   981627 non-null   float64\n",
      " 46  F_3_5   981702 non-null   float64\n",
      " 47  F_3_6   981808 non-null   float64\n",
      " 48  F_3_7   981987 non-null   float64\n",
      " 49  F_3_8   981902 non-null   float64\n",
      " 50  F_3_9   981894 non-null   float64\n",
      " 51  F_3_10  981800 non-null   float64\n",
      " 52  F_3_11  981612 non-null   float64\n",
      " 53  F_3_12  981703 non-null   float64\n",
      " 54  F_3_13  981940 non-null   float64\n",
      " 55  F_3_14  981861 non-null   float64\n",
      " 56  F_3_15  981762 non-null   float64\n",
      " 57  F_3_16  981878 non-null   float64\n",
      " 58  F_3_17  981722 non-null   float64\n",
      " 59  F_3_18  981911 non-null   float64\n",
      " 60  F_3_19  981800 non-null   float64\n",
      " 61  F_3_20  981752 non-null   float64\n",
      " 62  F_3_21  981604 non-null   float64\n",
      " 63  F_3_22  981823 non-null   float64\n",
      " 64  F_3_23  981794 non-null   float64\n",
      " 65  F_3_24  981855 non-null   float64\n",
      " 66  F_4_0   981872 non-null   float64\n",
      " 67  F_4_1   981836 non-null   float64\n",
      " 68  F_4_2   981505 non-null   float64\n",
      " 69  F_4_3   981971 non-null   float64\n",
      " 70  F_4_4   982043 non-null   float64\n",
      " 71  F_4_5   981937 non-null   float64\n",
      " 72  F_4_6   981675 non-null   float64\n",
      " 73  F_4_7   981986 non-null   float64\n",
      " 74  F_4_8   981824 non-null   float64\n",
      " 75  F_4_9   981735 non-null   float64\n",
      " 76  F_4_10  981775 non-null   float64\n",
      " 77  F_4_11  981881 non-null   float64\n",
      " 78  F_4_12  981694 non-null   float64\n",
      " 79  F_4_13  982005 non-null   float64\n",
      " 80  F_4_14  981733 non-null   float64\n",
      "dtypes: float64(55), int64(26)\n",
      "memory usage: 618.0 MB\n"
     ]
    }
   ],
   "source": [
    "data.info()"
   ]
  },
  {
   "cell_type": "code",
   "execution_count": 15,
   "id": "bcf557e5",
   "metadata": {},
   "outputs": [],
   "source": [
    "colF1 = [col for col in data.columns if col[0:3]=='F_1']\n",
    "colF2 = [col for col in data.columns if col[0:3]=='F_2']\n",
    "colF3 = [col for col in data.columns if col[0:3]=='F_3']\n",
    "colF4 = [col for col in data.columns if col[0:3]=='F_4']"
   ]
  },
  {
   "cell_type": "code",
   "execution_count": 18,
   "id": "f8b03880",
   "metadata": {},
   "outputs": [
    {
     "data": {
      "image/png": "[encoded data removed]",
      "text/plain": [
       "<Figure size 432x288 with 2 Axes>"
      ]
     },
     "metadata": {
      "needs_background": "light"
     },
     "output_type": "display_data"
    }
   ],
   "source": [
    "plt.subplot(2,1,1)\n",
    "plt.hist(data[colF1].isnull().sum(axis=0).values);\n",
    "plt.subplot(2,1,2)\n",
    "plt.hist(data[colF1].isnull().sum(axis=1).values);"
   ]
  },
  {
   "cell_type": "code",
   "execution_count": 19,
   "id": "c631fcb4",
   "metadata": {},
   "outputs": [
    {
     "data": {
      "image/png": "[encoded data removed]",
      "text/plain": [
       "<Figure size 432x288 with 2 Axes>"
      ]
     },
     "metadata": {
      "needs_background": "light"
     },
     "output_type": "display_data"
    }
   ],
   "source": [
    "plt.subplot(2,1,1)\n",
    "plt.hist(data[colF2].isnull().sum(axis=0).values);\n",
    "plt.subplot(2,1,2)\n",
    "plt.hist(data[colF2].isnull().sum(axis=1).values);"
   ]
  },
  {
   "cell_type": "code",
   "execution_count": 20,
   "id": "ba7fa175",
   "metadata": {},
   "outputs": [
    {
     "data": {
      "image/png": "[encoded data removed]",
      "text/plain": [
       "<Figure size 432x288 with 2 Axes>"
      ]
     },
     "metadata": {
      "needs_background": "light"
     },
     "output_type": "display_data"
    }
   ],
   "source": [
    "plt.subplot(2,1,1)\n",
    "plt.hist(data[colF3].isnull().sum(axis=0).values);\n",
    "plt.subplot(2,1,2)\n",
    "plt.hist(data[colF3].isnull().sum(axis=1).values);"
   ]
  },
  {
   "cell_type": "code",
   "execution_count": 21,
   "id": "a2fdf20c",
   "metadata": {},
   "outputs": [
    {
     "data": {
      "image/png": "[encoded data removed]",
      "text/plain": [
       "<Figure size 432x288 with 2 Axes>"
      ]
     },
     "metadata": {
      "needs_background": "light"
     },
     "output_type": "display_data"
    }
   ],
   "source": [
    "plt.subplot(2,1,1)\n",
    "plt.hist(data[colF4].isnull().sum(axis=0).values);\n",
    "plt.subplot(2,1,2)\n",
    "plt.hist(data[colF4].isnull().sum(axis=1).values);"
   ]
  },
  {
   "cell_type": "code",
   "execution_count": 22,
   "id": "91a38265",
   "metadata": {},
   "outputs": [
    {
     "data": {
      "image/png": "[encoded data removed]",
      "text/plain": [
       "<Figure size 432x288 with 2 Axes>"
      ]
     },
     "metadata": {
      "needs_background": "light"
     },
     "output_type": "display_data"
    }
   ],
   "source": [
    "plt.subplot(2,1,1)\n",
    "plt.hist(data[:].isnull().sum(axis=0).values);\n",
    "plt.subplot(2,1,2)\n",
    "plt.hist(data[:].isnull().sum(axis=1).values);"
   ]
  },
  {
   "cell_type": "code",
   "execution_count": 23,
   "id": "6d7d1402",
   "metadata": {},
   "outputs": [
    {
     "data": {
      "text/html": [
       "<div>\n",
       "<style scoped>\n",
       "    .dataframe tbody tr th:only-of-type {\n",
       "        vertical-align: middle;\n",
       "    }\n",
       "\n",
       "    .dataframe tbody tr th {\n",
       "        vertical-align: top;\n",
       "    }\n",
       "\n",
       "    .dataframe thead th {\n",
       "        text-align: right;\n",
       "    }\n",
       "</style>\n",
       "<table border=\"1\" class=\"dataframe\">\n",
       "  <thead>\n",
       "    <tr style=\"text-align: right;\">\n",
       "      <th></th>\n",
       "      <th>F_1_0</th>\n",
       "      <th>F_1_1</th>\n",
       "      <th>F_1_2</th>\n",
       "      <th>F_1_3</th>\n",
       "      <th>F_1_4</th>\n",
       "      <th>F_1_5</th>\n",
       "      <th>F_1_6</th>\n",
       "      <th>F_1_7</th>\n",
       "      <th>F_1_8</th>\n",
       "      <th>F_1_9</th>\n",
       "      <th>...</th>\n",
       "      <th>F_4_5</th>\n",
       "      <th>F_4_6</th>\n",
       "      <th>F_4_7</th>\n",
       "      <th>F_4_8</th>\n",
       "      <th>F_4_9</th>\n",
       "      <th>F_4_10</th>\n",
       "      <th>F_4_11</th>\n",
       "      <th>F_4_12</th>\n",
       "      <th>F_4_13</th>\n",
       "      <th>F_4_14</th>\n",
       "    </tr>\n",
       "  </thead>\n",
       "  <tbody>\n",
       "    <tr>\n",
       "      <th>F_1_0</th>\n",
       "      <td>1.000000</td>\n",
       "      <td>-0.000229</td>\n",
       "      <td>-0.000604</td>\n",
       "      <td>-0.000695</td>\n",
       "      <td>0.000663</td>\n",
       "      <td>-0.000729</td>\n",
       "      <td>0.000648</td>\n",
       "      <td>-0.001875</td>\n",
       "      <td>0.000324</td>\n",
       "      <td>0.000716</td>\n",
       "      <td>...</td>\n",
       "      <td>0.000851</td>\n",
       "      <td>-0.000239</td>\n",
       "      <td>-0.000099</td>\n",
       "      <td>-0.000708</td>\n",
       "      <td>-0.000714</td>\n",
       "      <td>-0.000710</td>\n",
       "      <td>-0.000356</td>\n",
       "      <td>0.001223</td>\n",
       "      <td>0.001398</td>\n",
       "      <td>0.000641</td>\n",
       "    </tr>\n",
       "    <tr>\n",
       "      <th>F_1_1</th>\n",
       "      <td>-0.000229</td>\n",
       "      <td>1.000000</td>\n",
       "      <td>-0.000651</td>\n",
       "      <td>0.000039</td>\n",
       "      <td>-0.001526</td>\n",
       "      <td>0.000018</td>\n",
       "      <td>0.000829</td>\n",
       "      <td>0.000634</td>\n",
       "      <td>-0.000338</td>\n",
       "      <td>-0.000153</td>\n",
       "      <td>...</td>\n",
       "      <td>0.000397</td>\n",
       "      <td>0.000838</td>\n",
       "      <td>0.000158</td>\n",
       "      <td>-0.000135</td>\n",
       "      <td>0.001035</td>\n",
       "      <td>-0.000675</td>\n",
       "      <td>-0.001594</td>\n",
       "      <td>0.001031</td>\n",
       "      <td>0.000759</td>\n",
       "      <td>-0.001206</td>\n",
       "    </tr>\n",
       "    <tr>\n",
       "      <th>F_1_2</th>\n",
       "      <td>-0.000604</td>\n",
       "      <td>-0.000651</td>\n",
       "      <td>1.000000</td>\n",
       "      <td>-0.000967</td>\n",
       "      <td>0.001412</td>\n",
       "      <td>0.000535</td>\n",
       "      <td>-0.000701</td>\n",
       "      <td>0.000648</td>\n",
       "      <td>0.000263</td>\n",
       "      <td>0.000270</td>\n",
       "      <td>...</td>\n",
       "      <td>0.000643</td>\n",
       "      <td>0.000883</td>\n",
       "      <td>0.001187</td>\n",
       "      <td>-0.001847</td>\n",
       "      <td>-0.000330</td>\n",
       "      <td>-0.000479</td>\n",
       "      <td>0.001508</td>\n",
       "      <td>-0.000798</td>\n",
       "      <td>-0.001037</td>\n",
       "      <td>0.001172</td>\n",
       "    </tr>\n",
       "    <tr>\n",
       "      <th>F_1_3</th>\n",
       "      <td>-0.000695</td>\n",
       "      <td>0.000039</td>\n",
       "      <td>-0.000967</td>\n",
       "      <td>1.000000</td>\n",
       "      <td>-0.001209</td>\n",
       "      <td>-0.000174</td>\n",
       "      <td>0.001350</td>\n",
       "      <td>-0.000237</td>\n",
       "      <td>0.001034</td>\n",
       "      <td>-0.001417</td>\n",
       "      <td>...</td>\n",
       "      <td>-0.000531</td>\n",
       "      <td>-0.000397</td>\n",
       "      <td>-0.000501</td>\n",
       "      <td>0.000461</td>\n",
       "      <td>-0.001180</td>\n",
       "      <td>0.000491</td>\n",
       "      <td>-0.000494</td>\n",
       "      <td>0.000589</td>\n",
       "      <td>-0.000981</td>\n",
       "      <td>0.000290</td>\n",
       "    </tr>\n",
       "    <tr>\n",
       "      <th>F_1_4</th>\n",
       "      <td>0.000663</td>\n",
       "      <td>-0.001526</td>\n",
       "      <td>0.001412</td>\n",
       "      <td>-0.001209</td>\n",
       "      <td>1.000000</td>\n",
       "      <td>0.001553</td>\n",
       "      <td>-0.000725</td>\n",
       "      <td>-0.001263</td>\n",
       "      <td>-0.001425</td>\n",
       "      <td>-0.000844</td>\n",
       "      <td>...</td>\n",
       "      <td>0.000467</td>\n",
       "      <td>0.001410</td>\n",
       "      <td>-0.000147</td>\n",
       "      <td>0.000519</td>\n",
       "      <td>0.000386</td>\n",
       "      <td>-0.000545</td>\n",
       "      <td>-0.001530</td>\n",
       "      <td>0.000470</td>\n",
       "      <td>0.002794</td>\n",
       "      <td>-0.000858</td>\n",
       "    </tr>\n",
       "    <tr>\n",
       "      <th>...</th>\n",
       "      <td>...</td>\n",
       "      <td>...</td>\n",
       "      <td>...</td>\n",
       "      <td>...</td>\n",
       "      <td>...</td>\n",
       "      <td>...</td>\n",
       "      <td>...</td>\n",
       "      <td>...</td>\n",
       "      <td>...</td>\n",
       "      <td>...</td>\n",
       "      <td>...</td>\n",
       "      <td>...</td>\n",
       "      <td>...</td>\n",
       "      <td>...</td>\n",
       "      <td>...</td>\n",
       "      <td>...</td>\n",
       "      <td>...</td>\n",
       "      <td>...</td>\n",
       "      <td>...</td>\n",
       "      <td>...</td>\n",
       "      <td>...</td>\n",
       "    </tr>\n",
       "    <tr>\n",
       "      <th>F_4_10</th>\n",
       "      <td>-0.000710</td>\n",
       "      <td>-0.000675</td>\n",
       "      <td>-0.000479</td>\n",
       "      <td>0.000491</td>\n",
       "      <td>-0.000545</td>\n",
       "      <td>-0.000476</td>\n",
       "      <td>-0.000874</td>\n",
       "      <td>-0.000949</td>\n",
       "      <td>-0.001153</td>\n",
       "      <td>-0.001113</td>\n",
       "      <td>...</td>\n",
       "      <td>-0.039750</td>\n",
       "      <td>0.060097</td>\n",
       "      <td>-0.138581</td>\n",
       "      <td>0.047153</td>\n",
       "      <td>0.260122</td>\n",
       "      <td>1.000000</td>\n",
       "      <td>0.081932</td>\n",
       "      <td>0.016128</td>\n",
       "      <td>0.003657</td>\n",
       "      <td>-0.059866</td>\n",
       "    </tr>\n",
       "    <tr>\n",
       "      <th>F_4_11</th>\n",
       "      <td>-0.000356</td>\n",
       "      <td>-0.001594</td>\n",
       "      <td>0.001508</td>\n",
       "      <td>-0.000494</td>\n",
       "      <td>-0.001530</td>\n",
       "      <td>0.000404</td>\n",
       "      <td>-0.000291</td>\n",
       "      <td>0.000600</td>\n",
       "      <td>0.001689</td>\n",
       "      <td>-0.001041</td>\n",
       "      <td>...</td>\n",
       "      <td>0.251965</td>\n",
       "      <td>-0.097557</td>\n",
       "      <td>0.123466</td>\n",
       "      <td>-0.553091</td>\n",
       "      <td>0.107675</td>\n",
       "      <td>0.081932</td>\n",
       "      <td>1.000000</td>\n",
       "      <td>-0.357252</td>\n",
       "      <td>-0.434698</td>\n",
       "      <td>0.332410</td>\n",
       "    </tr>\n",
       "    <tr>\n",
       "      <th>F_4_12</th>\n",
       "      <td>0.001223</td>\n",
       "      <td>0.001031</td>\n",
       "      <td>-0.000798</td>\n",
       "      <td>0.000589</td>\n",
       "      <td>0.000470</td>\n",
       "      <td>-0.000135</td>\n",
       "      <td>0.000568</td>\n",
       "      <td>-0.001327</td>\n",
       "      <td>0.000561</td>\n",
       "      <td>0.000638</td>\n",
       "      <td>...</td>\n",
       "      <td>-0.129874</td>\n",
       "      <td>0.030959</td>\n",
       "      <td>-0.064700</td>\n",
       "      <td>0.082240</td>\n",
       "      <td>-0.003404</td>\n",
       "      <td>0.016128</td>\n",
       "      <td>-0.357252</td>\n",
       "      <td>1.000000</td>\n",
       "      <td>0.170248</td>\n",
       "      <td>0.158295</td>\n",
       "    </tr>\n",
       "    <tr>\n",
       "      <th>F_4_13</th>\n",
       "      <td>0.001398</td>\n",
       "      <td>0.000759</td>\n",
       "      <td>-0.001037</td>\n",
       "      <td>-0.000981</td>\n",
       "      <td>0.002794</td>\n",
       "      <td>-0.001547</td>\n",
       "      <td>0.000644</td>\n",
       "      <td>-0.000398</td>\n",
       "      <td>0.000398</td>\n",
       "      <td>0.000498</td>\n",
       "      <td>...</td>\n",
       "      <td>0.126401</td>\n",
       "      <td>0.117422</td>\n",
       "      <td>0.010471</td>\n",
       "      <td>0.051252</td>\n",
       "      <td>-0.009962</td>\n",
       "      <td>0.003657</td>\n",
       "      <td>-0.434698</td>\n",
       "      <td>0.170248</td>\n",
       "      <td>1.000000</td>\n",
       "      <td>-0.109996</td>\n",
       "    </tr>\n",
       "    <tr>\n",
       "      <th>F_4_14</th>\n",
       "      <td>0.000641</td>\n",
       "      <td>-0.001206</td>\n",
       "      <td>0.001172</td>\n",
       "      <td>0.000290</td>\n",
       "      <td>-0.000858</td>\n",
       "      <td>-0.000323</td>\n",
       "      <td>0.000846</td>\n",
       "      <td>-0.001723</td>\n",
       "      <td>0.002336</td>\n",
       "      <td>0.000326</td>\n",
       "      <td>...</td>\n",
       "      <td>-0.300924</td>\n",
       "      <td>-0.116792</td>\n",
       "      <td>0.080639</td>\n",
       "      <td>-0.000715</td>\n",
       "      <td>-0.062387</td>\n",
       "      <td>-0.059866</td>\n",
       "      <td>0.332410</td>\n",
       "      <td>0.158295</td>\n",
       "      <td>-0.109996</td>\n",
       "      <td>1.000000</td>\n",
       "    </tr>\n",
       "  </tbody>\n",
       "</table>\n",
       "<p>80 rows × 80 columns</p>\n",
       "</div>"
      ],
      "text/plain": [
       "           F_1_0     F_1_1     F_1_2     F_1_3     F_1_4     F_1_5     F_1_6  \\\n",
       "F_1_0   1.000000 -0.000229 -0.000604 -0.000695  0.000663 -0.000729  0.000648   \n",
       "F_1_1  -0.000229  1.000000 -0.000651  0.000039 -0.001526  0.000018  0.000829   \n",
       "F_1_2  -0.000604 -0.000651  1.000000 -0.000967  0.001412  0.000535 -0.000701   \n",
       "F_1_3  -0.000695  0.000039 -0.000967  1.000000 -0.001209 -0.000174  0.001350   \n",
       "F_1_4   0.000663 -0.001526  0.001412 -0.001209  1.000000  0.001553 -0.000725   \n",
       "...          ...       ...       ...       ...       ...       ...       ...   \n",
       "F_4_10 -0.000710 -0.000675 -0.000479  0.000491 -0.000545 -0.000476 -0.000874   \n",
       "F_4_11 -0.000356 -0.001594  0.001508 -0.000494 -0.001530  0.000404 -0.000291   \n",
       "F_4_12  0.001223  0.001031 -0.000798  0.000589  0.000470 -0.000135  0.000568   \n",
       "F_4_13  0.001398  0.000759 -0.001037 -0.000981  0.002794 -0.001547  0.000644   \n",
       "F_4_14  0.000641 -0.001206  0.001172  0.000290 -0.000858 -0.000323  0.000846   \n",
       "\n",
       "           F_1_7     F_1_8     F_1_9  ...     F_4_5     F_4_6     F_4_7  \\\n",
       "F_1_0  -0.001875  0.000324  0.000716  ...  0.000851 -0.000239 -0.000099   \n",
       "F_1_1   0.000634 -0.000338 -0.000153  ...  0.000397  0.000838  0.000158   \n",
       "F_1_2   0.000648  0.000263  0.000270  ...  0.000643  0.000883  0.001187   \n",
       "F_1_3  -0.000237  0.001034 -0.001417  ... -0.000531 -0.000397 -0.000501   \n",
       "F_1_4  -0.001263 -0.001425 -0.000844  ...  0.000467  0.001410 -0.000147   \n",
       "...          ...       ...       ...  ...       ...       ...       ...   \n",
       "F_4_10 -0.000949 -0.001153 -0.001113  ... -0.039750  0.060097 -0.138581   \n",
       "F_4_11  0.000600  0.001689 -0.001041  ...  0.251965 -0.097557  0.123466   \n",
       "F_4_12 -0.001327  0.000561  0.000638  ... -0.129874  0.030959 -0.064700   \n",
       "F_4_13 -0.000398  0.000398  0.000498  ...  0.126401  0.117422  0.010471   \n",
       "F_4_14 -0.001723  0.002336  0.000326  ... -0.300924 -0.116792  0.080639   \n",
       "\n",
       "           F_4_8     F_4_9    F_4_10    F_4_11    F_4_12    F_4_13    F_4_14  \n",
       "F_1_0  -0.000708 -0.000714 -0.000710 -0.000356  0.001223  0.001398  0.000641  \n",
       "F_1_1  -0.000135  0.001035 -0.000675 -0.001594  0.001031  0.000759 -0.001206  \n",
       "F_1_2  -0.001847 -0.000330 -0.000479  0.001508 -0.000798 -0.001037  0.001172  \n",
       "F_1_3   0.000461 -0.001180  0.000491 -0.000494  0.000589 -0.000981  0.000290  \n",
       "F_1_4   0.000519  0.000386 -0.000545 -0.001530  0.000470  0.002794 -0.000858  \n",
       "...          ...       ...       ...       ...       ...       ...       ...  \n",
       "F_4_10  0.047153  0.260122  1.000000  0.081932  0.016128  0.003657 -0.059866  \n",
       "F_4_11 -0.553091  0.107675  0.081932  1.000000 -0.357252 -0.434698  0.332410  \n",
       "F_4_12  0.082240 -0.003404  0.016128 -0.357252  1.000000  0.170248  0.158295  \n",
       "F_4_13  0.051252 -0.009962  0.003657 -0.434698  0.170248  1.000000 -0.109996  \n",
       "F_4_14 -0.000715 -0.062387 -0.059866  0.332410  0.158295 -0.109996  1.000000  \n",
       "\n",
       "[80 rows x 80 columns]"
      ]
     },
     "execution_count": 23,
     "metadata": {},
     "output_type": "execute_result"
    }
   ],
   "source": [
    "data.drop(columns=['row_id']).corr()"
   ]
  },
  {
   "cell_type": "code",
   "execution_count": 27,
   "id": "55c46f1d",
   "metadata": {},
   "outputs": [
    {
     "data": {
      "text/plain": [
       "<matplotlib.image.AxesImage at 0x124f2c9d0>"
      ]
     },
     "execution_count": 27,
     "metadata": {},
     "output_type": "execute_result"
    },
    {
     "data": {
      "image/png": "[encoded data removed]",
      "text/plain": [
       "<Figure size 432x288 with 1 Axes>"
      ]
     },
     "metadata": {
      "needs_background": "light"
     },
     "output_type": "display_data"
    }
   ],
   "source": [
    "corr = _\n",
    "plt.imshow(corr)"
   ]
  },
  {
   "cell_type": "code",
   "execution_count": 32,
   "id": "aa31b35c",
   "metadata": {},
   "outputs": [
    {
     "data": {
      "text/plain": [
       "[15, 25, 25, 15]"
      ]
     },
     "execution_count": 32,
     "metadata": {},
     "output_type": "execute_result"
    },
    {
     "data": {
      "image/png": "[encoded data removed]",
      "text/plain": [
       "<Figure size 432x288 with 1 Axes>"
      ]
     },
     "metadata": {
      "needs_background": "light"
     },
     "output_type": "display_data"
    }
   ],
   "source": [
    "np.fill_diagonal(corr.values,0)\n",
    "plt.imshow(corr)\n",
    "[len(x) for x in [colF1, colF2, colF3, colF4]]"
   ]
  },
  {
   "cell_type": "markdown",
   "id": "e013338b",
   "metadata": {},
   "source": [
    "### so looks like F2col has 0 null, which is as advertised; F4 has some correlations among itself, F1 and F3 seems quite uncorrelated"
   ]
  },
  {
   "cell_type": "code",
   "execution_count": 37,
   "id": "f59931a9",
   "metadata": {},
   "outputs": [],
   "source": [
    "data['colF1_null'] = data[colF1].isnull().sum(axis=1)\n",
    "data['colF3_null'] = data[colF3].isnull().sum(axis=1)\n",
    "data['colF4_null'] = data[colF4].isnull().sum(axis=1)\n",
    "data['col_null'] = data['colF1_null'] + data['colF3_null'] + data['colF4_null']"
   ]
  },
  {
   "cell_type": "code",
   "execution_count": 49,
   "id": "183ce5c2",
   "metadata": {},
   "outputs": [
    {
     "data": {
      "text/plain": [
       "<matplotlib.image.AxesImage at 0x12d3a6070>"
      ]
     },
     "execution_count": 49,
     "metadata": {},
     "output_type": "execute_result"
    },
    {
     "data": {
      "image/png": "[encoded data removed]",
      "text/plain": [
       "<Figure size 432x288 with 1 Axes>"
      ]
     },
     "metadata": {
      "needs_background": "light"
     },
     "output_type": "display_data"
    }
   ],
   "source": [
    "corr2 = data[colF4+['colF1_null', 'colF3_null', 'colF4_null', 'col_null']].corr().values\n",
    "np.fill_diagonal(corr2, 0)\n",
    "plt.imshow(corr2)"
   ]
  },
  {
   "cell_type": "code",
   "execution_count": 52,
   "id": "4bedb82b",
   "metadata": {},
   "outputs": [
    {
     "data": {
      "text/plain": [
       "(array([7.59268e+05, 0.00000e+00, 2.11342e+05, 0.00000e+00, 2.71270e+04,\n",
       "        0.00000e+00, 2.12400e+03, 0.00000e+00, 1.35000e+02, 4.00000e+00]),\n",
       " array([0. , 0.5, 1. , 1.5, 2. , 2.5, 3. , 3.5, 4. , 4.5, 5. ]),\n",
       " <BarContainer object of 10 artists>)"
      ]
     },
     "execution_count": 52,
     "metadata": {},
     "output_type": "execute_result"
    },
    {
     "data": {
      "image/png": "[encoded data removed]",
      "text/plain": [
       "<Figure size 432x288 with 1 Axes>"
      ]
     },
     "metadata": {
      "needs_background": "light"
     },
     "output_type": "display_data"
    }
   ],
   "source": [
    "plt.hist(data['colF4_null'])"
   ]
  }
 ],
 "metadata": {
  "kernelspec": {
   "display_name": "Python 3 (ipykernel)",
   "language": "python",
   "name": "python3"
  },
  "language_info": {
   "codemirror_mode": {
    "name": "ipython",
    "version": 3
   },
   "file_extension": ".py",
   "mimetype": "text/x-python",
   "name": "python",
   "nbconvert_exporter": "python",
   "pygments_lexer": "ipython3",
   "version": "3.9.12"
  }
 },
 "nbformat": 4,
 "nbformat_minor": 5
}
