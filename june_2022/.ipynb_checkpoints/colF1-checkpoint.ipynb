{
 "cells": [
  {
   "cell_type": "code",
   "execution_count": 10,
   "id": "3d1b1f9f",
   "metadata": {},
   "outputs": [],
   "source": [
    "import pandas as pd\n",
    "from matplotlib import pyplot as plt\n",
    "import numpy as np\n",
    "from torch.utils.data import DataLoader, Dataset\n",
    "import torch\n",
    "import torch.nn as nn\n",
    "from datetime import datetime\n",
    "from torch.utils.data import random_split\n",
    "from sklearn.preprocessing import minmax_scale"
   ]
  },
  {
   "cell_type": "code",
   "execution_count": 2,
   "id": "96e0a2a1",
   "metadata": {},
   "outputs": [
    {
     "data": {
      "text/html": [
       "<div>\n",
       "<style scoped>\n",
       "    .dataframe tbody tr th:only-of-type {\n",
       "        vertical-align: middle;\n",
       "    }\n",
       "\n",
       "    .dataframe tbody tr th {\n",
       "        vertical-align: top;\n",
       "    }\n",
       "\n",
       "    .dataframe thead th {\n",
       "        text-align: right;\n",
       "    }\n",
       "</style>\n",
       "<table border=\"1\" class=\"dataframe\">\n",
       "  <thead>\n",
       "    <tr style=\"text-align: right;\">\n",
       "      <th></th>\n",
       "      <th>row_id</th>\n",
       "      <th>F_1_0</th>\n",
       "      <th>F_1_1</th>\n",
       "      <th>F_1_2</th>\n",
       "      <th>F_1_3</th>\n",
       "      <th>F_1_4</th>\n",
       "      <th>F_1_5</th>\n",
       "      <th>F_1_6</th>\n",
       "      <th>F_1_7</th>\n",
       "      <th>F_1_8</th>\n",
       "      <th>...</th>\n",
       "      <th>F_4_5</th>\n",
       "      <th>F_4_6</th>\n",
       "      <th>F_4_7</th>\n",
       "      <th>F_4_8</th>\n",
       "      <th>F_4_9</th>\n",
       "      <th>F_4_10</th>\n",
       "      <th>F_4_11</th>\n",
       "      <th>F_4_12</th>\n",
       "      <th>F_4_13</th>\n",
       "      <th>F_4_14</th>\n",
       "    </tr>\n",
       "  </thead>\n",
       "  <tbody>\n",
       "    <tr>\n",
       "      <th>0</th>\n",
       "      <td>0</td>\n",
       "      <td>-0.354591</td>\n",
       "      <td>-0.464038</td>\n",
       "      <td>2.304115</td>\n",
       "      <td>0.734486</td>\n",
       "      <td>1.696395</td>\n",
       "      <td>0.136285</td>\n",
       "      <td>-0.518344</td>\n",
       "      <td>0.502640</td>\n",
       "      <td>-1.852504</td>\n",
       "      <td>...</td>\n",
       "      <td>3.744152</td>\n",
       "      <td>0.794438</td>\n",
       "      <td>0.265185</td>\n",
       "      <td>-0.561809</td>\n",
       "      <td>0.196480</td>\n",
       "      <td>0.373434</td>\n",
       "      <td>6.206995</td>\n",
       "      <td>3.809505</td>\n",
       "      <td>1.236486</td>\n",
       "      <td>1.182055</td>\n",
       "    </tr>\n",
       "    <tr>\n",
       "      <th>1</th>\n",
       "      <td>1</td>\n",
       "      <td>1.380940</td>\n",
       "      <td>-0.499626</td>\n",
       "      <td>-0.418548</td>\n",
       "      <td>1.911725</td>\n",
       "      <td>-0.826130</td>\n",
       "      <td>-1.715371</td>\n",
       "      <td>-0.577091</td>\n",
       "      <td>-1.041486</td>\n",
       "      <td>0.596067</td>\n",
       "      <td>...</td>\n",
       "      <td>-2.895826</td>\n",
       "      <td>-0.738275</td>\n",
       "      <td>2.361818</td>\n",
       "      <td>-0.060753</td>\n",
       "      <td>0.727249</td>\n",
       "      <td>-0.271882</td>\n",
       "      <td>5.232157</td>\n",
       "      <td>-4.218259</td>\n",
       "      <td>-2.724883</td>\n",
       "      <td>-0.063775</td>\n",
       "    </tr>\n",
       "    <tr>\n",
       "      <th>2</th>\n",
       "      <td>2</td>\n",
       "      <td>0.256023</td>\n",
       "      <td>-1.059874</td>\n",
       "      <td>NaN</td>\n",
       "      <td>0.345678</td>\n",
       "      <td>1.513814</td>\n",
       "      <td>1.243864</td>\n",
       "      <td>-0.509648</td>\n",
       "      <td>-0.800481</td>\n",
       "      <td>-0.115945</td>\n",
       "      <td>...</td>\n",
       "      <td>2.252834</td>\n",
       "      <td>0.472496</td>\n",
       "      <td>2.491386</td>\n",
       "      <td>0.353381</td>\n",
       "      <td>-0.260682</td>\n",
       "      <td>-0.000833</td>\n",
       "      <td>-0.116457</td>\n",
       "      <td>-2.131747</td>\n",
       "      <td>3.661499</td>\n",
       "      <td>-0.131576</td>\n",
       "    </tr>\n",
       "    <tr>\n",
       "      <th>3</th>\n",
       "      <td>3</td>\n",
       "      <td>-0.728420</td>\n",
       "      <td>-2.432399</td>\n",
       "      <td>-2.453602</td>\n",
       "      <td>-0.020509</td>\n",
       "      <td>0.333397</td>\n",
       "      <td>0.086049</td>\n",
       "      <td>-1.787601</td>\n",
       "      <td>0.667011</td>\n",
       "      <td>0.761564</td>\n",
       "      <td>...</td>\n",
       "      <td>2.004600</td>\n",
       "      <td>-4.664806</td>\n",
       "      <td>-0.847211</td>\n",
       "      <td>-0.264249</td>\n",
       "      <td>0.664334</td>\n",
       "      <td>-0.557868</td>\n",
       "      <td>8.499483</td>\n",
       "      <td>-4.738799</td>\n",
       "      <td>-3.054611</td>\n",
       "      <td>0.494152</td>\n",
       "    </tr>\n",
       "    <tr>\n",
       "      <th>4</th>\n",
       "      <td>4</td>\n",
       "      <td>0.590212</td>\n",
       "      <td>-0.066127</td>\n",
       "      <td>0.468009</td>\n",
       "      <td>-1.096038</td>\n",
       "      <td>0.119399</td>\n",
       "      <td>-1.809710</td>\n",
       "      <td>0.466358</td>\n",
       "      <td>-0.053196</td>\n",
       "      <td>-0.580320</td>\n",
       "      <td>...</td>\n",
       "      <td>0.976937</td>\n",
       "      <td>2.558883</td>\n",
       "      <td>3.377724</td>\n",
       "      <td>0.846891</td>\n",
       "      <td>0.696032</td>\n",
       "      <td>0.554121</td>\n",
       "      <td>-5.979714</td>\n",
       "      <td>-2.869631</td>\n",
       "      <td>3.733057</td>\n",
       "      <td>-0.722943</td>\n",
       "    </tr>\n",
       "  </tbody>\n",
       "</table>\n",
       "<p>5 rows × 81 columns</p>\n",
       "</div>"
      ],
      "text/plain": [
       "   row_id     F_1_0     F_1_1     F_1_2     F_1_3     F_1_4     F_1_5  \\\n",
       "0       0 -0.354591 -0.464038  2.304115  0.734486  1.696395  0.136285   \n",
       "1       1  1.380940 -0.499626 -0.418548  1.911725 -0.826130 -1.715371   \n",
       "2       2  0.256023 -1.059874       NaN  0.345678  1.513814  1.243864   \n",
       "3       3 -0.728420 -2.432399 -2.453602 -0.020509  0.333397  0.086049   \n",
       "4       4  0.590212 -0.066127  0.468009 -1.096038  0.119399 -1.809710   \n",
       "\n",
       "      F_1_6     F_1_7     F_1_8  ...     F_4_5     F_4_6     F_4_7     F_4_8  \\\n",
       "0 -0.518344  0.502640 -1.852504  ...  3.744152  0.794438  0.265185 -0.561809   \n",
       "1 -0.577091 -1.041486  0.596067  ... -2.895826 -0.738275  2.361818 -0.060753   \n",
       "2 -0.509648 -0.800481 -0.115945  ...  2.252834  0.472496  2.491386  0.353381   \n",
       "3 -1.787601  0.667011  0.761564  ...  2.004600 -4.664806 -0.847211 -0.264249   \n",
       "4  0.466358 -0.053196 -0.580320  ...  0.976937  2.558883  3.377724  0.846891   \n",
       "\n",
       "      F_4_9    F_4_10    F_4_11    F_4_12    F_4_13    F_4_14  \n",
       "0  0.196480  0.373434  6.206995  3.809505  1.236486  1.182055  \n",
       "1  0.727249 -0.271882  5.232157 -4.218259 -2.724883 -0.063775  \n",
       "2 -0.260682 -0.000833 -0.116457 -2.131747  3.661499 -0.131576  \n",
       "3  0.664334 -0.557868  8.499483 -4.738799 -3.054611  0.494152  \n",
       "4  0.696032  0.554121 -5.979714 -2.869631  3.733057 -0.722943  \n",
       "\n",
       "[5 rows x 81 columns]"
      ]
     },
     "execution_count": 2,
     "metadata": {},
     "output_type": "execute_result"
    }
   ],
   "source": [
    "data = pd.read_csv('data.csv')\n",
    "data.head()"
   ]
  },
  {
   "cell_type": "code",
   "execution_count": 5,
   "id": "09902f99",
   "metadata": {},
   "outputs": [
    {
     "data": {
      "text/html": [
       "<div>\n",
       "<style scoped>\n",
       "    .dataframe tbody tr th:only-of-type {\n",
       "        vertical-align: middle;\n",
       "    }\n",
       "\n",
       "    .dataframe tbody tr th {\n",
       "        vertical-align: top;\n",
       "    }\n",
       "\n",
       "    .dataframe thead th {\n",
       "        text-align: right;\n",
       "    }\n",
       "</style>\n",
       "<table border=\"1\" class=\"dataframe\">\n",
       "  <thead>\n",
       "    <tr style=\"text-align: right;\">\n",
       "      <th></th>\n",
       "      <th>F_1_0</th>\n",
       "      <th>F_1_1</th>\n",
       "      <th>F_1_2</th>\n",
       "      <th>F_1_3</th>\n",
       "      <th>F_1_4</th>\n",
       "      <th>F_1_5</th>\n",
       "      <th>F_1_6</th>\n",
       "      <th>F_1_7</th>\n",
       "      <th>F_1_8</th>\n",
       "      <th>F_1_9</th>\n",
       "      <th>F_1_10</th>\n",
       "      <th>F_1_11</th>\n",
       "      <th>F_1_12</th>\n",
       "      <th>F_1_13</th>\n",
       "      <th>F_1_14</th>\n",
       "    </tr>\n",
       "  </thead>\n",
       "  <tbody>\n",
       "    <tr>\n",
       "      <th>0</th>\n",
       "      <td>-0.354591</td>\n",
       "      <td>-0.464038</td>\n",
       "      <td>2.304115</td>\n",
       "      <td>0.734486</td>\n",
       "      <td>1.696395</td>\n",
       "      <td>0.136285</td>\n",
       "      <td>-0.518344</td>\n",
       "      <td>0.502640</td>\n",
       "      <td>-1.852504</td>\n",
       "      <td>-0.500665</td>\n",
       "      <td>-1.416075</td>\n",
       "      <td>1.201521</td>\n",
       "      <td>0.551902</td>\n",
       "      <td>-0.759827</td>\n",
       "      <td>NaN</td>\n",
       "    </tr>\n",
       "    <tr>\n",
       "      <th>1</th>\n",
       "      <td>1.380940</td>\n",
       "      <td>-0.499626</td>\n",
       "      <td>-0.418548</td>\n",
       "      <td>1.911725</td>\n",
       "      <td>-0.826130</td>\n",
       "      <td>-1.715371</td>\n",
       "      <td>-0.577091</td>\n",
       "      <td>-1.041486</td>\n",
       "      <td>0.596067</td>\n",
       "      <td>-0.363425</td>\n",
       "      <td>-0.853630</td>\n",
       "      <td>0.674525</td>\n",
       "      <td>0.843058</td>\n",
       "      <td>-0.041438</td>\n",
       "      <td>0.259496</td>\n",
       "    </tr>\n",
       "    <tr>\n",
       "      <th>2</th>\n",
       "      <td>0.256023</td>\n",
       "      <td>-1.059874</td>\n",
       "      <td>NaN</td>\n",
       "      <td>0.345678</td>\n",
       "      <td>1.513814</td>\n",
       "      <td>1.243864</td>\n",
       "      <td>-0.509648</td>\n",
       "      <td>-0.800481</td>\n",
       "      <td>-0.115945</td>\n",
       "      <td>0.595777</td>\n",
       "      <td>-0.073235</td>\n",
       "      <td>-1.381605</td>\n",
       "      <td>-0.108676</td>\n",
       "      <td>0.703693</td>\n",
       "      <td>-0.464042</td>\n",
       "    </tr>\n",
       "    <tr>\n",
       "      <th>3</th>\n",
       "      <td>-0.728420</td>\n",
       "      <td>-2.432399</td>\n",
       "      <td>-2.453602</td>\n",
       "      <td>-0.020509</td>\n",
       "      <td>0.333397</td>\n",
       "      <td>0.086049</td>\n",
       "      <td>-1.787601</td>\n",
       "      <td>0.667011</td>\n",
       "      <td>0.761564</td>\n",
       "      <td>-2.217847</td>\n",
       "      <td>-0.618973</td>\n",
       "      <td>0.742112</td>\n",
       "      <td>0.494157</td>\n",
       "      <td>0.744673</td>\n",
       "      <td>-0.769181</td>\n",
       "    </tr>\n",
       "    <tr>\n",
       "      <th>4</th>\n",
       "      <td>0.590212</td>\n",
       "      <td>-0.066127</td>\n",
       "      <td>0.468009</td>\n",
       "      <td>-1.096038</td>\n",
       "      <td>0.119399</td>\n",
       "      <td>-1.809710</td>\n",
       "      <td>0.466358</td>\n",
       "      <td>-0.053196</td>\n",
       "      <td>-0.580320</td>\n",
       "      <td>-1.143500</td>\n",
       "      <td>1.338692</td>\n",
       "      <td>1.193330</td>\n",
       "      <td>1.038010</td>\n",
       "      <td>-0.763692</td>\n",
       "      <td>0.513466</td>\n",
       "    </tr>\n",
       "  </tbody>\n",
       "</table>\n",
       "</div>"
      ],
      "text/plain": [
       "      F_1_0     F_1_1     F_1_2     F_1_3     F_1_4     F_1_5     F_1_6  \\\n",
       "0 -0.354591 -0.464038  2.304115  0.734486  1.696395  0.136285 -0.518344   \n",
       "1  1.380940 -0.499626 -0.418548  1.911725 -0.826130 -1.715371 -0.577091   \n",
       "2  0.256023 -1.059874       NaN  0.345678  1.513814  1.243864 -0.509648   \n",
       "3 -0.728420 -2.432399 -2.453602 -0.020509  0.333397  0.086049 -1.787601   \n",
       "4  0.590212 -0.066127  0.468009 -1.096038  0.119399 -1.809710  0.466358   \n",
       "\n",
       "      F_1_7     F_1_8     F_1_9    F_1_10    F_1_11    F_1_12    F_1_13  \\\n",
       "0  0.502640 -1.852504 -0.500665 -1.416075  1.201521  0.551902 -0.759827   \n",
       "1 -1.041486  0.596067 -0.363425 -0.853630  0.674525  0.843058 -0.041438   \n",
       "2 -0.800481 -0.115945  0.595777 -0.073235 -1.381605 -0.108676  0.703693   \n",
       "3  0.667011  0.761564 -2.217847 -0.618973  0.742112  0.494157  0.744673   \n",
       "4 -0.053196 -0.580320 -1.143500  1.338692  1.193330  1.038010 -0.763692   \n",
       "\n",
       "     F_1_14  \n",
       "0       NaN  \n",
       "1  0.259496  \n",
       "2 -0.464042  \n",
       "3 -0.769181  \n",
       "4  0.513466  "
      ]
     },
     "execution_count": 5,
     "metadata": {},
     "output_type": "execute_result"
    }
   ],
   "source": [
    "colF1 = [col for col in data.columns if col[0:3]=='F_1']\n",
    "data = data[colF1]\n",
    "data.head()"
   ]
  },
  {
   "cell_type": "code",
   "execution_count": 7,
   "id": "dde0eace",
   "metadata": {},
   "outputs": [
    {
     "data": {
      "text/plain": [
       "(-0.0006874779987428729, 1.000784078063498)"
      ]
     },
     "execution_count": 7,
     "metadata": {},
     "output_type": "execute_result"
    }
   ],
   "source": [
    "data['F_1_0'].mean(), data['F_1_0'].std()"
   ]
  },
  {
   "cell_type": "code",
   "execution_count": 8,
   "id": "86c06250",
   "metadata": {},
   "outputs": [
    {
     "data": {
      "image/png": "[encoded data removed]",
      "text/plain": [
       "<Figure size 432x288 with 1 Axes>"
      ]
     },
     "metadata": {
      "needs_background": "light"
     },
     "output_type": "display_data"
    }
   ],
   "source": [
    "plt.hist(data.values[:,0]);"
   ]
  },
  {
   "cell_type": "code",
   "execution_count": 11,
   "id": "acd274a7",
   "metadata": {},
   "outputs": [
    {
     "data": {
      "image/png": "[encoded data removed]",
      "text/plain": [
       "<Figure size 432x288 with 1 Axes>"
      ]
     },
     "metadata": {
      "needs_background": "light"
     },
     "output_type": "display_data"
    }
   ],
   "source": [
    "X_norm = minmax_scale(data.values, feature_range=(-1,1), axis=0)\n",
    "plt.hist(X_norm[:,0]);"
   ]
  },
  {
   "cell_type": "code",
   "execution_count": 12,
   "id": "085eee7a",
   "metadata": {},
   "outputs": [
    {
     "data": {
      "text/plain": [
       "(759506, 15)"
      ]
     },
     "execution_count": 12,
     "metadata": {},
     "output_type": "execute_result"
    }
   ],
   "source": [
    "X = X_norm[np.sum(np.isnan(X_norm), axis=1)==0]\n",
    "X.shape"
   ]
  },
  {
   "cell_type": "code",
   "execution_count": 13,
   "id": "952223f6",
   "metadata": {},
   "outputs": [
    {
     "data": {
      "image/png": "[encoded data removed]",
      "text/plain": [
       "<Figure size 432x288 with 1 Axes>"
      ]
     },
     "metadata": {
      "needs_background": "light"
     },
     "output_type": "display_data"
    }
   ],
   "source": [
    "plt.hist(X[:,0]);"
   ]
  },
  {
   "cell_type": "code",
   "execution_count": 14,
   "id": "7e3ed55f",
   "metadata": {},
   "outputs": [],
   "source": [
    "class MyDataset(Dataset):\n",
    "    def __init__(self, X, icol):\n",
    "        self.X = X\n",
    "        self.icol = icol\n",
    "    \n",
    "    def __len__(self):\n",
    "        return len(self.X)\n",
    "    \n",
    "    def __getitem__(self, idx):\n",
    "        return torch.Tensor(np.hstack((self.X[idx,:self.icol], self.X[idx,(self.icol+1):]))), torch.Tensor([self.X[idx,self.icol]])"
   ]
  },
  {
   "cell_type": "code",
   "execution_count": 15,
   "id": "f516f99c",
   "metadata": {},
   "outputs": [],
   "source": [
    "class Model(nn.Module):\n",
    "    def __init__(self, input_dim=14, hidden_dim=128):\n",
    "        super().__init__()\n",
    "        self.fc1 = nn.Linear(input_dim, hidden_dim*4)\n",
    "        self.bn1 = nn.BatchNorm1d(hidden_dim*4)\n",
    "        self.fc2 = nn.Linear(hidden_dim*4, hidden_dim*2)\n",
    "        self.bn2 = nn.BatchNorm1d(hidden_dim*2)\n",
    "        self.fc3 = nn.Linear(hidden_dim*2, hidden_dim)\n",
    "        self.bn3 = nn.BatchNorm1d(hidden_dim)\n",
    "        self.fc4 = nn.Linear(hidden_dim, 1)\n",
    "        self.activation = nn.ReLU()\n",
    "    def forward(self, x):\n",
    "        x = self.bn1(self.activation(self.fc1(x)))\n",
    "        x = self.bn2(self.activation(self.fc2(x)))\n",
    "        x = self.bn3(self.activation(self.fc3(x)))\n",
    "        return nn.Tanh()(self.fc4(x))"
   ]
  },
  {
   "cell_type": "code",
   "execution_count": 16,
   "id": "f97df91d",
   "metadata": {},
   "outputs": [],
   "source": [
    "def val(model, dataloader):\n",
    "    criteria = nn.MSELoss()\n",
    "    model.eval()\n",
    "    with torch.no_grad():\n",
    "        loss_mean = 0\n",
    "        for X, y in dataloader:\n",
    "            predict = model(X)\n",
    "            loss = criteria(predict, y)\n",
    "            loss_mean += loss.item() * X.shape[0]\n",
    "    return loss_mean / len(dataloader.dataset)"
   ]
  },
  {
   "cell_type": "code",
   "execution_count": 19,
   "id": "09abd23e",
   "metadata": {},
   "outputs": [],
   "source": [
    "def train(dataset, savename, xmean, epoches=1000, earlystop_patience=10):\n",
    "    model = Model()\n",
    "    \n",
    "    n = len(dataset)\n",
    "    n1 = int(0.9*n)\n",
    "    n2 = n - n1\n",
    "    train_dataset, val_dataset = random_split(dataset, [n1,n2])\n",
    "    train_dataloader = DataLoader(train_dataset, batch_size=1024, shuffle=True, drop_last=True)\n",
    "    val_dataloader = DataLoader(val_dataset, batch_size=1024, shuffle=False, drop_last=False)\n",
    "    optimizer = torch.optim.Adam(model.parameters(), lr=1e-2)\n",
    "    scheduler = torch.optim.lr_scheduler.ReduceLROnPlateau(optimizer, 'min', patience=5)\n",
    "    criteria = nn.MSELoss()\n",
    "    \n",
    "    for X, y in test_dataloader:\n",
    "        predict = (xmea)\n",
    "        \n",
    "    print(f'starting loss={val(model, train_dataloader)}')\n",
    "    \n",
    "    val_loss_min = 100.\n",
    "    best_epoch = 0\n",
    "    \n",
    "    for epoch in range(epoches):\n",
    "        \n",
    "        print(f'lr={optimizer.param_groups[0][\"lr\"]}')\n",
    "        \n",
    "        if epoch - best_epoch > earlystop_patience:\n",
    "            print('early stop')\n",
    "            break\n",
    "        \n",
    "        model.train()\n",
    "\n",
    "        loss_mean = 0\n",
    "        for X, y in train_dataloader:\n",
    "            predict = model(X)\n",
    "            loss = criteria(predict, y)\n",
    "            optimizer.zero_grad()\n",
    "            loss.backward()\n",
    "            optimizer.step()\n",
    "            loss_mean += loss.item() * X.shape[0]\n",
    "        \n",
    "        loss_mean /= len(train_dataloader.dataset)\n",
    "        val_loss = val(model, val_dataloader)\n",
    "        print(f\"{datetime.now().strftime('%H:%M:%S')}-epoch {epoch}: training loss={loss_mean}, validation loss={val_loss}\")\n",
    "        scheduler.step(val_loss)\n",
    "        \n",
    "        if val_loss < val_loss_min:\n",
    "            val_loss_min = val_loss\n",
    "            best_epoch = epoch\n",
    "            torch.save({'model':model.state_dict()}, savename)"
   ]
  },
  {
   "cell_type": "code",
   "execution_count": 33,
   "id": "abebc65d",
   "metadata": {},
   "outputs": [
    {
     "name": "stdout",
     "output_type": "stream",
     "text": [
      "ref=0.042569910975904054\n"
     ]
    }
   ],
   "source": [
    "icol = 0\n",
    "mean_X = X[:,icol].mean()\n",
    "print(f\"ref={np.mean(np.square(X[:,icol] - mean_X))}\")"
   ]
  },
  {
   "cell_type": "code",
   "execution_count": null,
   "id": "97653fc8",
   "metadata": {},
   "outputs": [],
   "source": [
    "mydataset = MyDataset(X, icol)\n",
    "train(mydataset, f'model_dum_{icol}.pickle', xmean)"
   ]
  },
  {
   "cell_type": "code",
   "execution_count": 35,
   "id": "da50310f",
   "metadata": {},
   "outputs": [
    {
     "data": {
      "text/plain": [
       "array([1, 2, 3, 4, 5, 6, 1])"
      ]
     },
     "execution_count": 35,
     "metadata": {},
     "output_type": "execute_result"
    }
   ],
   "source": [
    "np.hstack(([1,2,3],[4,5,6],[1]))"
   ]
  },
  {
   "cell_type": "code",
   "execution_count": 42,
   "id": "232af215",
   "metadata": {},
   "outputs": [
    {
     "ename": "IndentationError",
     "evalue": "unexpected indent (3595221169.py, line 12)",
     "output_type": "error",
     "traceback": [
      "\u001b[0;36m  Input \u001b[0;32mIn [42]\u001b[0;36m\u001b[0m\n\u001b[0;31m    torch.Tensor([self.X[idx,self.icol]])\u001b[0m\n\u001b[0m    ^\u001b[0m\n\u001b[0;31mIndentationError\u001b[0m\u001b[0;31m:\u001b[0m unexpected indent\n"
     ]
    }
   ],
   "source": [
    "class MyDataset(Dataset):\n",
    "    def __init__(self, X, icol):\n",
    "        self.X = X\n",
    "        self.icol = icol\n",
    "        self.meanX = np.mean(self.X[:,icol])\n",
    "    \n",
    "    def __len__(self):\n",
    "        return len(self.X)\n",
    "    \n",
    "    def __getitem__(self, idx):\n",
    "        return torch.Tensor(np.hstack((self.X[idx,:self.icol], self.X[idx,(self.icol+1):], self.meanX))),\\\n",
    "               torch.Tensor([self.X[idx,self.icol]])"
   ]
  },
  {
   "cell_type": "code",
   "execution_count": 40,
   "id": "117f8dd1",
   "metadata": {},
   "outputs": [
    {
     "ename": "TypeError",
     "evalue": "_vhstack_dispatcher() takes 1 positional argument but 2 were given",
     "output_type": "error",
     "traceback": [
      "\u001b[0;31m---------------------------------------------------------------------------\u001b[0m",
      "\u001b[0;31mTypeError\u001b[0m                                 Traceback (most recent call last)",
      "Input \u001b[0;32mIn [40]\u001b[0m, in \u001b[0;36m<cell line: 2>\u001b[0;34m()\u001b[0m\n\u001b[1;32m      1\u001b[0m mydataset \u001b[38;5;241m=\u001b[39m MyDataset(X, icol)\n\u001b[0;32m----> 2\u001b[0m \u001b[43mmydataset\u001b[49m\u001b[43m[\u001b[49m\u001b[38;5;241;43m0\u001b[39;49m\u001b[43m]\u001b[49m\n",
      "Input \u001b[0;32mIn [39]\u001b[0m, in \u001b[0;36mMyDataset.__getitem__\u001b[0;34m(self, idx)\u001b[0m\n\u001b[1;32m     10\u001b[0m \u001b[38;5;28;01mdef\u001b[39;00m \u001b[38;5;21m__getitem__\u001b[39m(\u001b[38;5;28mself\u001b[39m, idx):\n\u001b[0;32m---> 11\u001b[0m     \u001b[38;5;28;01mreturn\u001b[39;00m torch\u001b[38;5;241m.\u001b[39mTensor(\u001b[43mnp\u001b[49m\u001b[38;5;241;43m.\u001b[39;49m\u001b[43mhstack\u001b[49m\u001b[43m(\u001b[49m\u001b[43m(\u001b[49m\u001b[38;5;28;43mself\u001b[39;49m\u001b[38;5;241;43m.\u001b[39;49m\u001b[43mX\u001b[49m\u001b[43m[\u001b[49m\u001b[43midx\u001b[49m\u001b[43m,\u001b[49m\u001b[43m:\u001b[49m\u001b[38;5;28;43mself\u001b[39;49m\u001b[38;5;241;43m.\u001b[39;49m\u001b[43micol\u001b[49m\u001b[43m]\u001b[49m\u001b[43m,\u001b[49m\u001b[43m \u001b[49m\u001b[38;5;28;43mself\u001b[39;49m\u001b[38;5;241;43m.\u001b[39;49m\u001b[43mX\u001b[49m\u001b[43m[\u001b[49m\u001b[43midx\u001b[49m\u001b[43m,\u001b[49m\u001b[43m(\u001b[49m\u001b[38;5;28;43mself\u001b[39;49m\u001b[38;5;241;43m.\u001b[39;49m\u001b[43micol\u001b[49m\u001b[38;5;241;43m+\u001b[39;49m\u001b[38;5;241;43m1\u001b[39;49m\u001b[43m)\u001b[49m\u001b[43m:\u001b[49m\u001b[43m]\u001b[49m\u001b[43m)\u001b[49m\u001b[43m,\u001b[49m\u001b[43m \u001b[49m\u001b[38;5;28;43mself\u001b[39;49m\u001b[38;5;241;43m.\u001b[39;49m\u001b[43mmeanX\u001b[49m\u001b[43m)\u001b[49m),\\\n\u001b[1;32m     12\u001b[0m            torch\u001b[38;5;241m.\u001b[39mTensor([\u001b[38;5;28mself\u001b[39m\u001b[38;5;241m.\u001b[39mX[idx,\u001b[38;5;28mself\u001b[39m\u001b[38;5;241m.\u001b[39micol]])\n",
      "File \u001b[0;32m<__array_function__ internals>:4\u001b[0m, in \u001b[0;36mhstack\u001b[0;34m(*args, **kwargs)\u001b[0m\n",
      "\u001b[0;31mTypeError\u001b[0m: _vhstack_dispatcher() takes 1 positional argument but 2 were given"
     ]
    }
   ],
   "source": [
    "mydataset = MyDataset(X, icol)\n",
    "mydataset[0]"
   ]
  }
 ],
 "metadata": {
  "kernelspec": {
   "display_name": "Python 3 (ipykernel)",
   "language": "python",
   "name": "python3"
  },
  "language_info": {
   "codemirror_mode": {
    "name": "ipython",
    "version": 3
   },
   "file_extension": ".py",
   "mimetype": "text/x-python",
   "name": "python",
   "nbconvert_exporter": "python",
   "pygments_lexer": "ipython3",
   "version": "3.9.12"
  }
 },
 "nbformat": 4,
 "nbformat_minor": 5
}
