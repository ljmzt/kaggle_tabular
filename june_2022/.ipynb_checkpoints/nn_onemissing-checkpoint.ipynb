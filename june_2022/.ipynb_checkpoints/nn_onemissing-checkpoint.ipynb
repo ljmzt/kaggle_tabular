{
 "cells": [
  {
   "cell_type": "markdown",
   "id": "4a21d8f1",
   "metadata": {},
   "source": [
    "let's see how long does it to run for one col"
   ]
  },
  {
   "cell_type": "code",
   "execution_count": 117,
   "id": "f2771ccd",
   "metadata": {},
   "outputs": [],
   "source": [
    "import pandas as pd\n",
    "from matplotlib import pyplot as plt\n",
    "import numpy as np\n",
    "from torch.utils.data import DataLoader, Dataset\n",
    "import torch\n",
    "import torch.nn as nn\n",
    "from datetime import datetime\n",
    "from torch.utils.data import random_split\n",
    "from sklearn.preprocessing import minmax_scale"
   ]
  },
  {
   "cell_type": "code",
   "execution_count": 85,
   "id": "fe1c3e69",
   "metadata": {},
   "outputs": [
    {
     "data": {
      "text/plain": [
       "'13:41:47'"
      ]
     },
     "execution_count": 85,
     "metadata": {},
     "output_type": "execute_result"
    }
   ],
   "source": [
    "datetime.now().strftime(\"%H:%M:%S\")"
   ]
  },
  {
   "cell_type": "code",
   "execution_count": 2,
   "id": "05786a70",
   "metadata": {},
   "outputs": [
    {
     "data": {
      "text/html": [
       "<div>\n",
       "<style scoped>\n",
       "    .dataframe tbody tr th:only-of-type {\n",
       "        vertical-align: middle;\n",
       "    }\n",
       "\n",
       "    .dataframe tbody tr th {\n",
       "        vertical-align: top;\n",
       "    }\n",
       "\n",
       "    .dataframe thead th {\n",
       "        text-align: right;\n",
       "    }\n",
       "</style>\n",
       "<table border=\"1\" class=\"dataframe\">\n",
       "  <thead>\n",
       "    <tr style=\"text-align: right;\">\n",
       "      <th></th>\n",
       "      <th>row_id</th>\n",
       "      <th>F_1_0</th>\n",
       "      <th>F_1_1</th>\n",
       "      <th>F_1_2</th>\n",
       "      <th>F_1_3</th>\n",
       "      <th>F_1_4</th>\n",
       "      <th>F_1_5</th>\n",
       "      <th>F_1_6</th>\n",
       "      <th>F_1_7</th>\n",
       "      <th>F_1_8</th>\n",
       "      <th>...</th>\n",
       "      <th>F_4_5</th>\n",
       "      <th>F_4_6</th>\n",
       "      <th>F_4_7</th>\n",
       "      <th>F_4_8</th>\n",
       "      <th>F_4_9</th>\n",
       "      <th>F_4_10</th>\n",
       "      <th>F_4_11</th>\n",
       "      <th>F_4_12</th>\n",
       "      <th>F_4_13</th>\n",
       "      <th>F_4_14</th>\n",
       "    </tr>\n",
       "  </thead>\n",
       "  <tbody>\n",
       "    <tr>\n",
       "      <th>0</th>\n",
       "      <td>0</td>\n",
       "      <td>-0.354591</td>\n",
       "      <td>-0.464038</td>\n",
       "      <td>2.304115</td>\n",
       "      <td>0.734486</td>\n",
       "      <td>1.696395</td>\n",
       "      <td>0.136285</td>\n",
       "      <td>-0.518344</td>\n",
       "      <td>0.502640</td>\n",
       "      <td>-1.852504</td>\n",
       "      <td>...</td>\n",
       "      <td>3.744152</td>\n",
       "      <td>0.794438</td>\n",
       "      <td>0.265185</td>\n",
       "      <td>-0.561809</td>\n",
       "      <td>0.196480</td>\n",
       "      <td>0.373434</td>\n",
       "      <td>6.206995</td>\n",
       "      <td>3.809505</td>\n",
       "      <td>1.236486</td>\n",
       "      <td>1.182055</td>\n",
       "    </tr>\n",
       "    <tr>\n",
       "      <th>1</th>\n",
       "      <td>1</td>\n",
       "      <td>1.380940</td>\n",
       "      <td>-0.499626</td>\n",
       "      <td>-0.418548</td>\n",
       "      <td>1.911725</td>\n",
       "      <td>-0.826130</td>\n",
       "      <td>-1.715371</td>\n",
       "      <td>-0.577091</td>\n",
       "      <td>-1.041486</td>\n",
       "      <td>0.596067</td>\n",
       "      <td>...</td>\n",
       "      <td>-2.895826</td>\n",
       "      <td>-0.738275</td>\n",
       "      <td>2.361818</td>\n",
       "      <td>-0.060753</td>\n",
       "      <td>0.727249</td>\n",
       "      <td>-0.271882</td>\n",
       "      <td>5.232157</td>\n",
       "      <td>-4.218259</td>\n",
       "      <td>-2.724883</td>\n",
       "      <td>-0.063775</td>\n",
       "    </tr>\n",
       "    <tr>\n",
       "      <th>2</th>\n",
       "      <td>2</td>\n",
       "      <td>0.256023</td>\n",
       "      <td>-1.059874</td>\n",
       "      <td>NaN</td>\n",
       "      <td>0.345678</td>\n",
       "      <td>1.513814</td>\n",
       "      <td>1.243864</td>\n",
       "      <td>-0.509648</td>\n",
       "      <td>-0.800481</td>\n",
       "      <td>-0.115945</td>\n",
       "      <td>...</td>\n",
       "      <td>2.252834</td>\n",
       "      <td>0.472496</td>\n",
       "      <td>2.491386</td>\n",
       "      <td>0.353381</td>\n",
       "      <td>-0.260682</td>\n",
       "      <td>-0.000833</td>\n",
       "      <td>-0.116457</td>\n",
       "      <td>-2.131747</td>\n",
       "      <td>3.661499</td>\n",
       "      <td>-0.131576</td>\n",
       "    </tr>\n",
       "    <tr>\n",
       "      <th>3</th>\n",
       "      <td>3</td>\n",
       "      <td>-0.728420</td>\n",
       "      <td>-2.432399</td>\n",
       "      <td>-2.453602</td>\n",
       "      <td>-0.020509</td>\n",
       "      <td>0.333397</td>\n",
       "      <td>0.086049</td>\n",
       "      <td>-1.787601</td>\n",
       "      <td>0.667011</td>\n",
       "      <td>0.761564</td>\n",
       "      <td>...</td>\n",
       "      <td>2.004600</td>\n",
       "      <td>-4.664806</td>\n",
       "      <td>-0.847211</td>\n",
       "      <td>-0.264249</td>\n",
       "      <td>0.664334</td>\n",
       "      <td>-0.557868</td>\n",
       "      <td>8.499483</td>\n",
       "      <td>-4.738799</td>\n",
       "      <td>-3.054611</td>\n",
       "      <td>0.494152</td>\n",
       "    </tr>\n",
       "    <tr>\n",
       "      <th>4</th>\n",
       "      <td>4</td>\n",
       "      <td>0.590212</td>\n",
       "      <td>-0.066127</td>\n",
       "      <td>0.468009</td>\n",
       "      <td>-1.096038</td>\n",
       "      <td>0.119399</td>\n",
       "      <td>-1.809710</td>\n",
       "      <td>0.466358</td>\n",
       "      <td>-0.053196</td>\n",
       "      <td>-0.580320</td>\n",
       "      <td>...</td>\n",
       "      <td>0.976937</td>\n",
       "      <td>2.558883</td>\n",
       "      <td>3.377724</td>\n",
       "      <td>0.846891</td>\n",
       "      <td>0.696032</td>\n",
       "      <td>0.554121</td>\n",
       "      <td>-5.979714</td>\n",
       "      <td>-2.869631</td>\n",
       "      <td>3.733057</td>\n",
       "      <td>-0.722943</td>\n",
       "    </tr>\n",
       "  </tbody>\n",
       "</table>\n",
       "<p>5 rows × 81 columns</p>\n",
       "</div>"
      ],
      "text/plain": [
       "   row_id     F_1_0     F_1_1     F_1_2     F_1_3     F_1_4     F_1_5  \\\n",
       "0       0 -0.354591 -0.464038  2.304115  0.734486  1.696395  0.136285   \n",
       "1       1  1.380940 -0.499626 -0.418548  1.911725 -0.826130 -1.715371   \n",
       "2       2  0.256023 -1.059874       NaN  0.345678  1.513814  1.243864   \n",
       "3       3 -0.728420 -2.432399 -2.453602 -0.020509  0.333397  0.086049   \n",
       "4       4  0.590212 -0.066127  0.468009 -1.096038  0.119399 -1.809710   \n",
       "\n",
       "      F_1_6     F_1_7     F_1_8  ...     F_4_5     F_4_6     F_4_7     F_4_8  \\\n",
       "0 -0.518344  0.502640 -1.852504  ...  3.744152  0.794438  0.265185 -0.561809   \n",
       "1 -0.577091 -1.041486  0.596067  ... -2.895826 -0.738275  2.361818 -0.060753   \n",
       "2 -0.509648 -0.800481 -0.115945  ...  2.252834  0.472496  2.491386  0.353381   \n",
       "3 -1.787601  0.667011  0.761564  ...  2.004600 -4.664806 -0.847211 -0.264249   \n",
       "4  0.466358 -0.053196 -0.580320  ...  0.976937  2.558883  3.377724  0.846891   \n",
       "\n",
       "      F_4_9    F_4_10    F_4_11    F_4_12    F_4_13    F_4_14  \n",
       "0  0.196480  0.373434  6.206995  3.809505  1.236486  1.182055  \n",
       "1  0.727249 -0.271882  5.232157 -4.218259 -2.724883 -0.063775  \n",
       "2 -0.260682 -0.000833 -0.116457 -2.131747  3.661499 -0.131576  \n",
       "3  0.664334 -0.557868  8.499483 -4.738799 -3.054611  0.494152  \n",
       "4  0.696032  0.554121 -5.979714 -2.869631  3.733057 -0.722943  \n",
       "\n",
       "[5 rows x 81 columns]"
      ]
     },
     "execution_count": 2,
     "metadata": {},
     "output_type": "execute_result"
    }
   ],
   "source": [
    "data = pd.read_csv('data.csv')\n",
    "data.head()"
   ]
  },
  {
   "cell_type": "code",
   "execution_count": 205,
   "id": "e0e44d4f",
   "metadata": {},
   "outputs": [
    {
     "data": {
      "image/png": "[encoded data removed]",
      "text/plain": [
       "<Figure size 432x288 with 1 Axes>"
      ]
     },
     "metadata": {
      "needs_background": "light"
     },
     "output_type": "display_data"
    }
   ],
   "source": [
    "plt.hist(data.values[:,0]);"
   ]
  },
  {
   "cell_type": "code",
   "execution_count": 210,
   "id": "fa3f8014",
   "metadata": {},
   "outputs": [],
   "source": [
    "X_norm = minmax_scale(data.values, feature_range=(-1,1), axis=0)"
   ]
  },
  {
   "cell_type": "code",
   "execution_count": 211,
   "id": "363ca7b1",
   "metadata": {},
   "outputs": [
    {
     "data": {
      "image/png": "[encoded data removed]",
      "text/plain": [
       "<Figure size 432x288 with 1 Axes>"
      ]
     },
     "metadata": {
      "needs_background": "light"
     },
     "output_type": "display_data"
    }
   ],
   "source": [
    "plt.hist(X_norm[:,0]);"
   ]
  },
  {
   "cell_type": "code",
   "execution_count": 222,
   "id": "5daf8bcd",
   "metadata": {},
   "outputs": [
    {
     "data": {
      "text/plain": [
       "(759268, 15)"
      ]
     },
     "execution_count": 222,
     "metadata": {},
     "output_type": "execute_result"
    }
   ],
   "source": [
    "X = X_norm[np.sum(np.isnan(X_norm), axis=1)==0]\n",
    "X.shape"
   ]
  },
  {
   "cell_type": "code",
   "execution_count": 223,
   "id": "d8b2f1b5",
   "metadata": {},
   "outputs": [
    {
     "data": {
      "image/png": "[encoded data removed]",
      "text/plain": [
       "<Figure size 432x288 with 1 Axes>"
      ]
     },
     "metadata": {
      "needs_background": "light"
     },
     "output_type": "display_data"
    }
   ],
   "source": [
    "plt.hist(X[:,0]);"
   ]
  },
  {
   "cell_type": "code",
   "execution_count": 224,
   "id": "051efd10",
   "metadata": {},
   "outputs": [],
   "source": [
    "class MyDataset(Dataset):\n",
    "    def __init__(self, X, icol):\n",
    "        self.X = X\n",
    "        self.icol = icol\n",
    "    \n",
    "    def __len__(self):\n",
    "        return len(self.X)\n",
    "    \n",
    "    def __getitem__(self, idx):\n",
    "        return torch.Tensor(np.hstack((self.X[idx,:self.icol], self.X[idx,(self.icol+1):]))), torch.Tensor([self.X[idx,self.icol]])"
   ]
  },
  {
   "cell_type": "code",
   "execution_count": 174,
   "id": "d8d7a5b6",
   "metadata": {},
   "outputs": [],
   "source": [
    "class Model(nn.Module):\n",
    "    def __init__(self, input_dim=14, hidden_dim=128):\n",
    "        super().__init__()\n",
    "        self.fc1 = nn.Linear(input_dim, hidden_dim*4)\n",
    "        self.bn1 = nn.BatchNorm1d(hidden_dim*4)\n",
    "        self.fc2 = nn.Linear(hidden_dim*4, hidden_dim*2)\n",
    "        self.bn2 = nn.BatchNorm1d(hidden_dim*2)\n",
    "        self.fc3 = nn.Linear(hidden_dim*2, hidden_dim)\n",
    "        self.bn3 = nn.BatchNorm1d(hidden_dim)\n",
    "        self.fc4 = nn.Linear(hidden_dim, 1)\n",
    "        self.activation = nn.ReLU()\n",
    "    def forward(self, x):\n",
    "        x = self.bn1(self.activation(self.fc1(x)))\n",
    "        x = self.bn2(self.activation(self.fc2(x)))\n",
    "        x = self.bn3(self.activation(self.fc3(x)))\n",
    "        return nn.Tanh()(self.fc4(x))"
   ]
  },
  {
   "cell_type": "code",
   "execution_count": 136,
   "id": "506e4d3e",
   "metadata": {},
   "outputs": [],
   "source": [
    "# def val(model, dataloader):\n",
    "#     criteria = nn.MSELoss()\n",
    "#     model.eval()\n",
    "#     with torch.no_grad():\n",
    "#         loss_mean = 0\n",
    "#         loss_median = 0\n",
    "#         for X, y in dataloader:\n",
    "#             predict = model(X)\n",
    "#             loss = criteria(predict, y)\n",
    "#             loss_mean += loss.item() * X.shape[0]\n",
    "#             loss_median = (predict-y).abs().median().item() * X.shape[0]\n",
    "#     return loss_mean / len(dataloader.dataset), loss_median / len(dataloader.dataset)"
   ]
  },
  {
   "cell_type": "code",
   "execution_count": 175,
   "id": "8154a27f",
   "metadata": {},
   "outputs": [],
   "source": [
    "def val(model, dataloader):\n",
    "    criteria = nn.MSELoss()\n",
    "    model.eval()\n",
    "    with torch.no_grad():\n",
    "        loss_mean = 0\n",
    "        for X, y in dataloader:\n",
    "            predict = model(X)\n",
    "            loss = criteria(predict, y)\n",
    "            loss_mean += loss.item() * X.shape[0]\n",
    "    return loss_mean / len(dataloader.dataset)"
   ]
  },
  {
   "cell_type": "code",
   "execution_count": 176,
   "id": "1961db90",
   "metadata": {},
   "outputs": [],
   "source": [
    "def train(dataset, savename, epoches=1000, earlystop_patience=10):\n",
    "    model = Model()\n",
    "    \n",
    "    n = len(dataset)\n",
    "    n1 = int(0.9*n)\n",
    "    n2 = n - n1\n",
    "    train_dataset, val_dataset = random_split(dataset, [n1,n2])\n",
    "    train_dataloader = DataLoader(train_dataset, batch_size=1024, shuffle=True, drop_last=True)\n",
    "    val_dataloader = DataLoader(val_dataset, batch_size=1024, shuffle=False, drop_last=False)\n",
    "    optimizer = torch.optim.Adam(model.parameters(), lr=1e-2)\n",
    "    scheduler = torch.optim.lr_scheduler.ReduceLROnPlateau(optimizer, 'min', patience=5)\n",
    "    criteria = nn.MSELoss()\n",
    "    \n",
    "#     print(f'starting loss={val(model, train_dataloader)}')\n",
    "    \n",
    "    val_loss_min = 100.\n",
    "    best_epoch = 0\n",
    "    \n",
    "    for epoch in range(epoches):\n",
    "        \n",
    "        print(f'lr={optimizer.param_groups[0][\"lr\"]}')\n",
    "        \n",
    "        if epoch - best_epoch > earlystop_patience:\n",
    "            print('early stop')\n",
    "            break\n",
    "        \n",
    "        model.train()\n",
    "\n",
    "        loss_mean = 0\n",
    "        for X, y in train_dataloader:\n",
    "            predict = model(X)\n",
    "            loss = criteria(predict, y)\n",
    "            optimizer.zero_grad()\n",
    "            loss.backward()\n",
    "            optimizer.step()\n",
    "            loss_mean += loss.item() * X.shape[0]\n",
    "        \n",
    "        loss_mean /= len(train_dataloader.dataset)\n",
    "        val_loss = val(model, val_dataloader)\n",
    "        print(f\"{datetime.now().strftime('%H:%M:%S')}-epoch {epoch}: training loss={loss_mean}, validation loss={val_loss}\")\n",
    "        scheduler.step(val_loss)\n",
    "        \n",
    "        if val_loss < val_loss_min:\n",
    "            val_loss_min = val_loss\n",
    "            best_epoch = epoch\n",
    "            torch.save({'model':model.state_dict()}, savename)"
   ]
  },
  {
   "cell_type": "code",
   "execution_count": 225,
   "id": "93ed1e4d",
   "metadata": {},
   "outputs": [
    {
     "data": {
      "text/plain": [
       "(759268, 15)"
      ]
     },
     "execution_count": 225,
     "metadata": {},
     "output_type": "execute_result"
    }
   ],
   "source": [
    "X.shape"
   ]
  },
  {
   "cell_type": "code",
   "execution_count": 166,
   "id": "5fec80c3",
   "metadata": {},
   "outputs": [
    {
     "name": "stdout",
     "output_type": "stream",
     "text": [
      "lr=0.01\n",
      "16:24:15-epoch 0: training loss=0.006822823257539941, validation loss=0.0016493547114776659\n",
      "lr=0.01\n",
      "16:24:42-epoch 1: training loss=0.0004462190340328014, validation loss=0.0008184428982193078\n",
      "lr=0.01\n",
      "16:25:10-epoch 2: training loss=0.00034006777393435697, validation loss=0.0005734590627648942\n",
      "lr=0.01\n",
      "16:25:37-epoch 3: training loss=0.00029081687310505435, validation loss=0.0002392526262870006\n",
      "lr=0.01\n",
      "16:26:05-epoch 4: training loss=0.00022161178761391913, validation loss=0.0004581622817988171\n",
      "lr=0.01\n",
      "16:26:34-epoch 5: training loss=0.0001891070049808926, validation loss=0.00015723070098635933\n",
      "lr=0.01\n",
      "16:27:02-epoch 6: training loss=0.00018525591992401704, validation loss=0.00016738307603931897\n",
      "lr=0.01\n",
      "16:27:30-epoch 7: training loss=0.00015294777225991068, validation loss=0.00010635663516568784\n",
      "lr=0.01\n",
      "16:27:59-epoch 8: training loss=0.0001724164749591329, validation loss=0.00021134410930512469\n",
      "lr=0.01\n",
      "16:28:28-epoch 9: training loss=0.0001539627280599322, validation loss=0.0004368598987839601\n",
      "lr=0.01\n",
      "16:28:57-epoch 10: training loss=0.00015229284518123972, validation loss=5.050999548080647e-05\n",
      "lr=0.01\n",
      "16:29:27-epoch 11: training loss=0.00014689882082438518, validation loss=9.480076209449131e-05\n",
      "lr=0.01\n",
      "16:29:58-epoch 12: training loss=0.00014979754991848793, validation loss=7.771804444858802e-05\n",
      "lr=0.01\n",
      "16:30:27-epoch 13: training loss=0.00013666546909597794, validation loss=0.018578721182590244\n",
      "lr=0.01\n",
      "16:30:57-epoch 14: training loss=0.00015158904363450623, validation loss=7.19818976004559e-05\n",
      "lr=0.01\n",
      "16:31:27-epoch 15: training loss=0.00015388898225372183, validation loss=0.0001464932951472892\n",
      "lr=0.01\n",
      "16:31:56-epoch 16: training loss=0.00016315158016637541, validation loss=9.806182128640542e-05\n",
      "lr=0.001\n",
      "16:32:26-epoch 17: training loss=7.336697181810273e-05, validation loss=8.608606270189096e-05\n",
      "lr=0.001\n",
      "16:32:55-epoch 18: training loss=7.772306171062011e-05, validation loss=8.180922440929799e-05\n",
      "lr=0.001\n",
      "16:33:26-epoch 19: training loss=7.638115021621958e-05, validation loss=0.00011688077241670893\n",
      "lr=0.001\n",
      "16:33:58-epoch 20: training loss=7.045853260255523e-05, validation loss=8.436287526396511e-05\n",
      "lr=0.001\n",
      "early stop\n"
     ]
    }
   ],
   "source": [
    "for icol in range(15):\n",
    "    mydataset = MyDataset(X, icol)\n",
    "    train(mydataset, f'model_0_{icol}.pickle')"
   ]
  }
 ],
 "metadata": {
  "kernelspec": {
   "display_name": "Python 3 (ipykernel)",
   "language": "python",
   "name": "python3"
  },
  "language_info": {
   "codemirror_mode": {
    "name": "ipython",
    "version": 3
   },
   "file_extension": ".py",
   "mimetype": "text/x-python",
   "name": "python",
   "nbconvert_exporter": "python",
   "pygments_lexer": "ipython3",
   "version": "3.9.12"
  }
 },
 "nbformat": 4,
 "nbformat_minor": 5
}
