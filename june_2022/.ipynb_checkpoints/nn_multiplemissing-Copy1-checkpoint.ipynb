{
 "cells": [
  {
   "cell_type": "markdown",
   "id": "450cc268",
   "metadata": {},
   "source": [
    "let's see how long does it to run for one col"
   ]
  },
  {
   "cell_type": "code",
   "execution_count": 1,
   "id": "859931fc",
   "metadata": {},
   "outputs": [],
   "source": [
    "import pandas as pd\n",
    "from matplotlib import pyplot as plt\n",
    "import numpy as np\n",
    "from torch.utils.data import DataLoader, Dataset\n",
    "import torch\n",
    "import torch.nn as nn\n",
    "from datetime import datetime\n",
    "from torch.utils.data import random_split\n",
    "from sklearn.preprocessing import MinMaxScaler"
   ]
  },
  {
   "cell_type": "code",
   "execution_count": 2,
   "id": "7481b83a",
   "metadata": {},
   "outputs": [
    {
     "data": {
      "text/html": [
       "<div>\n",
       "<style scoped>\n",
       "    .dataframe tbody tr th:only-of-type {\n",
       "        vertical-align: middle;\n",
       "    }\n",
       "\n",
       "    .dataframe tbody tr th {\n",
       "        vertical-align: top;\n",
       "    }\n",
       "\n",
       "    .dataframe thead th {\n",
       "        text-align: right;\n",
       "    }\n",
       "</style>\n",
       "<table border=\"1\" class=\"dataframe\">\n",
       "  <thead>\n",
       "    <tr style=\"text-align: right;\">\n",
       "      <th></th>\n",
       "      <th>row_id</th>\n",
       "      <th>F_1_0</th>\n",
       "      <th>F_1_1</th>\n",
       "      <th>F_1_2</th>\n",
       "      <th>F_1_3</th>\n",
       "      <th>F_1_4</th>\n",
       "      <th>F_1_5</th>\n",
       "      <th>F_1_6</th>\n",
       "      <th>F_1_7</th>\n",
       "      <th>F_1_8</th>\n",
       "      <th>...</th>\n",
       "      <th>F_4_5</th>\n",
       "      <th>F_4_6</th>\n",
       "      <th>F_4_7</th>\n",
       "      <th>F_4_8</th>\n",
       "      <th>F_4_9</th>\n",
       "      <th>F_4_10</th>\n",
       "      <th>F_4_11</th>\n",
       "      <th>F_4_12</th>\n",
       "      <th>F_4_13</th>\n",
       "      <th>F_4_14</th>\n",
       "    </tr>\n",
       "  </thead>\n",
       "  <tbody>\n",
       "    <tr>\n",
       "      <th>0</th>\n",
       "      <td>0</td>\n",
       "      <td>-0.354591</td>\n",
       "      <td>-0.464038</td>\n",
       "      <td>2.304115</td>\n",
       "      <td>0.734486</td>\n",
       "      <td>1.696395</td>\n",
       "      <td>0.136285</td>\n",
       "      <td>-0.518344</td>\n",
       "      <td>0.502640</td>\n",
       "      <td>-1.852504</td>\n",
       "      <td>...</td>\n",
       "      <td>3.744152</td>\n",
       "      <td>0.794438</td>\n",
       "      <td>0.265185</td>\n",
       "      <td>-0.561809</td>\n",
       "      <td>0.196480</td>\n",
       "      <td>0.373434</td>\n",
       "      <td>6.206995</td>\n",
       "      <td>3.809505</td>\n",
       "      <td>1.236486</td>\n",
       "      <td>1.182055</td>\n",
       "    </tr>\n",
       "    <tr>\n",
       "      <th>1</th>\n",
       "      <td>1</td>\n",
       "      <td>1.380940</td>\n",
       "      <td>-0.499626</td>\n",
       "      <td>-0.418548</td>\n",
       "      <td>1.911725</td>\n",
       "      <td>-0.826130</td>\n",
       "      <td>-1.715371</td>\n",
       "      <td>-0.577091</td>\n",
       "      <td>-1.041486</td>\n",
       "      <td>0.596067</td>\n",
       "      <td>...</td>\n",
       "      <td>-2.895826</td>\n",
       "      <td>-0.738275</td>\n",
       "      <td>2.361818</td>\n",
       "      <td>-0.060753</td>\n",
       "      <td>0.727249</td>\n",
       "      <td>-0.271882</td>\n",
       "      <td>5.232157</td>\n",
       "      <td>-4.218259</td>\n",
       "      <td>-2.724883</td>\n",
       "      <td>-0.063775</td>\n",
       "    </tr>\n",
       "    <tr>\n",
       "      <th>2</th>\n",
       "      <td>2</td>\n",
       "      <td>0.256023</td>\n",
       "      <td>-1.059874</td>\n",
       "      <td>NaN</td>\n",
       "      <td>0.345678</td>\n",
       "      <td>1.513814</td>\n",
       "      <td>1.243864</td>\n",
       "      <td>-0.509648</td>\n",
       "      <td>-0.800481</td>\n",
       "      <td>-0.115945</td>\n",
       "      <td>...</td>\n",
       "      <td>2.252834</td>\n",
       "      <td>0.472496</td>\n",
       "      <td>2.491386</td>\n",
       "      <td>0.353381</td>\n",
       "      <td>-0.260682</td>\n",
       "      <td>-0.000833</td>\n",
       "      <td>-0.116457</td>\n",
       "      <td>-2.131747</td>\n",
       "      <td>3.661499</td>\n",
       "      <td>-0.131576</td>\n",
       "    </tr>\n",
       "    <tr>\n",
       "      <th>3</th>\n",
       "      <td>3</td>\n",
       "      <td>-0.728420</td>\n",
       "      <td>-2.432399</td>\n",
       "      <td>-2.453602</td>\n",
       "      <td>-0.020509</td>\n",
       "      <td>0.333397</td>\n",
       "      <td>0.086049</td>\n",
       "      <td>-1.787601</td>\n",
       "      <td>0.667011</td>\n",
       "      <td>0.761564</td>\n",
       "      <td>...</td>\n",
       "      <td>2.004600</td>\n",
       "      <td>-4.664806</td>\n",
       "      <td>-0.847211</td>\n",
       "      <td>-0.264249</td>\n",
       "      <td>0.664334</td>\n",
       "      <td>-0.557868</td>\n",
       "      <td>8.499483</td>\n",
       "      <td>-4.738799</td>\n",
       "      <td>-3.054611</td>\n",
       "      <td>0.494152</td>\n",
       "    </tr>\n",
       "    <tr>\n",
       "      <th>4</th>\n",
       "      <td>4</td>\n",
       "      <td>0.590212</td>\n",
       "      <td>-0.066127</td>\n",
       "      <td>0.468009</td>\n",
       "      <td>-1.096038</td>\n",
       "      <td>0.119399</td>\n",
       "      <td>-1.809710</td>\n",
       "      <td>0.466358</td>\n",
       "      <td>-0.053196</td>\n",
       "      <td>-0.580320</td>\n",
       "      <td>...</td>\n",
       "      <td>0.976937</td>\n",
       "      <td>2.558883</td>\n",
       "      <td>3.377724</td>\n",
       "      <td>0.846891</td>\n",
       "      <td>0.696032</td>\n",
       "      <td>0.554121</td>\n",
       "      <td>-5.979714</td>\n",
       "      <td>-2.869631</td>\n",
       "      <td>3.733057</td>\n",
       "      <td>-0.722943</td>\n",
       "    </tr>\n",
       "  </tbody>\n",
       "</table>\n",
       "<p>5 rows × 81 columns</p>\n",
       "</div>"
      ],
      "text/plain": [
       "   row_id     F_1_0     F_1_1     F_1_2     F_1_3     F_1_4     F_1_5  \\\n",
       "0       0 -0.354591 -0.464038  2.304115  0.734486  1.696395  0.136285   \n",
       "1       1  1.380940 -0.499626 -0.418548  1.911725 -0.826130 -1.715371   \n",
       "2       2  0.256023 -1.059874       NaN  0.345678  1.513814  1.243864   \n",
       "3       3 -0.728420 -2.432399 -2.453602 -0.020509  0.333397  0.086049   \n",
       "4       4  0.590212 -0.066127  0.468009 -1.096038  0.119399 -1.809710   \n",
       "\n",
       "      F_1_6     F_1_7     F_1_8  ...     F_4_5     F_4_6     F_4_7     F_4_8  \\\n",
       "0 -0.518344  0.502640 -1.852504  ...  3.744152  0.794438  0.265185 -0.561809   \n",
       "1 -0.577091 -1.041486  0.596067  ... -2.895826 -0.738275  2.361818 -0.060753   \n",
       "2 -0.509648 -0.800481 -0.115945  ...  2.252834  0.472496  2.491386  0.353381   \n",
       "3 -1.787601  0.667011  0.761564  ...  2.004600 -4.664806 -0.847211 -0.264249   \n",
       "4  0.466358 -0.053196 -0.580320  ...  0.976937  2.558883  3.377724  0.846891   \n",
       "\n",
       "      F_4_9    F_4_10    F_4_11    F_4_12    F_4_13    F_4_14  \n",
       "0  0.196480  0.373434  6.206995  3.809505  1.236486  1.182055  \n",
       "1  0.727249 -0.271882  5.232157 -4.218259 -2.724883 -0.063775  \n",
       "2 -0.260682 -0.000833 -0.116457 -2.131747  3.661499 -0.131576  \n",
       "3  0.664334 -0.557868  8.499483 -4.738799 -3.054611  0.494152  \n",
       "4  0.696032  0.554121 -5.979714 -2.869631  3.733057 -0.722943  \n",
       "\n",
       "[5 rows x 81 columns]"
      ]
     },
     "execution_count": 2,
     "metadata": {},
     "output_type": "execute_result"
    }
   ],
   "source": [
    "data = pd.read_csv('data.csv')\n",
    "data.head()"
   ]
  },
  {
   "cell_type": "code",
   "execution_count": 3,
   "id": "4158d93d",
   "metadata": {},
   "outputs": [
    {
     "data": {
      "text/html": [
       "<div>\n",
       "<style scoped>\n",
       "    .dataframe tbody tr th:only-of-type {\n",
       "        vertical-align: middle;\n",
       "    }\n",
       "\n",
       "    .dataframe tbody tr th {\n",
       "        vertical-align: top;\n",
       "    }\n",
       "\n",
       "    .dataframe thead th {\n",
       "        text-align: right;\n",
       "    }\n",
       "</style>\n",
       "<table border=\"1\" class=\"dataframe\">\n",
       "  <thead>\n",
       "    <tr style=\"text-align: right;\">\n",
       "      <th></th>\n",
       "      <th>F_4_0</th>\n",
       "      <th>F_4_1</th>\n",
       "      <th>F_4_2</th>\n",
       "      <th>F_4_3</th>\n",
       "      <th>F_4_4</th>\n",
       "      <th>F_4_5</th>\n",
       "      <th>F_4_6</th>\n",
       "      <th>F_4_7</th>\n",
       "      <th>F_4_8</th>\n",
       "      <th>F_4_9</th>\n",
       "      <th>F_4_10</th>\n",
       "      <th>F_4_11</th>\n",
       "      <th>F_4_12</th>\n",
       "      <th>F_4_13</th>\n",
       "      <th>F_4_14</th>\n",
       "    </tr>\n",
       "  </thead>\n",
       "  <tbody>\n",
       "    <tr>\n",
       "      <th>0</th>\n",
       "      <td>5.547214</td>\n",
       "      <td>1.066871</td>\n",
       "      <td>-0.134313</td>\n",
       "      <td>-0.101040</td>\n",
       "      <td>-0.660871</td>\n",
       "      <td>3.744152</td>\n",
       "      <td>0.794438</td>\n",
       "      <td>0.265185</td>\n",
       "      <td>-0.561809</td>\n",
       "      <td>0.196480</td>\n",
       "      <td>0.373434</td>\n",
       "      <td>6.206995</td>\n",
       "      <td>3.809505</td>\n",
       "      <td>1.236486</td>\n",
       "      <td>1.182055</td>\n",
       "    </tr>\n",
       "    <tr>\n",
       "      <th>1</th>\n",
       "      <td>-1.707374</td>\n",
       "      <td>-1.188114</td>\n",
       "      <td>-0.562419</td>\n",
       "      <td>-1.462988</td>\n",
       "      <td>1.290672</td>\n",
       "      <td>-2.895826</td>\n",
       "      <td>-0.738275</td>\n",
       "      <td>2.361818</td>\n",
       "      <td>-0.060753</td>\n",
       "      <td>0.727249</td>\n",
       "      <td>-0.271882</td>\n",
       "      <td>5.232157</td>\n",
       "      <td>-4.218259</td>\n",
       "      <td>-2.724883</td>\n",
       "      <td>-0.063775</td>\n",
       "    </tr>\n",
       "    <tr>\n",
       "      <th>2</th>\n",
       "      <td>1.914908</td>\n",
       "      <td>3.877128</td>\n",
       "      <td>NaN</td>\n",
       "      <td>0.358635</td>\n",
       "      <td>0.443973</td>\n",
       "      <td>2.252834</td>\n",
       "      <td>0.472496</td>\n",
       "      <td>2.491386</td>\n",
       "      <td>0.353381</td>\n",
       "      <td>-0.260682</td>\n",
       "      <td>-0.000833</td>\n",
       "      <td>-0.116457</td>\n",
       "      <td>-2.131747</td>\n",
       "      <td>3.661499</td>\n",
       "      <td>-0.131576</td>\n",
       "    </tr>\n",
       "    <tr>\n",
       "      <th>3</th>\n",
       "      <td>-2.638262</td>\n",
       "      <td>0.546676</td>\n",
       "      <td>0.865400</td>\n",
       "      <td>-0.857077</td>\n",
       "      <td>2.667105</td>\n",
       "      <td>2.004600</td>\n",
       "      <td>-4.664806</td>\n",
       "      <td>-0.847211</td>\n",
       "      <td>-0.264249</td>\n",
       "      <td>0.664334</td>\n",
       "      <td>-0.557868</td>\n",
       "      <td>8.499483</td>\n",
       "      <td>-4.738799</td>\n",
       "      <td>-3.054611</td>\n",
       "      <td>0.494152</td>\n",
       "    </tr>\n",
       "    <tr>\n",
       "      <th>4</th>\n",
       "      <td>-0.230342</td>\n",
       "      <td>-0.459019</td>\n",
       "      <td>1.128705</td>\n",
       "      <td>-0.748683</td>\n",
       "      <td>NaN</td>\n",
       "      <td>0.976937</td>\n",
       "      <td>2.558883</td>\n",
       "      <td>3.377724</td>\n",
       "      <td>0.846891</td>\n",
       "      <td>0.696032</td>\n",
       "      <td>0.554121</td>\n",
       "      <td>-5.979714</td>\n",
       "      <td>-2.869631</td>\n",
       "      <td>3.733057</td>\n",
       "      <td>-0.722943</td>\n",
       "    </tr>\n",
       "  </tbody>\n",
       "</table>\n",
       "</div>"
      ],
      "text/plain": [
       "      F_4_0     F_4_1     F_4_2     F_4_3     F_4_4     F_4_5     F_4_6  \\\n",
       "0  5.547214  1.066871 -0.134313 -0.101040 -0.660871  3.744152  0.794438   \n",
       "1 -1.707374 -1.188114 -0.562419 -1.462988  1.290672 -2.895826 -0.738275   \n",
       "2  1.914908  3.877128       NaN  0.358635  0.443973  2.252834  0.472496   \n",
       "3 -2.638262  0.546676  0.865400 -0.857077  2.667105  2.004600 -4.664806   \n",
       "4 -0.230342 -0.459019  1.128705 -0.748683       NaN  0.976937  2.558883   \n",
       "\n",
       "      F_4_7     F_4_8     F_4_9    F_4_10    F_4_11    F_4_12    F_4_13  \\\n",
       "0  0.265185 -0.561809  0.196480  0.373434  6.206995  3.809505  1.236486   \n",
       "1  2.361818 -0.060753  0.727249 -0.271882  5.232157 -4.218259 -2.724883   \n",
       "2  2.491386  0.353381 -0.260682 -0.000833 -0.116457 -2.131747  3.661499   \n",
       "3 -0.847211 -0.264249  0.664334 -0.557868  8.499483 -4.738799 -3.054611   \n",
       "4  3.377724  0.846891  0.696032  0.554121 -5.979714 -2.869631  3.733057   \n",
       "\n",
       "     F_4_14  \n",
       "0  1.182055  \n",
       "1 -0.063775  \n",
       "2 -0.131576  \n",
       "3  0.494152  \n",
       "4 -0.722943  "
      ]
     },
     "execution_count": 3,
     "metadata": {},
     "output_type": "execute_result"
    }
   ],
   "source": [
    "colF4 = [col for col in data.columns if col[0:3]=='F_4']\n",
    "data = data[colF4]\n",
    "data.head()"
   ]
  },
  {
   "cell_type": "code",
   "execution_count": 4,
   "id": "7b434271",
   "metadata": {},
   "outputs": [
    {
     "data": {
      "image/png": "[encoded data removed]",
      "text/plain": [
       "<Figure size 432x288 with 1 Axes>"
      ]
     },
     "metadata": {
      "needs_background": "light"
     },
     "output_type": "display_data"
    }
   ],
   "source": [
    "plt.hist(data.values[:,0]);"
   ]
  },
  {
   "cell_type": "code",
   "execution_count": 5,
   "id": "fa03960b",
   "metadata": {},
   "outputs": [
    {
     "data": {
      "text/plain": [
       "array([ 0.12215822,  0.0081264 ,  0.52363379,  0.55646253,  0.06318847,\n",
       "       -0.01269584, -0.01697574, -0.00782286,  0.57806483,  0.54337739,\n",
       "        0.61090476, -0.06693178,  0.03713929, -0.02567595,  0.59464957])"
      ]
     },
     "execution_count": 5,
     "metadata": {},
     "output_type": "execute_result"
    }
   ],
   "source": [
    "sc = MinMaxScaler(feature_range=(-1,1))\n",
    "X_norm = sc.fit_transform(data.values)\n",
    "means = np.nanmean(X_norm, axis=0)\n",
    "means"
   ]
  },
  {
   "cell_type": "code",
   "execution_count": 6,
   "id": "b859a85d",
   "metadata": {},
   "outputs": [
    {
     "data": {
      "text/plain": [
       "(array([8.00000e+00, 3.90000e+02, 6.64500e+03, 5.00040e+04, 1.95823e+05,\n",
       "        3.78967e+05, 2.79121e+05, 6.58650e+04, 4.92000e+03, 1.29000e+02]),\n",
       " array([-1.00000000e+00, -8.00000000e-01, -6.00000000e-01, -4.00000000e-01,\n",
       "        -2.00000000e-01, -1.11022302e-16,  2.00000000e-01,  4.00000000e-01,\n",
       "         6.00000000e-01,  8.00000000e-01,  1.00000000e+00]),\n",
       " <BarContainer object of 10 artists>)"
      ]
     },
     "execution_count": 6,
     "metadata": {},
     "output_type": "execute_result"
    },
    {
     "data": {
      "image/png": "[encoded data removed]",
      "text/plain": [
       "<Figure size 432x288 with 1 Axes>"
      ]
     },
     "metadata": {
      "needs_background": "light"
     },
     "output_type": "display_data"
    }
   ],
   "source": [
    "plt.hist(X_norm[:,0])"
   ]
  },
  {
   "cell_type": "code",
   "execution_count": 7,
   "id": "df6a8a2a",
   "metadata": {},
   "outputs": [
    {
     "data": {
      "text/plain": [
       "(759268, 15)"
      ]
     },
     "execution_count": 7,
     "metadata": {},
     "output_type": "execute_result"
    }
   ],
   "source": [
    "X = X_norm[np.sum(np.isnan(X_norm), axis=1)==0]\n",
    "X.shape"
   ]
  },
  {
   "cell_type": "code",
   "execution_count": 8,
   "id": "13addb26",
   "metadata": {},
   "outputs": [],
   "source": [
    "class MyDataset(Dataset):\n",
    "    ''' if nan=2, then nfill=1, 1 extra fill'''\n",
    "    def __init__(self, X, icol, nfill):\n",
    "        self.X = X\n",
    "        self.icol = icol\n",
    "        self.nfill = nfill\n",
    "        self.idx = list(range(15))\n",
    "        self.idx.remove(icol)\n",
    "        self.idx = np.array(self.idx)\n",
    "        print(self.idx)\n",
    "    \n",
    "    def __len__(self):\n",
    "        return len(self.X)\n",
    "    \n",
    "    def __getitem__(self, idx):\n",
    "        x = self.X[idx].copy()\n",
    "        idx = np.random.choice(self.idx, self.nfill, replace=False)\n",
    "#         print(idx)\n",
    "        x[idx] = -1\n",
    "        return torch.Tensor(np.hstack((x[:self.icol], x[self.icol+1:]))), torch.Tensor([x[self.icol]])"
   ]
  },
  {
   "cell_type": "code",
   "execution_count": 9,
   "id": "ae97eb6f",
   "metadata": {},
   "outputs": [
    {
     "name": "stdout",
     "output_type": "stream",
     "text": [
      "[ 0  1  2  3  4  6  7  8  9 10 11 12 13 14]\n"
     ]
    }
   ],
   "source": [
    "mydataset = MyDataset(X, 5, 1)"
   ]
  },
  {
   "cell_type": "code",
   "execution_count": 10,
   "id": "aae57848",
   "metadata": {},
   "outputs": [
    {
     "data": {
      "text/plain": [
       "array([ 0.56580515,  0.12361231,  0.51591465,  0.57154503, -0.01712219,\n",
       "        0.24869956,  0.05281905, -0.01354253,  0.50090001,  0.58696563,\n",
       "        0.6628569 ,  0.12974683,  0.34117027,  0.05467003,  0.77682826])"
      ]
     },
     "execution_count": 10,
     "metadata": {},
     "output_type": "execute_result"
    }
   ],
   "source": [
    "X[0]"
   ]
  },
  {
   "cell_type": "code",
   "execution_count": 11,
   "id": "0e31642f",
   "metadata": {},
   "outputs": [
    {
     "name": "stdout",
     "output_type": "stream",
     "text": [
      "(tensor([ 0.5658, -1.0000,  0.5159,  0.5715, -0.0171,  0.0528, -0.0135,  0.5009,\n",
      "         0.5870,  0.6629,  0.1297,  0.3412,  0.0547,  0.7768]), tensor([0.2487]))\n",
      "(tensor([ 0.5658,  0.1236,  0.5159,  0.5715, -1.0000,  0.0528, -0.0135,  0.5009,\n",
      "         0.5870,  0.6629,  0.1297,  0.3412,  0.0547,  0.7768]), tensor([0.2487]))\n",
      "(tensor([ 0.5658,  0.1236,  0.5159,  0.5715, -0.0171,  0.0528, -0.0135,  0.5009,\n",
      "         0.5870,  0.6629,  0.1297,  0.3412,  0.0547, -1.0000]), tensor([0.2487]))\n",
      "(tensor([ 0.5658,  0.1236,  0.5159,  0.5715, -0.0171,  0.0528, -0.0135,  0.5009,\n",
      "         0.5870, -1.0000,  0.1297,  0.3412,  0.0547,  0.7768]), tensor([0.2487]))\n",
      "(tensor([ 0.5658,  0.1236,  0.5159,  0.5715, -0.0171,  0.0528, -1.0000,  0.5009,\n",
      "         0.5870,  0.6629,  0.1297,  0.3412,  0.0547,  0.7768]), tensor([0.2487]))\n"
     ]
    }
   ],
   "source": [
    "for _ in range(5):\n",
    "    print(mydataset[0])"
   ]
  },
  {
   "cell_type": "code",
   "execution_count": 12,
   "id": "55f90565",
   "metadata": {},
   "outputs": [],
   "source": [
    "class Model(nn.Module):\n",
    "    def __init__(self, input_dim=14, hidden_dim=128):\n",
    "        super().__init__()\n",
    "        self.fc1 = nn.Linear(input_dim, hidden_dim*4)\n",
    "        self.bn1 = nn.BatchNorm1d(hidden_dim*4)\n",
    "        self.fc2 = nn.Linear(hidden_dim*4, hidden_dim*2)\n",
    "        self.bn2 = nn.BatchNorm1d(hidden_dim*2)\n",
    "        self.fc3 = nn.Linear(hidden_dim*2, hidden_dim)\n",
    "        self.bn3 = nn.BatchNorm1d(hidden_dim)\n",
    "        self.fc4 = nn.Linear(hidden_dim, 1)\n",
    "        self.activation = nn.ReLU()\n",
    "    def forward(self, x):\n",
    "        x = self.bn1(self.activation(self.fc1(x)))\n",
    "        x = self.bn2(self.activation(self.fc2(x)))\n",
    "        x = self.bn3(self.activation(self.fc3(x)))\n",
    "        return nn.Tanh()(self.fc4(x))"
   ]
  },
  {
   "cell_type": "code",
   "execution_count": 13,
   "id": "eca32926",
   "metadata": {},
   "outputs": [],
   "source": [
    "# def val(model, dataloader):\n",
    "#     criteria = nn.MSELoss()\n",
    "#     model.eval()\n",
    "#     with torch.no_grad():\n",
    "#         loss_mean = 0\n",
    "#         loss_median = 0\n",
    "#         for X, y in dataloader:\n",
    "#             predict = model(X)\n",
    "#             loss = criteria(predict, y)\n",
    "#             loss_mean += loss.item() * X.shape[0]\n",
    "#             loss_median = (predict-y).abs().median().item() * X.shape[0]\n",
    "#     return loss_mean / len(dataloader.dataset), loss_median / len(dataloader.dataset)"
   ]
  },
  {
   "cell_type": "code",
   "execution_count": 14,
   "id": "5f20e1fa",
   "metadata": {},
   "outputs": [],
   "source": [
    "def val(model, dataloader):\n",
    "    criteria = nn.MSELoss()\n",
    "    model.eval()\n",
    "    with torch.no_grad():\n",
    "        loss_mean = 0\n",
    "        for X, y in dataloader:\n",
    "            predict = model(X)\n",
    "            loss = criteria(predict, y)\n",
    "            loss_mean += loss.item() * X.shape[0]\n",
    "    return loss_mean / len(dataloader.dataset)"
   ]
  },
  {
   "cell_type": "code",
   "execution_count": 15,
   "id": "57e4ff31",
   "metadata": {},
   "outputs": [],
   "source": [
    "def train(dataset, savename, epoches=1000, earlystop_patience=10):\n",
    "    model = Model()\n",
    "    \n",
    "    n = len(dataset)\n",
    "    n1 = int(0.9*n)\n",
    "    n2 = n - n1\n",
    "    train_dataset, val_dataset = random_split(dataset, [n1,n2])\n",
    "    train_dataloader = DataLoader(train_dataset, batch_size=1024, shuffle=True, drop_last=True)\n",
    "    val_dataloader = DataLoader(val_dataset, batch_size=1024, shuffle=False, drop_last=False)\n",
    "    optimizer = torch.optim.Adam(model.parameters(), lr=1e-2)\n",
    "    scheduler = torch.optim.lr_scheduler.ReduceLROnPlateau(optimizer, 'min', patience=5)\n",
    "    criteria = nn.MSELoss()\n",
    "    \n",
    "#     print(f'starting loss={val(model, train_dataloader)}')\n",
    "    \n",
    "    val_loss_min = 100.\n",
    "    best_epoch = 0\n",
    "    \n",
    "    for epoch in range(epoches):\n",
    "        \n",
    "        print(f'lr={optimizer.param_groups[0][\"lr\"]}')\n",
    "        \n",
    "        if epoch - best_epoch > earlystop_patience:\n",
    "            print('early stop')\n",
    "            break\n",
    "        \n",
    "        model.train()\n",
    "\n",
    "        loss_mean = 0\n",
    "        for X, y in train_dataloader:\n",
    "            predict = model(X)\n",
    "            loss = criteria(predict, y)\n",
    "            optimizer.zero_grad()\n",
    "            loss.backward()\n",
    "            optimizer.step()\n",
    "            loss_mean += loss.item() * X.shape[0]\n",
    "        \n",
    "        loss_mean /= len(train_dataloader.dataset)\n",
    "        val_loss = val(model, val_dataloader)\n",
    "        print(f\"{datetime.now().strftime('%H:%M:%S')}-epoch {epoch}: training loss={loss_mean}, validation loss={val_loss}\")\n",
    "        scheduler.step(val_loss)\n",
    "        \n",
    "        if val_loss < val_loss_min:\n",
    "            val_loss_min = val_loss\n",
    "            best_epoch = epoch\n",
    "            torch.save({'model':model.state_dict()}, savename)"
   ]
  },
  {
   "cell_type": "code",
   "execution_count": 16,
   "id": "09334adf",
   "metadata": {},
   "outputs": [
    {
     "data": {
      "text/plain": [
       "(759268, 15)"
      ]
     },
     "execution_count": 16,
     "metadata": {},
     "output_type": "execute_result"
    }
   ],
   "source": [
    "X.shape"
   ]
  },
  {
   "cell_type": "code",
   "execution_count": null,
   "id": "9776c8d2",
   "metadata": {},
   "outputs": [
    {
     "name": "stdout",
     "output_type": "stream",
     "text": [
      "======== doing 11  ========\n",
      "[ 0  1  2  3  4  5  6  7  8  9 10 12 13 14]\n",
      "lr=0.01\n"
     ]
    }
   ],
   "source": [
    "for icol in range(11, 13):\n",
    "    print(f\"======== doing {icol}  ========\")\n",
    "    mydataset = MyDataset(X, icol, 2)\n",
    "    train(mydataset, f'model_2_{icol}.pickle')"
   ]
  }
 ],
 "metadata": {
  "kernelspec": {
   "display_name": "Python 3 (ipykernel)",
   "language": "python",
   "name": "python3"
  },
  "language_info": {
   "codemirror_mode": {
    "name": "ipython",
    "version": 3
   },
   "file_extension": ".py",
   "mimetype": "text/x-python",
   "name": "python",
   "nbconvert_exporter": "python",
   "pygments_lexer": "ipython3",
   "version": "3.9.12"
  }
 },
 "nbformat": 4,
 "nbformat_minor": 5
}
