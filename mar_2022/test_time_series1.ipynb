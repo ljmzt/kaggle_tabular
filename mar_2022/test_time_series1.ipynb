{
 "cells": [
  {
   "cell_type": "code",
   "execution_count": 103,
   "id": "0530cae9",
   "metadata": {},
   "outputs": [],
   "source": [
    "import pandas as pd\n",
    "import numpy as np\n",
    "from matplotlib import pyplot as plt\n",
    "import scipy.stats as stats\n",
    "from collections import defaultdict\n",
    "from itertools import product\n",
    "from sklearn.metrics import mean_absolute_error as mae\n",
    "import torch\n",
    "import torch.nn as nn\n",
    "import torch.nn.functional as F\n",
    "from torch.utils.data import DataLoader\n",
    "from torch import optim"
   ]
  },
  {
   "cell_type": "code",
   "execution_count": 254,
   "id": "901169b3",
   "metadata": {},
   "outputs": [],
   "source": [
    "# look_back = 504\n",
    "look_back = 72 * 3\n",
    "batch_size = 512"
   ]
  },
  {
   "cell_type": "code",
   "execution_count": 2,
   "id": "7636bb5d",
   "metadata": {},
   "outputs": [
    {
     "data": {
      "text/html": [
       "<div>\n",
       "<style scoped>\n",
       "    .dataframe tbody tr th:only-of-type {\n",
       "        vertical-align: middle;\n",
       "    }\n",
       "\n",
       "    .dataframe tbody tr th {\n",
       "        vertical-align: top;\n",
       "    }\n",
       "\n",
       "    .dataframe thead th {\n",
       "        text-align: right;\n",
       "    }\n",
       "</style>\n",
       "<table border=\"1\" class=\"dataframe\">\n",
       "  <thead>\n",
       "    <tr style=\"text-align: right;\">\n",
       "      <th></th>\n",
       "      <th>time</th>\n",
       "      <th>x</th>\n",
       "      <th>y</th>\n",
       "      <th>direction</th>\n",
       "      <th>congestion</th>\n",
       "    </tr>\n",
       "    <tr>\n",
       "      <th>row_id</th>\n",
       "      <th></th>\n",
       "      <th></th>\n",
       "      <th></th>\n",
       "      <th></th>\n",
       "      <th></th>\n",
       "    </tr>\n",
       "  </thead>\n",
       "  <tbody>\n",
       "    <tr>\n",
       "      <th>0</th>\n",
       "      <td>1991-04-01 00:00:00</td>\n",
       "      <td>0</td>\n",
       "      <td>0</td>\n",
       "      <td>EB</td>\n",
       "      <td>70</td>\n",
       "    </tr>\n",
       "    <tr>\n",
       "      <th>1</th>\n",
       "      <td>1991-04-01 00:00:00</td>\n",
       "      <td>0</td>\n",
       "      <td>0</td>\n",
       "      <td>NB</td>\n",
       "      <td>49</td>\n",
       "    </tr>\n",
       "    <tr>\n",
       "      <th>2</th>\n",
       "      <td>1991-04-01 00:00:00</td>\n",
       "      <td>0</td>\n",
       "      <td>0</td>\n",
       "      <td>SB</td>\n",
       "      <td>24</td>\n",
       "    </tr>\n",
       "    <tr>\n",
       "      <th>3</th>\n",
       "      <td>1991-04-01 00:00:00</td>\n",
       "      <td>0</td>\n",
       "      <td>1</td>\n",
       "      <td>EB</td>\n",
       "      <td>18</td>\n",
       "    </tr>\n",
       "    <tr>\n",
       "      <th>4</th>\n",
       "      <td>1991-04-01 00:00:00</td>\n",
       "      <td>0</td>\n",
       "      <td>1</td>\n",
       "      <td>NB</td>\n",
       "      <td>60</td>\n",
       "    </tr>\n",
       "    <tr>\n",
       "      <th>5</th>\n",
       "      <td>1991-04-01 00:00:00</td>\n",
       "      <td>0</td>\n",
       "      <td>1</td>\n",
       "      <td>SB</td>\n",
       "      <td>58</td>\n",
       "    </tr>\n",
       "    <tr>\n",
       "      <th>6</th>\n",
       "      <td>1991-04-01 00:00:00</td>\n",
       "      <td>0</td>\n",
       "      <td>1</td>\n",
       "      <td>WB</td>\n",
       "      <td>26</td>\n",
       "    </tr>\n",
       "    <tr>\n",
       "      <th>7</th>\n",
       "      <td>1991-04-01 00:00:00</td>\n",
       "      <td>0</td>\n",
       "      <td>2</td>\n",
       "      <td>EB</td>\n",
       "      <td>31</td>\n",
       "    </tr>\n",
       "    <tr>\n",
       "      <th>8</th>\n",
       "      <td>1991-04-01 00:00:00</td>\n",
       "      <td>0</td>\n",
       "      <td>2</td>\n",
       "      <td>NB</td>\n",
       "      <td>49</td>\n",
       "    </tr>\n",
       "    <tr>\n",
       "      <th>9</th>\n",
       "      <td>1991-04-01 00:00:00</td>\n",
       "      <td>0</td>\n",
       "      <td>2</td>\n",
       "      <td>SB</td>\n",
       "      <td>46</td>\n",
       "    </tr>\n",
       "  </tbody>\n",
       "</table>\n",
       "</div>"
      ],
      "text/plain": [
       "                       time  x  y direction  congestion\n",
       "row_id                                                 \n",
       "0       1991-04-01 00:00:00  0  0        EB          70\n",
       "1       1991-04-01 00:00:00  0  0        NB          49\n",
       "2       1991-04-01 00:00:00  0  0        SB          24\n",
       "3       1991-04-01 00:00:00  0  1        EB          18\n",
       "4       1991-04-01 00:00:00  0  1        NB          60\n",
       "5       1991-04-01 00:00:00  0  1        SB          58\n",
       "6       1991-04-01 00:00:00  0  1        WB          26\n",
       "7       1991-04-01 00:00:00  0  2        EB          31\n",
       "8       1991-04-01 00:00:00  0  2        NB          49\n",
       "9       1991-04-01 00:00:00  0  2        SB          46"
      ]
     },
     "execution_count": 2,
     "metadata": {},
     "output_type": "execute_result"
    }
   ],
   "source": [
    "dat = pd.read_csv('train.csv', index_col='row_id')\n",
    "dat.head(10)"
   ]
  },
  {
   "cell_type": "code",
   "execution_count": 3,
   "id": "5b548cd7",
   "metadata": {},
   "outputs": [],
   "source": [
    "def preprocess(dat):\n",
    "    time_mapper = {}\n",
    "    ii = 0\n",
    "    for h in range(24):\n",
    "        for mm in ['00','20','40']:\n",
    "            hh = '{0:02d}'.format(h)\n",
    "            time_mapper[hh+':'+mm] = ii\n",
    "            ii += 1\n",
    "\n",
    "    dat['unique'] = dat['x'].astype(str) + dat['y'].astype(str) + dat['direction']\n",
    "    uniques = dat['unique'].unique()\n",
    "    dat['day'] = pd.to_datetime(dat['time']).dt.weekday\n",
    "    dat['time_stamp'] = dat['time'].apply(lambda x:time_mapper[x.split()[1][:5]])\n",
    "\n",
    "    tmp = dat.groupby(['unique','day','time_stamp']).agg({'congestion':np.median})\n",
    "    median_mapper = tmp.to_dict()['congestion']\n",
    "    dat['median'] = dat.apply(lambda x: \\\n",
    "                              median_mapper[x['unique'],x['day'],x['time_stamp']], axis=1)\n",
    "    dat['congestion-median'] = dat['congestion'] - dat['median']\n",
    "    \n",
    "    all_time = pd.DataFrame(pd.date_range('1991-04-01 00:00:00', '1991-09-30 11:40:00', freq='20Min'), columns=['time'])\n",
    "    all_time['time'] = all_time['time'].astype(str)\n",
    "    \n",
    "    return uniques, median_mapper, time_mapper, all_time"
   ]
  },
  {
   "cell_type": "code",
   "execution_count": 5,
   "id": "8ba0d9e2",
   "metadata": {},
   "outputs": [],
   "source": [
    "uniques, median_mapper, time_mapper, all_time = preprocess(dat)"
   ]
  },
  {
   "cell_type": "code",
   "execution_count": 6,
   "id": "61df4e0f",
   "metadata": {},
   "outputs": [
    {
     "data": {
      "text/html": [
       "<div>\n",
       "<style scoped>\n",
       "    .dataframe tbody tr th:only-of-type {\n",
       "        vertical-align: middle;\n",
       "    }\n",
       "\n",
       "    .dataframe tbody tr th {\n",
       "        vertical-align: top;\n",
       "    }\n",
       "\n",
       "    .dataframe thead th {\n",
       "        text-align: right;\n",
       "    }\n",
       "</style>\n",
       "<table border=\"1\" class=\"dataframe\">\n",
       "  <thead>\n",
       "    <tr style=\"text-align: right;\">\n",
       "      <th></th>\n",
       "      <th>time</th>\n",
       "      <th>x</th>\n",
       "      <th>y</th>\n",
       "      <th>direction</th>\n",
       "      <th>congestion</th>\n",
       "      <th>unique</th>\n",
       "      <th>day</th>\n",
       "      <th>time_stamp</th>\n",
       "      <th>median</th>\n",
       "      <th>congestion-median</th>\n",
       "    </tr>\n",
       "    <tr>\n",
       "      <th>row_id</th>\n",
       "      <th></th>\n",
       "      <th></th>\n",
       "      <th></th>\n",
       "      <th></th>\n",
       "      <th></th>\n",
       "      <th></th>\n",
       "      <th></th>\n",
       "      <th></th>\n",
       "      <th></th>\n",
       "      <th></th>\n",
       "    </tr>\n",
       "  </thead>\n",
       "  <tbody>\n",
       "    <tr>\n",
       "      <th>0</th>\n",
       "      <td>1991-04-01 00:00:00</td>\n",
       "      <td>0</td>\n",
       "      <td>0</td>\n",
       "      <td>EB</td>\n",
       "      <td>70</td>\n",
       "      <td>00EB</td>\n",
       "      <td>0</td>\n",
       "      <td>0</td>\n",
       "      <td>35.0</td>\n",
       "      <td>35.0</td>\n",
       "    </tr>\n",
       "    <tr>\n",
       "      <th>1</th>\n",
       "      <td>1991-04-01 00:00:00</td>\n",
       "      <td>0</td>\n",
       "      <td>0</td>\n",
       "      <td>NB</td>\n",
       "      <td>49</td>\n",
       "      <td>00NB</td>\n",
       "      <td>0</td>\n",
       "      <td>0</td>\n",
       "      <td>29.0</td>\n",
       "      <td>20.0</td>\n",
       "    </tr>\n",
       "    <tr>\n",
       "      <th>2</th>\n",
       "      <td>1991-04-01 00:00:00</td>\n",
       "      <td>0</td>\n",
       "      <td>0</td>\n",
       "      <td>SB</td>\n",
       "      <td>24</td>\n",
       "      <td>00SB</td>\n",
       "      <td>0</td>\n",
       "      <td>0</td>\n",
       "      <td>24.0</td>\n",
       "      <td>0.0</td>\n",
       "    </tr>\n",
       "    <tr>\n",
       "      <th>3</th>\n",
       "      <td>1991-04-01 00:00:00</td>\n",
       "      <td>0</td>\n",
       "      <td>1</td>\n",
       "      <td>EB</td>\n",
       "      <td>18</td>\n",
       "      <td>01EB</td>\n",
       "      <td>0</td>\n",
       "      <td>0</td>\n",
       "      <td>17.0</td>\n",
       "      <td>1.0</td>\n",
       "    </tr>\n",
       "    <tr>\n",
       "      <th>4</th>\n",
       "      <td>1991-04-01 00:00:00</td>\n",
       "      <td>0</td>\n",
       "      <td>1</td>\n",
       "      <td>NB</td>\n",
       "      <td>60</td>\n",
       "      <td>01NB</td>\n",
       "      <td>0</td>\n",
       "      <td>0</td>\n",
       "      <td>63.0</td>\n",
       "      <td>-3.0</td>\n",
       "    </tr>\n",
       "    <tr>\n",
       "      <th>...</th>\n",
       "      <td>...</td>\n",
       "      <td>...</td>\n",
       "      <td>...</td>\n",
       "      <td>...</td>\n",
       "      <td>...</td>\n",
       "      <td>...</td>\n",
       "      <td>...</td>\n",
       "      <td>...</td>\n",
       "      <td>...</td>\n",
       "      <td>...</td>\n",
       "    </tr>\n",
       "    <tr>\n",
       "      <th>848830</th>\n",
       "      <td>1991-09-30 11:40:00</td>\n",
       "      <td>2</td>\n",
       "      <td>3</td>\n",
       "      <td>NB</td>\n",
       "      <td>54</td>\n",
       "      <td>23NB</td>\n",
       "      <td>0</td>\n",
       "      <td>35</td>\n",
       "      <td>58.0</td>\n",
       "      <td>-4.0</td>\n",
       "    </tr>\n",
       "    <tr>\n",
       "      <th>848831</th>\n",
       "      <td>1991-09-30 11:40:00</td>\n",
       "      <td>2</td>\n",
       "      <td>3</td>\n",
       "      <td>NE</td>\n",
       "      <td>28</td>\n",
       "      <td>23NE</td>\n",
       "      <td>0</td>\n",
       "      <td>35</td>\n",
       "      <td>26.0</td>\n",
       "      <td>2.0</td>\n",
       "    </tr>\n",
       "    <tr>\n",
       "      <th>848832</th>\n",
       "      <td>1991-09-30 11:40:00</td>\n",
       "      <td>2</td>\n",
       "      <td>3</td>\n",
       "      <td>SB</td>\n",
       "      <td>68</td>\n",
       "      <td>23SB</td>\n",
       "      <td>0</td>\n",
       "      <td>35</td>\n",
       "      <td>71.0</td>\n",
       "      <td>-3.0</td>\n",
       "    </tr>\n",
       "    <tr>\n",
       "      <th>848833</th>\n",
       "      <td>1991-09-30 11:40:00</td>\n",
       "      <td>2</td>\n",
       "      <td>3</td>\n",
       "      <td>SW</td>\n",
       "      <td>17</td>\n",
       "      <td>23SW</td>\n",
       "      <td>0</td>\n",
       "      <td>35</td>\n",
       "      <td>20.0</td>\n",
       "      <td>-3.0</td>\n",
       "    </tr>\n",
       "    <tr>\n",
       "      <th>848834</th>\n",
       "      <td>1991-09-30 11:40:00</td>\n",
       "      <td>2</td>\n",
       "      <td>3</td>\n",
       "      <td>WB</td>\n",
       "      <td>24</td>\n",
       "      <td>23WB</td>\n",
       "      <td>0</td>\n",
       "      <td>35</td>\n",
       "      <td>37.0</td>\n",
       "      <td>-13.0</td>\n",
       "    </tr>\n",
       "  </tbody>\n",
       "</table>\n",
       "<p>848835 rows × 10 columns</p>\n",
       "</div>"
      ],
      "text/plain": [
       "                       time  x  y direction  congestion unique  day  \\\n",
       "row_id                                                                \n",
       "0       1991-04-01 00:00:00  0  0        EB          70   00EB    0   \n",
       "1       1991-04-01 00:00:00  0  0        NB          49   00NB    0   \n",
       "2       1991-04-01 00:00:00  0  0        SB          24   00SB    0   \n",
       "3       1991-04-01 00:00:00  0  1        EB          18   01EB    0   \n",
       "4       1991-04-01 00:00:00  0  1        NB          60   01NB    0   \n",
       "...                     ... .. ..       ...         ...    ...  ...   \n",
       "848830  1991-09-30 11:40:00  2  3        NB          54   23NB    0   \n",
       "848831  1991-09-30 11:40:00  2  3        NE          28   23NE    0   \n",
       "848832  1991-09-30 11:40:00  2  3        SB          68   23SB    0   \n",
       "848833  1991-09-30 11:40:00  2  3        SW          17   23SW    0   \n",
       "848834  1991-09-30 11:40:00  2  3        WB          24   23WB    0   \n",
       "\n",
       "        time_stamp  median  congestion-median  \n",
       "row_id                                         \n",
       "0                0    35.0               35.0  \n",
       "1                0    29.0               20.0  \n",
       "2                0    24.0                0.0  \n",
       "3                0    17.0                1.0  \n",
       "4                0    63.0               -3.0  \n",
       "...            ...     ...                ...  \n",
       "848830          35    58.0               -4.0  \n",
       "848831          35    26.0                2.0  \n",
       "848832          35    71.0               -3.0  \n",
       "848833          35    20.0               -3.0  \n",
       "848834          35    37.0              -13.0  \n",
       "\n",
       "[848835 rows x 10 columns]"
      ]
     },
     "execution_count": 6,
     "metadata": {},
     "output_type": "execute_result"
    }
   ],
   "source": [
    "dat"
   ]
  },
  {
   "cell_type": "code",
   "execution_count": 44,
   "id": "dadde697",
   "metadata": {},
   "outputs": [],
   "source": [
    "from sklearn.preprocessing import StandardScaler"
   ]
  },
  {
   "cell_type": "code",
   "execution_count": 71,
   "id": "0cd777ac",
   "metadata": {},
   "outputs": [],
   "source": [
    "def getseries(unique):\n",
    "    df = dat.loc[dat['unique']==unique, ['time', 'congestion-median']]\n",
    "    df = pd.merge(all_time, df, left_on='time', right_on='time', how='outer')\n",
    "    df = df.set_index('time')\n",
    "    df['congestion-median'] = df['congestion-median'].fillna(0)\n",
    "    ss = StandardScaler()\n",
    "    df['congestion-median-normalized'] = ss.fit_transform(df['congestion-median'].values.reshape(-1,1)).reshape(-1)\n",
    "    return df, ss"
   ]
  },
  {
   "cell_type": "code",
   "execution_count": 72,
   "id": "69ebc2e4",
   "metadata": {},
   "outputs": [
    {
     "name": "stdout",
     "output_type": "stream",
     "text": [
      "[0.95494673] [11.57954203]\n"
     ]
    },
    {
     "data": {
      "text/html": [
       "<div>\n",
       "<style scoped>\n",
       "    .dataframe tbody tr th:only-of-type {\n",
       "        vertical-align: middle;\n",
       "    }\n",
       "\n",
       "    .dataframe tbody tr th {\n",
       "        vertical-align: top;\n",
       "    }\n",
       "\n",
       "    .dataframe thead th {\n",
       "        text-align: right;\n",
       "    }\n",
       "</style>\n",
       "<table border=\"1\" class=\"dataframe\">\n",
       "  <thead>\n",
       "    <tr style=\"text-align: right;\">\n",
       "      <th></th>\n",
       "      <th>congestion-median</th>\n",
       "      <th>congestion-median-normalized</th>\n",
       "    </tr>\n",
       "    <tr>\n",
       "      <th>time</th>\n",
       "      <th></th>\n",
       "      <th></th>\n",
       "    </tr>\n",
       "  </thead>\n",
       "  <tbody>\n",
       "    <tr>\n",
       "      <th>1991-04-01 00:00:00</th>\n",
       "      <td>35.0</td>\n",
       "      <td>2.940104</td>\n",
       "    </tr>\n",
       "    <tr>\n",
       "      <th>1991-04-01 00:20:00</th>\n",
       "      <td>35.0</td>\n",
       "      <td>2.940104</td>\n",
       "    </tr>\n",
       "    <tr>\n",
       "      <th>1991-04-01 00:40:00</th>\n",
       "      <td>35.0</td>\n",
       "      <td>2.940104</td>\n",
       "    </tr>\n",
       "    <tr>\n",
       "      <th>1991-04-01 01:00:00</th>\n",
       "      <td>35.0</td>\n",
       "      <td>2.940104</td>\n",
       "    </tr>\n",
       "    <tr>\n",
       "      <th>1991-04-01 01:20:00</th>\n",
       "      <td>35.0</td>\n",
       "      <td>2.940104</td>\n",
       "    </tr>\n",
       "    <tr>\n",
       "      <th>...</th>\n",
       "      <td>...</td>\n",
       "      <td>...</td>\n",
       "    </tr>\n",
       "    <tr>\n",
       "      <th>1991-09-30 10:20:00</th>\n",
       "      <td>-7.0</td>\n",
       "      <td>-0.686983</td>\n",
       "    </tr>\n",
       "    <tr>\n",
       "      <th>1991-09-30 10:40:00</th>\n",
       "      <td>-6.0</td>\n",
       "      <td>-0.600624</td>\n",
       "    </tr>\n",
       "    <tr>\n",
       "      <th>1991-09-30 11:00:00</th>\n",
       "      <td>-7.0</td>\n",
       "      <td>-0.686983</td>\n",
       "    </tr>\n",
       "    <tr>\n",
       "      <th>1991-09-30 11:20:00</th>\n",
       "      <td>7.0</td>\n",
       "      <td>0.522046</td>\n",
       "    </tr>\n",
       "    <tr>\n",
       "      <th>1991-09-30 11:40:00</th>\n",
       "      <td>17.0</td>\n",
       "      <td>1.385638</td>\n",
       "    </tr>\n",
       "  </tbody>\n",
       "</table>\n",
       "<p>13140 rows × 2 columns</p>\n",
       "</div>"
      ],
      "text/plain": [
       "                     congestion-median  congestion-median-normalized\n",
       "time                                                                \n",
       "1991-04-01 00:00:00               35.0                      2.940104\n",
       "1991-04-01 00:20:00               35.0                      2.940104\n",
       "1991-04-01 00:40:00               35.0                      2.940104\n",
       "1991-04-01 01:00:00               35.0                      2.940104\n",
       "1991-04-01 01:20:00               35.0                      2.940104\n",
       "...                                ...                           ...\n",
       "1991-09-30 10:20:00               -7.0                     -0.686983\n",
       "1991-09-30 10:40:00               -6.0                     -0.600624\n",
       "1991-09-30 11:00:00               -7.0                     -0.686983\n",
       "1991-09-30 11:20:00                7.0                      0.522046\n",
       "1991-09-30 11:40:00               17.0                      1.385638\n",
       "\n",
       "[13140 rows x 2 columns]"
      ]
     },
     "execution_count": 72,
     "metadata": {},
     "output_type": "execute_result"
    }
   ],
   "source": [
    "df, ss = getseries('00EB')\n",
    "print(ss.mean_, ss.scale_)\n",
    "df"
   ]
  },
  {
   "cell_type": "code",
   "execution_count": 73,
   "id": "b7e286ee",
   "metadata": {},
   "outputs": [],
   "source": [
    "from matplotlib import pyplot as plt"
   ]
  },
  {
   "cell_type": "code",
   "execution_count": 74,
   "id": "f447fbbb",
   "metadata": {},
   "outputs": [
    {
     "data": {
      "text/plain": [
       "[<matplotlib.lines.Line2D at 0x1369cf610>]"
      ]
     },
     "execution_count": 74,
     "metadata": {},
     "output_type": "execute_result"
    },
    {
     "data": {
      "image/png": "[encoded data removed]",
      "text/plain": [
       "<Figure size 432x288 with 1 Axes>"
      ]
     },
     "metadata": {
      "needs_background": "light"
     },
     "output_type": "display_data"
    }
   ],
   "source": [
    "plt.plot(df['congestion-median-normalized'].values)"
   ]
  },
  {
   "cell_type": "code",
   "execution_count": 255,
   "id": "7f5ed5f8",
   "metadata": {},
   "outputs": [],
   "source": [
    "test_periods = [\n",
    "    ['1991-08-26 12:00:00', '1991-09-02 24:00:00'],\n",
    "    ['1991-09-02 12:00:00', '1991-09-02 24:00:00'],\n",
    "    ['1991-09-09 12:00:00', '1991-09-09 24:00:00'],\n",
    "    ['1991-09-16 12:00:00', '1991-09-16 24:00:00']]"
   ]
  },
  {
   "cell_type": "code",
   "execution_count": 256,
   "id": "21b322b4",
   "metadata": {},
   "outputs": [
    {
     "data": {
      "text/plain": [
       "[['1991-08-23 12:00:00', '1991-09-02 24:00:00'],\n",
       " ['1991-08-30 12:00:00', '1991-09-02 24:00:00'],\n",
       " ['1991-09-06 12:00:00', '1991-09-09 24:00:00'],\n",
       " ['1991-09-13 12:00:00', '1991-09-16 24:00:00']]"
      ]
     },
     "execution_count": 256,
     "metadata": {},
     "output_type": "execute_result"
    }
   ],
   "source": [
    "test_periods_with_lookback = []\n",
    "for period in test_periods:\n",
    "    id1 = df.index.to_list().index(period[0])\n",
    "    test_periods_with_lookback.append([df.index[id1-look_back], period[1]])\n",
    "test_periods_with_lookback"
   ]
  },
  {
   "cell_type": "code",
   "execution_count": 143,
   "id": "397e72f3",
   "metadata": {},
   "outputs": [
    {
     "data": {
      "text/plain": [
       "congestion-median              -6.000000\n",
       "congestion-median-normalized   -0.600624\n",
       "Name: 1991-08-25 12:00:00, dtype: float64"
      ]
     },
     "execution_count": 143,
     "metadata": {},
     "output_type": "execute_result"
    }
   ],
   "source": [
    "df.loc['1991-08-25 12:00:00']"
   ]
  },
  {
   "cell_type": "code",
   "execution_count": 144,
   "id": "7e5dac37",
   "metadata": {},
   "outputs": [
    {
     "data": {
      "text/plain": [
       "congestion-median               10.000000\n",
       "congestion-median-normalized     0.781124\n",
       "Name: 1991-08-26 12:00:00, dtype: float64"
      ]
     },
     "execution_count": 144,
     "metadata": {},
     "output_type": "execute_result"
    }
   ],
   "source": [
    "df.loc['1991-08-26 12:00:00']"
   ]
  },
  {
   "cell_type": "code",
   "execution_count": 241,
   "id": "d7cf1a35",
   "metadata": {},
   "outputs": [],
   "source": [
    "def create_dataset(dataset, look_back=5):\n",
    "    dataX, dataY = [], []\n",
    "    for i in range(len(dataset)-look_back-1):\n",
    "        a = dataset[i:(i+look_back)]\n",
    "        dataX.append(a)\n",
    "        dataY.append(dataset[i+1:i+look_back+1])\n",
    "    return np.array(dataX), np.array(dataY)"
   ]
  },
  {
   "cell_type": "code",
   "execution_count": 242,
   "id": "4dac19ce",
   "metadata": {},
   "outputs": [],
   "source": [
    "def assemble(dat):\n",
    "    train_loaders, test_loaders = [], []\n",
    "    for period in test_periods_with_lookback:\n",
    "        train = dat.loc[dat.index < period[0], 'congestion-median-normalized'].values\n",
    "        test = dat.loc[(dat.index >= period[0]) & (dat.index <= period[1]), 'congestion-median-normalized'].values\n",
    "        print(test[0])\n",
    "        \n",
    "        X, y = create_dataset(train, look_back=look_back)\n",
    "        train_dataset = []\n",
    "        for i in range(len(X)):\n",
    "            train_dataset.append((torch.tensor(X[i].reshape(-1,1),dtype=torch.float32),\n",
    "                                  torch.tensor(y[i].reshape(-1,1),dtype=torch.float32)))\n",
    "        train_loaders.append(DataLoader(train_dataset, batch_size=batch_size, drop_last=False))\n",
    "        \n",
    "        X, y = create_dataset(test, look_back=look_back)\n",
    "        test_dataset = []\n",
    "        for i in range(len(X)):\n",
    "            test_dataset.append((torch.tensor(X[i].reshape(-1,1),dtype=torch.float32),\n",
    "                                 torch.tensor(y[i].reshape(-1,1),dtype=torch.float32)))\n",
    "        test_loaders.append(DataLoader(test_dataset, batch_size=batch_size, drop_last=False))\n",
    "        \n",
    "    return train_loaders, test_loaders"
   ]
  },
  {
   "cell_type": "code",
   "execution_count": 257,
   "id": "f234a64f",
   "metadata": {},
   "outputs": [
    {
     "name": "stdout",
     "output_type": "stream",
     "text": [
      "-0.3415460401661718\n",
      "1.3856379837652852\n",
      "-1.3778564545250458\n",
      "2.0765115933378677\n"
     ]
    }
   ],
   "source": [
    "train_loaders, test_loaders = assemble(df)"
   ]
  },
  {
   "cell_type": "code",
   "execution_count": 258,
   "id": "9d7b2a7f",
   "metadata": {},
   "outputs": [
    {
     "data": {
      "text/plain": [
       "(torch.Size([512, 216, 1]), torch.Size([512, 216, 1]))"
      ]
     },
     "execution_count": 258,
     "metadata": {},
     "output_type": "execute_result"
    }
   ],
   "source": [
    "next(iter(test_loaders[0]))[0].shape,next(iter(test_loaders[0]))[1].shape"
   ]
  },
  {
   "cell_type": "code",
   "execution_count": 259,
   "id": "fc043c5c",
   "metadata": {},
   "outputs": [],
   "source": [
    "class MyModel(nn.Module):\n",
    "    def __init__(self, input_feature, hidden_size, output_feature, num_layers=1):\n",
    "        super(MyModel, self).__init__()\n",
    "        self.linear = nn.Linear(input_feature, hidden_size)\n",
    "        self.gru = nn.GRU(hidden_size, hidden_size, batch_first=True, num_layers=num_layers, dropout=0.2)\n",
    "        ''' gru input is (N,L,H_in=H_hidden), output is (N,L,H_hidden), hidden is (num_layers, h_hidden)'''\n",
    "        self.linear_out = nn.Linear(hidden_size, output_feature)\n",
    "        self.hidden_size = hidden_size\n",
    "        self.num_layers = num_layers\n",
    "    \n",
    "    def forward(self, input, hidden):\n",
    "        ''' X is in the shape of (N,L,input_feature) '''\n",
    "        output = F.relu(self.linear(input))\n",
    "        output, hidden = self.gru(output, hidden)\n",
    "        output = self.linear_out(F.relu(output))\n",
    "        return output\n",
    "    \n",
    "    def initHidden(self, batch_size):\n",
    "        return torch.zeros((self.num_layers, batch_size, self.hidden_size))"
   ]
  },
  {
   "cell_type": "code",
   "execution_count": 260,
   "id": "f2498285",
   "metadata": {},
   "outputs": [],
   "source": [
    "model = MyModel(1, 4, 1, num_layers=3)\n",
    "criterion = nn.L1Loss()"
   ]
  },
  {
   "cell_type": "code",
   "execution_count": 261,
   "id": "f88409fb",
   "metadata": {},
   "outputs": [
    {
     "data": {
      "text/plain": [
       "torch.Size([512, 216, 1])"
      ]
     },
     "execution_count": 261,
     "metadata": {},
     "output_type": "execute_result"
    }
   ],
   "source": [
    "xtmp = next(iter(train_loaders[0]))\n",
    "xtmp[0].shape"
   ]
  },
  {
   "cell_type": "code",
   "execution_count": 262,
   "id": "0333a728",
   "metadata": {},
   "outputs": [
    {
     "data": {
      "text/plain": [
       "torch.Size([3, 512, 4])"
      ]
     },
     "execution_count": 262,
     "metadata": {},
     "output_type": "execute_result"
    }
   ],
   "source": [
    "h0 = model.initHidden(len(xtmp[0]))\n",
    "h0.shape"
   ]
  },
  {
   "cell_type": "code",
   "execution_count": 263,
   "id": "909fad2b",
   "metadata": {},
   "outputs": [
    {
     "data": {
      "text/plain": [
       "torch.Size([512, 216, 1])"
      ]
     },
     "execution_count": 263,
     "metadata": {},
     "output_type": "execute_result"
    }
   ],
   "source": [
    "y_pred = model.forward(xtmp[0], h0)\n",
    "y_pred.shape"
   ]
  },
  {
   "cell_type": "code",
   "execution_count": 264,
   "id": "c5e75eba",
   "metadata": {},
   "outputs": [
    {
     "data": {
      "text/plain": [
       "torch.Size([512, 216, 1])"
      ]
     },
     "execution_count": 264,
     "metadata": {},
     "output_type": "execute_result"
    }
   ],
   "source": [
    "next(iter(train_loaders[0]))[1].shape"
   ]
  },
  {
   "cell_type": "code",
   "execution_count": 265,
   "id": "dc0d52bd",
   "metadata": {},
   "outputs": [
    {
     "data": {
      "text/plain": [
       "tensor(0.6612, grad_fn=<L1LossBackward0>)"
      ]
     },
     "execution_count": 265,
     "metadata": {},
     "output_type": "execute_result"
    }
   ],
   "source": [
    "criterion(y_pred, next(iter(train_loaders[0]))[1])"
   ]
  },
  {
   "cell_type": "code",
   "execution_count": 266,
   "id": "18448de2",
   "metadata": {},
   "outputs": [],
   "source": [
    "def evaluate(test_loader):\n",
    "    model.eval()\n",
    "    with torch.no_grad():\n",
    "        loss = 0\n",
    "        n = 0\n",
    "        for batch, (x, y) in enumerate(test_loader):\n",
    "            h0 = model.initHidden(len(x))\n",
    "            output = model.forward(x, h0)\n",
    "            loss += criterion(output ,y).item() * len(x)\n",
    "            n += len(x)\n",
    "        loss /= n\n",
    "    return loss\n",
    "\n",
    "def train(n_epoches, train_loader, test_loader):\n",
    "    optimizer = optim.Adam(model.parameters(), lr=1e-4)\n",
    "    \n",
    "    for epoch in range(n_epoches):\n",
    "        \n",
    "        curr_loss = 0.0\n",
    "        model.train()\n",
    "        \n",
    "        n = 0\n",
    "        for batch, (x, y) in enumerate(train_loader):\n",
    "            h0 = model.initHidden(len(x))\n",
    "            output = model.forward(x, h0)\n",
    "            loss = criterion(output, y)\n",
    "            \n",
    "            optimizer.zero_grad()\n",
    "            loss.backward()\n",
    "            optimizer.step()\n",
    "            \n",
    "            curr_loss += loss*len(x)\n",
    "            n += len(x)\n",
    "        \n",
    "        curr_loss /= len(train_loader.dataset)\n",
    "        test_loss = evaluate(test_loader)\n",
    "        print(f'current training loss={loss.item()} test loss = {test_loss}')\n"
   ]
  },
  {
   "cell_type": "code",
   "execution_count": 267,
   "id": "ad5fed68",
   "metadata": {},
   "outputs": [
    {
     "name": "stdout",
     "output_type": "stream",
     "text": [
      "current training loss=0.961962103843689 test loss = 0.7813981771469116\n",
      "current training loss=0.9586765766143799 test loss = 0.7762427926063538\n",
      "current training loss=0.9555635452270508 test loss = 0.7717596888542175\n",
      "current training loss=0.953068196773529 test loss = 0.7679600119590759\n",
      "current training loss=0.9509341716766357 test loss = 0.7646756768226624\n",
      "current training loss=0.9491881728172302 test loss = 0.7619644403457642\n",
      "current training loss=0.9478358626365662 test loss = 0.7599841356277466\n",
      "current training loss=0.9465978145599365 test loss = 0.7582958936691284\n",
      "current training loss=0.9453668594360352 test loss = 0.7568888068199158\n",
      "current training loss=0.9444662928581238 test loss = 0.7557480931282043\n",
      "current training loss=0.943646252155304 test loss = 0.7548151612281799\n",
      "current training loss=0.9427403211593628 test loss = 0.7540326714515686\n",
      "current training loss=0.9419576525688171 test loss = 0.7533345222473145\n",
      "current training loss=0.9412542581558228 test loss = 0.7525660395622253\n",
      "current training loss=0.9404128789901733 test loss = 0.7517892122268677\n",
      "current training loss=0.9396994113922119 test loss = 0.7510160207748413\n",
      "current training loss=0.9390480518341064 test loss = 0.7502424120903015\n",
      "current training loss=0.9383242130279541 test loss = 0.7494677901268005\n",
      "current training loss=0.9377114176750183 test loss = 0.748691976070404\n",
      "current training loss=0.9370289444923401 test loss = 0.7479144930839539\n",
      "current training loss=0.9364129900932312 test loss = 0.74713534116745\n",
      "current training loss=0.9357768893241882 test loss = 0.7463542819023132\n",
      "current training loss=0.9351098537445068 test loss = 0.7455716133117676\n",
      "current training loss=0.9344968795776367 test loss = 0.7447872161865234\n",
      "current training loss=0.9338091015815735 test loss = 0.744001567363739\n",
      "current training loss=0.9331720471382141 test loss = 0.7432146072387695\n",
      "current training loss=0.9325535893440247 test loss = 0.7424264550209045\n",
      "current training loss=0.931914746761322 test loss = 0.7416368722915649\n",
      "current training loss=0.9313135147094727 test loss = 0.7408459186553955\n",
      "current training loss=0.9306965470314026 test loss = 0.740053653717041\n",
      "current training loss=0.9299972057342529 test loss = 0.7392604351043701\n",
      "current training loss=0.9295112490653992 test loss = 0.7386666536331177\n",
      "current training loss=0.9290311932563782 test loss = 0.7381978034973145\n",
      "current training loss=0.928669273853302 test loss = 0.7377350926399231\n",
      "current training loss=0.9281330108642578 test loss = 0.7372717261314392\n",
      "current training loss=0.9277461171150208 test loss = 0.736807644367218\n",
      "current training loss=0.927290678024292 test loss = 0.7363420128822327\n",
      "current training loss=0.9268516898155212 test loss = 0.7358749508857727\n",
      "current training loss=0.92641282081604 test loss = 0.7354068756103516\n",
      "current training loss=0.9259949922561646 test loss = 0.7349369525909424\n",
      "current training loss=0.9255450963973999 test loss = 0.7344655394554138\n",
      "current training loss=0.9250839948654175 test loss = 0.7339922785758972\n",
      "current training loss=0.9246639013290405 test loss = 0.7335173487663269\n",
      "current training loss=0.924171507358551 test loss = 0.7330407500267029\n",
      "current training loss=0.9237273335456848 test loss = 0.7325629591941833\n",
      "current training loss=0.9232923984527588 test loss = 0.7320834398269653\n",
      "current training loss=0.9228320121765137 test loss = 0.7316023111343384\n",
      "current training loss=0.9224016666412354 test loss = 0.7311196327209473\n",
      "current training loss=0.9219436645507812 test loss = 0.7306357026100159\n",
      "current training loss=0.9215103983879089 test loss = 0.7301502227783203\n",
      "current training loss=0.921051025390625 test loss = 0.7296631336212158\n",
      "current training loss=0.9205681085586548 test loss = 0.7291746735572815\n",
      "current training loss=0.9201334714889526 test loss = 0.7286850810050964\n",
      "current training loss=0.9196534752845764 test loss = 0.7281942963600159\n",
      "current training loss=0.9191988110542297 test loss = 0.7277024984359741\n",
      "current training loss=0.9187275767326355 test loss = 0.7272098660469055\n",
      "current training loss=0.9183091521263123 test loss = 0.7267158031463623\n",
      "current training loss=0.9178510308265686 test loss = 0.7262492775917053\n",
      "current training loss=0.9173853993415833 test loss = 0.7257986664772034\n",
      "current training loss=0.9169865250587463 test loss = 0.7253484129905701\n",
      "current training loss=0.916508674621582 test loss = 0.7248964905738831\n",
      "current training loss=0.9160356521606445 test loss = 0.7244433164596558\n",
      "current training loss=0.9156510829925537 test loss = 0.7239891290664673\n",
      "current training loss=0.9151583909988403 test loss = 0.7235339283943176\n",
      "current training loss=0.9147384762763977 test loss = 0.7230775952339172\n",
      "current training loss=0.9142746925354004 test loss = 0.7226213216781616\n",
      "current training loss=0.9137279391288757 test loss = 0.7221639156341553\n",
      "current training loss=0.9133204817771912 test loss = 0.7217101454734802\n",
      "current training loss=0.9129130840301514 test loss = 0.7212631702423096\n",
      "current training loss=0.9123350381851196 test loss = 0.720803439617157\n",
      "current training loss=0.9119518995285034 test loss = 0.7203565239906311\n",
      "current training loss=0.9114317893981934 test loss = 0.7198653817176819\n",
      "current training loss=0.9110191464424133 test loss = 0.7193370461463928\n",
      "current training loss=0.9104005098342896 test loss = 0.7187832593917847\n",
      "current training loss=0.9100009202957153 test loss = 0.7182294130325317\n",
      "current training loss=0.9094804525375366 test loss = 0.7176845669746399\n",
      "current training loss=0.9089763164520264 test loss = 0.7171475291252136\n",
      "current training loss=0.9085195660591125 test loss = 0.716610848903656\n",
      "current training loss=0.9081760048866272 test loss = 0.7160688042640686\n",
      "current training loss=0.9075134992599487 test loss = 0.7155303955078125\n",
      "current training loss=0.9069700241088867 test loss = 0.7149888873100281\n",
      "current training loss=0.9064529538154602 test loss = 0.7144489288330078\n",
      "current training loss=0.905952513217926 test loss = 0.7139339447021484\n",
      "current training loss=0.9055433869361877 test loss = 0.7134926915168762\n",
      "current training loss=0.9050804376602173 test loss = 0.7130523920059204\n",
      "current training loss=0.904483437538147 test loss = 0.7126084566116333\n",
      "current training loss=0.9041754007339478 test loss = 0.712168276309967\n",
      "current training loss=0.9037916660308838 test loss = 0.7117246985435486\n",
      "current training loss=0.9032626748085022 test loss = 0.7112730145454407\n",
      "current training loss=0.9028281569480896 test loss = 0.7108164429664612\n",
      "current training loss=0.9023832678794861 test loss = 0.7103526592254639\n",
      "current training loss=0.9019574522972107 test loss = 0.7098823189735413\n",
      "current training loss=0.9015132188796997 test loss = 0.7094066739082336\n",
      "current training loss=0.9009952545166016 test loss = 0.708926260471344\n",
      "current training loss=0.900411069393158 test loss = 0.7084439992904663\n",
      "current training loss=0.8999321460723877 test loss = 0.7079569101333618\n",
      "current training loss=0.8995599746704102 test loss = 0.7074706554412842\n",
      "current training loss=0.8990705013275146 test loss = 0.7069828510284424\n",
      "current training loss=0.8986240029335022 test loss = 0.7064889073371887\n",
      "current training loss=0.8980445265769958 test loss = 0.7059910893440247\n"
     ]
    }
   ],
   "source": [
    "train(100, train_loaders[-1], test_loaders[-1])"
   ]
  },
  {
   "cell_type": "code",
   "execution_count": 222,
   "id": "c97d1625",
   "metadata": {},
   "outputs": [
    {
     "data": {
      "text/plain": [
       "array([9.10152004])"
      ]
     },
     "execution_count": 222,
     "metadata": {},
     "output_type": "execute_result"
    }
   ],
   "source": [
    "0.786 * ss.scale_"
   ]
  },
  {
   "cell_type": "code",
   "execution_count": 268,
   "id": "a99efe3a",
   "metadata": {},
   "outputs": [
    {
     "data": {
      "text/plain": [
       "array([8.16357713])"
      ]
     },
     "execution_count": 268,
     "metadata": {},
     "output_type": "execute_result"
    }
   ],
   "source": [
    "0.705 * ss.scale_"
   ]
  },
  {
   "cell_type": "code",
   "execution_count": 270,
   "id": "f2f7988a",
   "metadata": {},
   "outputs": [],
   "source": [
    "X, Y = next(iter(train_loaders[0]))"
   ]
  },
  {
   "cell_type": "code",
   "execution_count": 273,
   "id": "7fbdf345",
   "metadata": {},
   "outputs": [],
   "source": [
    "h0 = model.initHidden(len(X))\n",
    "Y_pred = model.forward(X,h0)"
   ]
  },
  {
   "cell_type": "code",
   "execution_count": 276,
   "id": "610bba4e",
   "metadata": {},
   "outputs": [
    {
     "data": {
      "text/plain": [
       "tensor([[ 2.9401,  2.9401,  2.9401,  ...,  0.1334,  0.1334,  0.1334],\n",
       "        [ 2.9401,  2.9401,  2.9401,  ...,  0.1334,  0.1334,  0.0039],\n",
       "        [ 2.9401,  2.9401,  2.2492,  ...,  0.1334,  0.0039,  0.0039],\n",
       "        ...,\n",
       "        [-0.6006, -0.6006, -0.6006,  ..., -0.6006, -0.8165, -0.9461],\n",
       "        [-0.6006, -0.6006, -0.6006,  ..., -0.8165, -0.9461,  0.4789],\n",
       "        [-0.6006, -0.6006, -0.6006,  ..., -0.9461,  0.4789,  0.4789]])"
      ]
     },
     "execution_count": 276,
     "metadata": {},
     "output_type": "execute_result"
    }
   ],
   "source": [
    "Y.reshape(len(Y),-1)"
   ]
  },
  {
   "cell_type": "code",
   "execution_count": 275,
   "id": "04e18e88",
   "metadata": {},
   "outputs": [
    {
     "data": {
      "text/plain": [
       "tensor([[-0.1478, -0.1410, -0.1410,  ..., -0.1904, -0.1890, -0.1831],\n",
       "        [-0.1478, -0.1410, -0.1410,  ..., -0.1890, -0.1831, -0.1756],\n",
       "        [-0.1478, -0.1410, -0.1410,  ..., -0.1831, -0.1756, -0.1712],\n",
       "        ...,\n",
       "        [-0.1919, -0.2021, -0.1989,  ..., -0.1912, -0.1917, -0.1964],\n",
       "        [-0.1896, -0.1974, -0.1933,  ..., -0.1917, -0.1964, -0.2064],\n",
       "        [-0.1896, -0.1974, -0.1933,  ..., -0.1964, -0.2064, -0.2005]],\n",
       "       grad_fn=<ReshapeAliasBackward0>)"
      ]
     },
     "execution_count": 275,
     "metadata": {},
     "output_type": "execute_result"
    }
   ],
   "source": [
    "Y_pred.reshape(len(Y),-1)"
   ]
  },
  {
   "cell_type": "code",
   "execution_count": 277,
   "id": "c661dcf4",
   "metadata": {},
   "outputs": [
    {
     "data": {
      "text/plain": [
       "tensor(0.6539, grad_fn=<L1LossBackward0>)"
      ]
     },
     "execution_count": 277,
     "metadata": {},
     "output_type": "execute_result"
    }
   ],
   "source": [
    "criterion(Y_pred, Y)"
   ]
  },
  {
   "cell_type": "code",
   "execution_count": 278,
   "id": "6fe1a2b6",
   "metadata": {},
   "outputs": [],
   "source": [
    "nn.L1Loss?"
   ]
  }
 ],
 "metadata": {
  "kernelspec": {
   "display_name": "Python 3 (ipykernel)",
   "language": "python",
   "name": "python3"
  },
  "language_info": {
   "codemirror_mode": {
    "name": "ipython",
    "version": 3
   },
   "file_extension": ".py",
   "mimetype": "text/x-python",
   "name": "python",
   "nbconvert_exporter": "python",
   "pygments_lexer": "ipython3",
   "version": "3.9.10"
  }
 },
 "nbformat": 4,
 "nbformat_minor": 5
}
