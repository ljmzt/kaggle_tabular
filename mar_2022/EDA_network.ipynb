{
 "cells": [
  {
   "cell_type": "code",
   "execution_count": 13,
   "id": "9b362925",
   "metadata": {},
   "outputs": [],
   "source": [
    "import pandas as pd\n",
    "import numpy as np\n",
    "from matplotlib import pyplot as plt\n",
    "from matplotlib import colors\n",
    "import matplotlib as mpl"
   ]
  },
  {
   "cell_type": "code",
   "execution_count": 5,
   "id": "7bc7bfd4",
   "metadata": {},
   "outputs": [
    {
     "data": {
      "text/html": [
       "<div>\n",
       "<style scoped>\n",
       "    .dataframe tbody tr th:only-of-type {\n",
       "        vertical-align: middle;\n",
       "    }\n",
       "\n",
       "    .dataframe tbody tr th {\n",
       "        vertical-align: top;\n",
       "    }\n",
       "\n",
       "    .dataframe thead th {\n",
       "        text-align: right;\n",
       "    }\n",
       "</style>\n",
       "<table border=\"1\" class=\"dataframe\">\n",
       "  <thead>\n",
       "    <tr style=\"text-align: right;\">\n",
       "      <th></th>\n",
       "      <th>time</th>\n",
       "      <th>x</th>\n",
       "      <th>y</th>\n",
       "      <th>direction</th>\n",
       "      <th>congestion</th>\n",
       "    </tr>\n",
       "    <tr>\n",
       "      <th>row_id</th>\n",
       "      <th></th>\n",
       "      <th></th>\n",
       "      <th></th>\n",
       "      <th></th>\n",
       "      <th></th>\n",
       "    </tr>\n",
       "  </thead>\n",
       "  <tbody>\n",
       "    <tr>\n",
       "      <th>0</th>\n",
       "      <td>1991-04-01 00:00:00</td>\n",
       "      <td>0</td>\n",
       "      <td>0</td>\n",
       "      <td>EB</td>\n",
       "      <td>70</td>\n",
       "    </tr>\n",
       "    <tr>\n",
       "      <th>1</th>\n",
       "      <td>1991-04-01 00:00:00</td>\n",
       "      <td>0</td>\n",
       "      <td>0</td>\n",
       "      <td>NB</td>\n",
       "      <td>49</td>\n",
       "    </tr>\n",
       "    <tr>\n",
       "      <th>2</th>\n",
       "      <td>1991-04-01 00:00:00</td>\n",
       "      <td>0</td>\n",
       "      <td>0</td>\n",
       "      <td>SB</td>\n",
       "      <td>24</td>\n",
       "    </tr>\n",
       "    <tr>\n",
       "      <th>3</th>\n",
       "      <td>1991-04-01 00:00:00</td>\n",
       "      <td>0</td>\n",
       "      <td>1</td>\n",
       "      <td>EB</td>\n",
       "      <td>18</td>\n",
       "    </tr>\n",
       "    <tr>\n",
       "      <th>4</th>\n",
       "      <td>1991-04-01 00:00:00</td>\n",
       "      <td>0</td>\n",
       "      <td>1</td>\n",
       "      <td>NB</td>\n",
       "      <td>60</td>\n",
       "    </tr>\n",
       "    <tr>\n",
       "      <th>5</th>\n",
       "      <td>1991-04-01 00:00:00</td>\n",
       "      <td>0</td>\n",
       "      <td>1</td>\n",
       "      <td>SB</td>\n",
       "      <td>58</td>\n",
       "    </tr>\n",
       "    <tr>\n",
       "      <th>6</th>\n",
       "      <td>1991-04-01 00:00:00</td>\n",
       "      <td>0</td>\n",
       "      <td>1</td>\n",
       "      <td>WB</td>\n",
       "      <td>26</td>\n",
       "    </tr>\n",
       "    <tr>\n",
       "      <th>7</th>\n",
       "      <td>1991-04-01 00:00:00</td>\n",
       "      <td>0</td>\n",
       "      <td>2</td>\n",
       "      <td>EB</td>\n",
       "      <td>31</td>\n",
       "    </tr>\n",
       "    <tr>\n",
       "      <th>8</th>\n",
       "      <td>1991-04-01 00:00:00</td>\n",
       "      <td>0</td>\n",
       "      <td>2</td>\n",
       "      <td>NB</td>\n",
       "      <td>49</td>\n",
       "    </tr>\n",
       "    <tr>\n",
       "      <th>9</th>\n",
       "      <td>1991-04-01 00:00:00</td>\n",
       "      <td>0</td>\n",
       "      <td>2</td>\n",
       "      <td>SB</td>\n",
       "      <td>46</td>\n",
       "    </tr>\n",
       "  </tbody>\n",
       "</table>\n",
       "</div>"
      ],
      "text/plain": [
       "                       time  x  y direction  congestion\n",
       "row_id                                                 \n",
       "0       1991-04-01 00:00:00  0  0        EB          70\n",
       "1       1991-04-01 00:00:00  0  0        NB          49\n",
       "2       1991-04-01 00:00:00  0  0        SB          24\n",
       "3       1991-04-01 00:00:00  0  1        EB          18\n",
       "4       1991-04-01 00:00:00  0  1        NB          60\n",
       "5       1991-04-01 00:00:00  0  1        SB          58\n",
       "6       1991-04-01 00:00:00  0  1        WB          26\n",
       "7       1991-04-01 00:00:00  0  2        EB          31\n",
       "8       1991-04-01 00:00:00  0  2        NB          49\n",
       "9       1991-04-01 00:00:00  0  2        SB          46"
      ]
     },
     "execution_count": 5,
     "metadata": {},
     "output_type": "execute_result"
    }
   ],
   "source": [
    "dat = pd.read_csv('train.csv', index_col='row_id')\n",
    "dat.head(10)"
   ]
  },
  {
   "cell_type": "code",
   "execution_count": 19,
   "id": "e8892f5b",
   "metadata": {},
   "outputs": [],
   "source": [
    "def preprocess(dat):\n",
    "    time_mapper = {}\n",
    "    ii = 0\n",
    "    for h in range(24):\n",
    "        for mm in ['00','20','40']:\n",
    "            hh = '{0:02d}'.format(h)\n",
    "            time_mapper[hh+':'+mm] = ii\n",
    "            ii += 1\n",
    "\n",
    "    dat['unique'] = dat['x'].astype(str) + dat['y'].astype(str) + dat['direction']\n",
    "    uniques = dat['unique'].unique()\n",
    "    dat['day'] = pd.to_datetime(dat['time']).dt.weekday\n",
    "    dat['time_stamp'] = dat['time'].apply(lambda x:time_mapper[x.split()[1][:5]])\n",
    "\n",
    "    tmp = dat.groupby(['unique','day','time_stamp']).agg({'congestion':np.median})\n",
    "    median_mapper = tmp.to_dict()['congestion']\n",
    "    dat['median'] = dat.apply(lambda x: \\\n",
    "                              median_mapper[x['unique'],x['day'],x['time_stamp']], axis=1)\n",
    "    dat['congestion-median'] = dat['congestion'] - dat['median']\n",
    "\n",
    "    \n",
    "#     congestions = dat[['unique','congestion','time']].set_index('time')\n",
    "    congestions = dat[['unique','congestion-median','time']].set_index('time')\n",
    "    congestions = congestions.groupby(['unique','time']).mean().unstack('unique')\n",
    "    congestions.columns = congestions.columns.droplevel(0)\n",
    "     \n",
    "    congestions['time_stamp'] = \\\n",
    "       pd.Series(congestions.index).apply(lambda x:time_mapper[x.split()[1][:5]]).values\n",
    "    congestions['day'] = \\\n",
    "       pd.to_datetime(pd.Series(congestions.index)).dt.weekday.values\n",
    "    \n",
    "    return congestions, uniques"
   ]
  },
  {
   "cell_type": "code",
   "execution_count": 20,
   "id": "a54653f5",
   "metadata": {},
   "outputs": [],
   "source": [
    "congestions, uniques = preprocess(dat)"
   ]
  },
  {
   "cell_type": "code",
   "execution_count": 21,
   "id": "1728ea9c",
   "metadata": {},
   "outputs": [
    {
     "data": {
      "text/plain": [
       "(unique\n",
       " 00EB          35.0\n",
       " 00NB          20.0\n",
       " 00SB           0.0\n",
       " 01EB           1.0\n",
       " 01NB          -3.0\n",
       "               ... \n",
       " 23SB           2.0\n",
       " 23SW           7.0\n",
       " 23WB          -8.0\n",
       " time_stamp     0.0\n",
       " day            0.0\n",
       " Name: 1991-04-01 00:00:00, Length: 67, dtype: float64,\n",
       " array(['00EB', '00NB', '00SB', '01EB', '01NB', '01SB', '01WB', '02EB',\n",
       "        '02NB', '02SB', '02WB', '03EB', '03NB', '03NE', '03SB', '03SW',\n",
       "        '03WB', '10EB', '10NB', '10NE', '10SB', '10SW', '10WB', '11EB',\n",
       "        '11NB', '11SB', '11WB', '12EB', '12NB', '12NE', '12SB', '12SW',\n",
       "        '12WB', '13EB', '13NB', '13NE', '13SB', '13SW', '13WB', '20EB',\n",
       "        '20NB', '20SB', '20WB', '21EB', '21NB', '21NE', '21NW', '21SB',\n",
       "        '21SE', '21SW', '21WB', '22EB', '22NB', '22NE', '22NW', '22SB',\n",
       "        '22SE', '22SW', '22WB', '23EB', '23NB', '23NE', '23SB', '23SW',\n",
       "        '23WB'], dtype=object))"
      ]
     },
     "execution_count": 21,
     "metadata": {},
     "output_type": "execute_result"
    }
   ],
   "source": [
    "congestions.iloc[0], uniques"
   ]
  },
  {
   "cell_type": "code",
   "execution_count": 23,
   "id": "eae0b087",
   "metadata": {},
   "outputs": [
    {
     "data": {
      "image/png": "[encoded data removed]",
      "text/plain": [
       "<Figure size 432x288 with 1 Axes>"
      ]
     },
     "metadata": {
      "needs_background": "light"
     },
     "output_type": "display_data"
    }
   ],
   "source": [
    "plt.hist(congestions.iloc[0].values);"
   ]
  },
  {
   "cell_type": "code",
   "execution_count": 8,
   "id": "c6ef030e",
   "metadata": {},
   "outputs": [
    {
     "data": {
      "text/plain": [
       "(unique\n",
       " 00EB          70.0\n",
       " 00NB          49.0\n",
       " 00SB          24.0\n",
       " 01EB          18.0\n",
       " 01NB          60.0\n",
       "               ... \n",
       " 23SB          70.0\n",
       " 23SW          29.0\n",
       " 23WB          26.0\n",
       " time_stamp     0.0\n",
       " day            0.0\n",
       " Name: 1991-04-01 00:00:00, Length: 67, dtype: float64,\n",
       " array(['00EB', '00NB', '00SB', '01EB', '01NB', '01SB', '01WB', '02EB',\n",
       "        '02NB', '02SB', '02WB', '03EB', '03NB', '03NE', '03SB', '03SW',\n",
       "        '03WB', '10EB', '10NB', '10NE', '10SB', '10SW', '10WB', '11EB',\n",
       "        '11NB', '11SB', '11WB', '12EB', '12NB', '12NE', '12SB', '12SW',\n",
       "        '12WB', '13EB', '13NB', '13NE', '13SB', '13SW', '13WB', '20EB',\n",
       "        '20NB', '20SB', '20WB', '21EB', '21NB', '21NE', '21NW', '21SB',\n",
       "        '21SE', '21SW', '21WB', '22EB', '22NB', '22NE', '22NW', '22SB',\n",
       "        '22SE', '22SW', '22WB', '23EB', '23NB', '23NE', '23SB', '23SW',\n",
       "        '23WB'], dtype=object))"
      ]
     },
     "execution_count": 8,
     "metadata": {},
     "output_type": "execute_result"
    }
   ],
   "source": [
    "congestions.iloc[0], uniques"
   ]
  },
  {
   "cell_type": "code",
   "execution_count": 9,
   "id": "5bf2d364",
   "metadata": {},
   "outputs": [
    {
     "data": {
      "text/plain": [
       "<matplotlib.patches.FancyArrow at 0x131487670>"
      ]
     },
     "execution_count": 9,
     "metadata": {},
     "output_type": "execute_result"
    },
    {
     "data": {
      "image/png": "[encoded data removed]",
      "text/plain": [
       "<Figure size 432x288 with 1 Axes>"
      ]
     },
     "metadata": {
      "needs_background": "light"
     },
     "output_type": "display_data"
    }
   ],
   "source": [
    "plt.arrow(0,0,1,1,head_width=0.1)"
   ]
  },
  {
   "cell_type": "markdown",
   "id": "b6f24fff",
   "metadata": {},
   "source": [
    "color refers to \n",
    "https://stackoverflow.com/questions/18748328/plotting-arrows-with-different-color-in-matplotlib\n",
    "\n",
    "movie refers to\n",
    "https://www.geeksforgeeks.org/moviepy-creating-animation-using-matplotlib/"
   ]
  },
  {
   "cell_type": "code",
   "execution_count": 30,
   "id": "28f07a7b",
   "metadata": {},
   "outputs": [],
   "source": [
    "class DrawNet():\n",
    "    \n",
    "    def __init__(self, p=0.1):\n",
    "        ''' points at 8 corners around a node '''\n",
    "        d = 1.0 - 4*p\n",
    "        self.shifts = {\n",
    "            'EB': ((2*p, -1*p), (d, 0)),\n",
    "            'WB': ((-2*p, 1*p), (-d, 0)),\n",
    "            'NB': ((1*p, 2*p), (0, d)),\n",
    "            'SB': ((-1*p, -2*p), (0, -d)),\n",
    "            'NE': ((2*p, 1*p), (d, d)),\n",
    "            'SE': ((1*p, -2*p), (d, -d)),\n",
    "            'SW': ((-2*p, -1*p), (-d, -d)),\n",
    "            'NW': ((-1*p, 2*p), (-d, d))\n",
    "        }\n",
    "#         self.cnorm = colors.Normalize(vmin=0, vmax=100)\n",
    "        self.cnorm = colors.Normalize(vmin=-30, vmax=30)\n",
    "        self.scalarMap = plt.cm.ScalarMappable(norm=self.cnorm, cmap=plt.cm.plasma)\n",
    "    \n",
    "    def makemovie(self, dat):\n",
    "        fig, ax = plt.subplots(1, figsize=(5,5))\n",
    "        axc = fig.add_axes([1.1, 0.10, 0.05, 0.85])\n",
    "        for i in range(200):\n",
    "            self.drawnet(dat.iloc[i], uniques, fig, ax, axc)\n",
    "            plt.savefig('{0:03d}demedian.png'.format(i))\n",
    "        \n",
    "    def drawnet(self, series, uniques, fig, ax, axc):\n",
    "        for unique in uniques:\n",
    "            self.drawarrow(unique, series[unique], ax)\n",
    "        ax.set_title(f\"time = {series['time_stamp']} day = {series['day']}\")\n",
    "        mpl.colorbar.ColorbarBase(axc, cmap=plt.cm.plasma,\n",
    "                                norm=self.cnorm,orientation='vertical')\n",
    "    \n",
    "    def drawarrow(self, unique, val, ax):\n",
    "        x = np.int32(unique[0])\n",
    "        y = np.int32(unique[1])\n",
    "        x += self.shifts[unique[2:4]][0][0]\n",
    "        y += self.shifts[unique[2:4]][0][1]\n",
    "        dx = self.shifts[unique[2:4]][1][0]\n",
    "        dy = self.shifts[unique[2:4]][1][1]\n",
    "        ax.arrow(x,y,dx,dy,\n",
    "                 color=self.scalarMap.to_rgba(val),\n",
    "                 head_width=0.1, length_includes_head=True)"
   ]
  },
  {
   "cell_type": "code",
   "execution_count": 31,
   "id": "415ca5bf",
   "metadata": {},
   "outputs": [],
   "source": [
    "draw = DrawNet()"
   ]
  },
  {
   "cell_type": "code",
   "execution_count": 32,
   "id": "8826ff0c",
   "metadata": {},
   "outputs": [
    {
     "data": {
      "image/png": "[encoded data removed]",
      "text/plain": [
       "<Figure size 360x360 with 2 Axes>"
      ]
     },
     "metadata": {
      "needs_background": "light"
     },
     "output_type": "display_data"
    }
   ],
   "source": [
    "draw.makemovie(congestions)"
   ]
  },
  {
   "cell_type": "code",
   "execution_count": null,
   "id": "5894c7a3",
   "metadata": {},
   "outputs": [],
   "source": [
    "congestions.iloc[0]"
   ]
  },
  {
   "cell_type": "code",
   "execution_count": null,
   "id": "2e4eb6d7",
   "metadata": {},
   "outputs": [],
   "source": [
    "fig = \n",
    "draw.drawnet(congestions.iloc[0],uniques,ax)"
   ]
  },
  {
   "cell_type": "code",
   "execution_count": null,
   "id": "fa7b87b3",
   "metadata": {},
   "outputs": [],
   "source": [
    "import moviepy"
   ]
  }
 ],
 "metadata": {
  "kernelspec": {
   "display_name": "Python 3 (ipykernel)",
   "language": "python",
   "name": "python3"
  },
  "language_info": {
   "codemirror_mode": {
    "name": "ipython",
    "version": 3
   },
   "file_extension": ".py",
   "mimetype": "text/x-python",
   "name": "python",
   "nbconvert_exporter": "python",
   "pygments_lexer": "ipython3",
   "version": "3.9.10"
  }
 },
 "nbformat": 4,
 "nbformat_minor": 5
}
