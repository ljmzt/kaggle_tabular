{
 "cells": [
  {
   "cell_type": "code",
   "execution_count": null,
   "id": "6873b144",
   "metadata": {},
   "outputs": [],
   "source": [
    "# Import statements\n",
    "import shap, matplotlib.pyplot as plt, pandas as pd, numpy as np\n",
    "from sklearn.ensemble import ExtraTreesRegressor\n",
    "from sklearn.datasets import make_regression\n",
    "from sklearn.model_selection import train_test_split\n",
    "\n",
    "## Generating data since none was provided\n",
    "X, y = make_regression(n_samples=1000, n_features=50, n_informative=45, noise=1, random_state=8)\n",
    "# Convert data to pandas dataframe as in question\n",
    "X = pd.DataFrame(data=X, columns=[\"Feature_{}\".format(i) for i in range(X.shape[1])])\n",
    "X_train, X_test, y_train, y_test = train_test_split(X, y, random_state=8, test_size=0.2)\n",
    "\n",
    "## Creating model per question\n",
    "extra_tree = ExtraTreesRegressor(random_state=42, verbose=2)\n",
    "extra_tree.fit(X_train, y_train)\n",
    "\n",
    "\"\"\"\n",
    "Provided code:\n",
    "explainer = shap.Explainer(extra_tree) \n",
    "\"\"\"\n",
    "# Our Code\n",
    "explainer = shap.TreeExplainer(extra_tree) \n",
    "\n",
    "# Visualize one value\n",
    "single_shap_value = explainer(X_test.sample(n=1))\n",
    "shap.summary_plot(single_shap_value, feature_names=X_test.columns, plot_type='bar')\n",
    "plt.show()\n",
    "\n",
    "# Visualize all values\n",
    "shap_values = explainer(X_test)\n",
    "shap.summary_plot(shap_values, feature_names=X_test.columns)\n",
    "plt.show()"
   ]
  }
 ],
 "metadata": {
  "kernelspec": {
   "display_name": "Python 3 (ipykernel)",
   "language": "python",
   "name": "python3"
  },
  "language_info": {
   "codemirror_mode": {
    "name": "ipython",
    "version": 3
   },
   "file_extension": ".py",
   "mimetype": "text/x-python",
   "name": "python",
   "nbconvert_exporter": "python",
   "pygments_lexer": "ipython3",
   "version": "3.9.10"
  }
 },
 "nbformat": 4,
 "nbformat_minor": 5
}
