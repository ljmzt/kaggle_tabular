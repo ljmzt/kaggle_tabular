{
 "cells": [
  {
   "cell_type": "code",
   "execution_count": 1,
   "id": "09cbdb7b",
   "metadata": {},
   "outputs": [],
   "source": [
    "import pandas as pd\n",
    "import numpy as np\n",
    "from matplotlib import pyplot as plt\n",
    "import scipy.stats as stats\n",
    "from collections import defaultdict\n",
    "from itertools import product\n",
    "from sklearn.metrics import mean_absolute_error as mae\n",
    "import torch\n",
    "import torch.nn as nn\n",
    "import torch.nn.functional as F\n",
    "from torch.utils.data import DataLoader\n",
    "from torch import optim\n",
    "from sklearn.preprocessing import StandardScaler"
   ]
  },
  {
   "cell_type": "code",
   "execution_count": 2,
   "id": "4328aa4f",
   "metadata": {},
   "outputs": [],
   "source": [
    "dat = pd.read_csv('train.csv', index_col='row_id')"
   ]
  },
  {
   "cell_type": "code",
   "execution_count": 3,
   "id": "3bb33728",
   "metadata": {},
   "outputs": [],
   "source": [
    "def preprocess(dat):\n",
    "    time_mapper = {}\n",
    "    ii = 0\n",
    "    for h in range(24):\n",
    "        for mm in ['00','20','40']:\n",
    "            hh = '{0:02d}'.format(h)\n",
    "            time_mapper[hh+':'+mm] = ii\n",
    "            ii += 1\n",
    "\n",
    "    dat['unique'] = dat['x'].astype(str) + dat['y'].astype(str) + dat['direction']\n",
    "    uniques = dat['unique'].unique()\n",
    "    dat['day'] = pd.to_datetime(dat['time']).dt.weekday\n",
    "    dat['time_stamp'] = dat['time'].apply(lambda x:time_mapper[x.split()[1][:5]])\n",
    "\n",
    "    tmp = dat.groupby(['unique','day','time_stamp']).agg({'congestion':np.median})\n",
    "    median_mapper = tmp.to_dict()['congestion']\n",
    "    dat['median'] = dat.apply(lambda x: \\\n",
    "                              median_mapper[x['unique'],x['day'],x['time_stamp']], axis=1)\n",
    "    dat['congestion-median'] = dat['congestion'] - dat['median']\n",
    "    \n",
    "    all_time = pd.DataFrame(pd.date_range('1991-04-01 00:00:00', '1991-09-30 11:40:00', freq='20Min'), columns=['time'])\n",
    "    all_time['time'] = all_time['time'].astype(str)\n",
    "    \n",
    "    return uniques, median_mapper, time_mapper, all_time"
   ]
  },
  {
   "cell_type": "code",
   "execution_count": 4,
   "id": "991b7ae0",
   "metadata": {},
   "outputs": [],
   "source": [
    "uniques, median_mapper, time_mapper, all_time = preprocess(dat)"
   ]
  },
  {
   "cell_type": "code",
   "execution_count": 5,
   "id": "3a3fddcf",
   "metadata": {},
   "outputs": [],
   "source": [
    "def getseries(unique):\n",
    "    df = dat.loc[dat['unique']==unique, ['time', 'congestion-median']]\n",
    "    df = pd.merge(all_time, df, left_on='time', right_on='time', how='outer')\n",
    "    df = df.set_index('time')\n",
    "    df['congestion-median'] = df['congestion-median'].fillna(0)\n",
    "    ss = StandardScaler()\n",
    "    df['congestion-median-normalized'] = ss.fit_transform(df['congestion-median'].values.reshape(-1,1)).reshape(-1)\n",
    "    return df, ss"
   ]
  },
  {
   "cell_type": "code",
   "execution_count": 12,
   "id": "4e834715",
   "metadata": {},
   "outputs": [],
   "source": [
    "data_all = []\n",
    "for unique in uniques:\n",
    "    df, ss = getseries(unique)\n",
    "    data_all.append(df['congestion-median-normalized'].values)\n",
    "data_all = np.array(data_all)"
   ]
  },
  {
   "cell_type": "code",
   "execution_count": 13,
   "id": "72f5b4f6",
   "metadata": {},
   "outputs": [
    {
     "data": {
      "text/plain": [
       "array([[ 2.94010361,  2.94010361,  2.94010361, ..., -0.68698284,\n",
       "         0.52204597,  1.38563798],\n",
       "       [ 2.0801995 ,  2.0801995 ,  2.0801995 , ..., -0.56857034,\n",
       "         0.06713442,  0.17308522],\n",
       "       [-0.06395164, -0.06395164, -0.06395164, ...,  0.40982651,\n",
       "         1.27841977,  0.17293744],\n",
       "       ...,\n",
       "       [ 0.3255764 ,  0.48059593,  0.01553735, ..., -0.13948218,\n",
       "        -0.13948218, -0.44952124],\n",
       "       [ 0.64296132,  0.52063081,  0.39830031, ..., -0.45801324,\n",
       "         0.03130879, -0.58034374],\n",
       "       [-0.77808444,  2.15393018,  0.54605119, ..., -0.96724668,\n",
       "         0.73521343, -1.25099003]])"
      ]
     },
     "execution_count": 13,
     "metadata": {},
     "output_type": "execute_result"
    }
   ],
   "source": [
    "data_all"
   ]
  },
  {
   "cell_type": "code",
   "execution_count": 14,
   "id": "edc3eb2d",
   "metadata": {},
   "outputs": [],
   "source": [
    "from sklearn.decomposition import PCA"
   ]
  },
  {
   "cell_type": "code",
   "execution_count": 20,
   "id": "89d7a751",
   "metadata": {},
   "outputs": [],
   "source": [
    "pca = PCA()\n",
    "data_all_pca = pca.fit_transform(data_all.T)"
   ]
  },
  {
   "cell_type": "code",
   "execution_count": 24,
   "id": "fc7f5626",
   "metadata": {},
   "outputs": [
    {
     "data": {
      "text/plain": [
       "[<matplotlib.lines.Line2D at 0x1406067c0>]"
      ]
     },
     "execution_count": 24,
     "metadata": {},
     "output_type": "execute_result"
    },
    {
     "data": {
      "image/png": "[encoded data removed]",
      "text/plain": [
       "<Figure size 432x288 with 1 Axes>"
      ]
     },
     "metadata": {
      "needs_background": "light"
     },
     "output_type": "display_data"
    }
   ],
   "source": [
    "plt.plot(data_all_pca[:,0])\n",
    "plt.plot(data_all_pca[:,1],'r')\n",
    "plt.plot(data_all_pca[:,64],'g')"
   ]
  },
  {
   "cell_type": "code",
   "execution_count": 30,
   "id": "913da793",
   "metadata": {},
   "outputs": [
    {
     "data": {
      "text/plain": [
       "[<matplotlib.lines.Line2D at 0x142865a30>]"
      ]
     },
     "execution_count": 30,
     "metadata": {},
     "output_type": "execute_result"
    },
    {
     "data": {
      "image/png": "[encoded data removed]",
      "text/plain": [
       "<Figure size 432x288 with 1 Axes>"
      ]
     },
     "metadata": {
      "needs_background": "light"
     },
     "output_type": "display_data"
    }
   ],
   "source": [
    "plt.plot(np.cumsum(pca.explained_variance_ratio_),'.-')"
   ]
  },
  {
   "cell_type": "code",
   "execution_count": 31,
   "id": "6e1c619c",
   "metadata": {},
   "outputs": [
    {
     "data": {
      "text/plain": [
       "array([229.09968534, 137.34910827, 133.29683291, 130.18102389,\n",
       "       129.84870546, 126.34747862, 125.55012743, 124.75671266,\n",
       "       123.64007552, 123.10389789, 121.89518707, 119.99159695,\n",
       "       119.97177692, 119.4790721 , 119.14577254, 118.28412088,\n",
       "       117.95922631, 117.54543347, 117.10257592, 116.62446661,\n",
       "       115.89521726, 115.65018586, 114.8963526 , 114.89256623,\n",
       "       114.29995501, 113.90423674, 113.21466925, 112.51125911,\n",
       "       112.21291797, 111.72513022, 111.42296265, 111.29985351,\n",
       "       110.62522891, 110.35331388, 109.9025544 , 109.43667203,\n",
       "       109.03335993, 108.54113261, 108.28646908, 107.98551204,\n",
       "       107.35935432, 106.81725089, 106.72112483, 106.37972817,\n",
       "       106.01903616, 105.57760537, 105.21315415, 105.10136313,\n",
       "       104.7509574 , 104.21078377, 103.57747017, 103.04809321,\n",
       "       102.69263012, 102.45032538, 101.93186688, 101.35558006,\n",
       "       100.90370457, 100.61912355, 100.03632944,  99.07768989,\n",
       "        98.29412921,  97.6984514 ,  97.44219015,  97.10797191,\n",
       "        94.15644142])"
      ]
     },
     "execution_count": 31,
     "metadata": {},
     "output_type": "execute_result"
    }
   ],
   "source": [
    "pca.singular_values_"
   ]
  },
  {
   "cell_type": "code",
   "execution_count": 35,
   "id": "d7959168",
   "metadata": {},
   "outputs": [],
   "source": [
    "import copy"
   ]
  },
  {
   "cell_type": "code",
   "execution_count": 36,
   "id": "782f69c8",
   "metadata": {},
   "outputs": [],
   "source": [
    "pca1 = copy.deepcopy(pca)"
   ]
  },
  {
   "cell_type": "code",
   "execution_count": 37,
   "id": "6b31a9b3",
   "metadata": {},
   "outputs": [],
   "source": [
    "pca1.singular_values_[1:] = 0.0"
   ]
  },
  {
   "cell_type": "code",
   "execution_count": 39,
   "id": "eda801a2",
   "metadata": {},
   "outputs": [],
   "source": [
    "data_all_pca_inversed = pca1.inverse_transform(data_all_pca)"
   ]
  },
  {
   "cell_type": "code",
   "execution_count": 43,
   "id": "fffa33c9",
   "metadata": {},
   "outputs": [
    {
     "data": {
      "text/plain": [
       "[<matplotlib.lines.Line2D at 0x144924400>]"
      ]
     },
     "execution_count": 43,
     "metadata": {},
     "output_type": "execute_result"
    },
    {
     "data": {
      "image/png": "[encoded data removed]",
      "text/plain": [
       "<Figure size 432x288 with 1 Axes>"
      ]
     },
     "metadata": {
      "needs_background": "light"
     },
     "output_type": "display_data"
    }
   ],
   "source": [
    "plt.plot(data_all_pca_inversed[:,0])\n",
    "plt.plot(data_all.T[:,0],'r')\n",
    "plt.plot(data_all_pca_inversed[:,0])"
   ]
  },
  {
   "cell_type": "code",
   "execution_count": 45,
   "id": "eba043ae",
   "metadata": {},
   "outputs": [
    {
     "data": {
      "text/plain": [
       "(13140, 65)"
      ]
     },
     "execution_count": 45,
     "metadata": {},
     "output_type": "execute_result"
    }
   ],
   "source": [
    "data_all_pca.shape"
   ]
  },
  {
   "cell_type": "code",
   "execution_count": 48,
   "id": "09b13422",
   "metadata": {},
   "outputs": [],
   "source": [
    "data_all_pca[:,1:] = 0.0\n",
    "data_all_pca_inversed = pca.inverse_transform(data_all_pca)"
   ]
  },
  {
   "cell_type": "code",
   "execution_count": 49,
   "id": "3bec9d02",
   "metadata": {},
   "outputs": [
    {
     "data": {
      "text/plain": [
       "[<matplotlib.lines.Line2D at 0x142ba9820>]"
      ]
     },
     "execution_count": 49,
     "metadata": {},
     "output_type": "execute_result"
    },
    {
     "data": {
      "image/png": "[encoded data removed]",
      "text/plain": [
       "<Figure size 432x288 with 1 Axes>"
      ]
     },
     "metadata": {
      "needs_background": "light"
     },
     "output_type": "display_data"
    }
   ],
   "source": [
    "plt.plot(data_all_pca_inversed[:,0])\n",
    "plt.plot(data_all.T[:,0],'r')"
   ]
  }
 ],
 "metadata": {
  "kernelspec": {
   "display_name": "Python 3 (ipykernel)",
   "language": "python",
   "name": "python3"
  },
  "language_info": {
   "codemirror_mode": {
    "name": "ipython",
    "version": 3
   },
   "file_extension": ".py",
   "mimetype": "text/x-python",
   "name": "python",
   "nbconvert_exporter": "python",
   "pygments_lexer": "ipython3",
   "version": "3.9.10"
  }
 },
 "nbformat": 4,
 "nbformat_minor": 5
}
