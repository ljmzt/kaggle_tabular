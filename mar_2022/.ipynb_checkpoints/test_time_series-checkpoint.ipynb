{
 "cells": [
  {
   "cell_type": "code",
   "execution_count": 1,
   "id": "c3cf82a5",
   "metadata": {},
   "outputs": [],
   "source": [
    "import pandas as pd\n",
    "import numpy as np\n",
    "from matplotlib import pyplot as plt\n",
    "import scipy.stats as stats\n",
    "from collections import defaultdict\n",
    "from itertools import product\n",
    "from sklearn.metrics import mean_absolute_error as mae"
   ]
  },
  {
   "cell_type": "code",
   "execution_count": 22,
   "id": "1f35b933",
   "metadata": {},
   "outputs": [
    {
     "data": {
      "text/html": [
       "<div>\n",
       "<style scoped>\n",
       "    .dataframe tbody tr th:only-of-type {\n",
       "        vertical-align: middle;\n",
       "    }\n",
       "\n",
       "    .dataframe tbody tr th {\n",
       "        vertical-align: top;\n",
       "    }\n",
       "\n",
       "    .dataframe thead th {\n",
       "        text-align: right;\n",
       "    }\n",
       "</style>\n",
       "<table border=\"1\" class=\"dataframe\">\n",
       "  <thead>\n",
       "    <tr style=\"text-align: right;\">\n",
       "      <th></th>\n",
       "      <th>time</th>\n",
       "      <th>x</th>\n",
       "      <th>y</th>\n",
       "      <th>direction</th>\n",
       "      <th>congestion</th>\n",
       "    </tr>\n",
       "    <tr>\n",
       "      <th>row_id</th>\n",
       "      <th></th>\n",
       "      <th></th>\n",
       "      <th></th>\n",
       "      <th></th>\n",
       "      <th></th>\n",
       "    </tr>\n",
       "  </thead>\n",
       "  <tbody>\n",
       "    <tr>\n",
       "      <th>0</th>\n",
       "      <td>1991-04-01 00:00:00</td>\n",
       "      <td>0</td>\n",
       "      <td>0</td>\n",
       "      <td>EB</td>\n",
       "      <td>70</td>\n",
       "    </tr>\n",
       "    <tr>\n",
       "      <th>1</th>\n",
       "      <td>1991-04-01 00:00:00</td>\n",
       "      <td>0</td>\n",
       "      <td>0</td>\n",
       "      <td>NB</td>\n",
       "      <td>49</td>\n",
       "    </tr>\n",
       "    <tr>\n",
       "      <th>2</th>\n",
       "      <td>1991-04-01 00:00:00</td>\n",
       "      <td>0</td>\n",
       "      <td>0</td>\n",
       "      <td>SB</td>\n",
       "      <td>24</td>\n",
       "    </tr>\n",
       "    <tr>\n",
       "      <th>3</th>\n",
       "      <td>1991-04-01 00:00:00</td>\n",
       "      <td>0</td>\n",
       "      <td>1</td>\n",
       "      <td>EB</td>\n",
       "      <td>18</td>\n",
       "    </tr>\n",
       "    <tr>\n",
       "      <th>4</th>\n",
       "      <td>1991-04-01 00:00:00</td>\n",
       "      <td>0</td>\n",
       "      <td>1</td>\n",
       "      <td>NB</td>\n",
       "      <td>60</td>\n",
       "    </tr>\n",
       "    <tr>\n",
       "      <th>5</th>\n",
       "      <td>1991-04-01 00:00:00</td>\n",
       "      <td>0</td>\n",
       "      <td>1</td>\n",
       "      <td>SB</td>\n",
       "      <td>58</td>\n",
       "    </tr>\n",
       "    <tr>\n",
       "      <th>6</th>\n",
       "      <td>1991-04-01 00:00:00</td>\n",
       "      <td>0</td>\n",
       "      <td>1</td>\n",
       "      <td>WB</td>\n",
       "      <td>26</td>\n",
       "    </tr>\n",
       "    <tr>\n",
       "      <th>7</th>\n",
       "      <td>1991-04-01 00:00:00</td>\n",
       "      <td>0</td>\n",
       "      <td>2</td>\n",
       "      <td>EB</td>\n",
       "      <td>31</td>\n",
       "    </tr>\n",
       "    <tr>\n",
       "      <th>8</th>\n",
       "      <td>1991-04-01 00:00:00</td>\n",
       "      <td>0</td>\n",
       "      <td>2</td>\n",
       "      <td>NB</td>\n",
       "      <td>49</td>\n",
       "    </tr>\n",
       "    <tr>\n",
       "      <th>9</th>\n",
       "      <td>1991-04-01 00:00:00</td>\n",
       "      <td>0</td>\n",
       "      <td>2</td>\n",
       "      <td>SB</td>\n",
       "      <td>46</td>\n",
       "    </tr>\n",
       "  </tbody>\n",
       "</table>\n",
       "</div>"
      ],
      "text/plain": [
       "                       time  x  y direction  congestion\n",
       "row_id                                                 \n",
       "0       1991-04-01 00:00:00  0  0        EB          70\n",
       "1       1991-04-01 00:00:00  0  0        NB          49\n",
       "2       1991-04-01 00:00:00  0  0        SB          24\n",
       "3       1991-04-01 00:00:00  0  1        EB          18\n",
       "4       1991-04-01 00:00:00  0  1        NB          60\n",
       "5       1991-04-01 00:00:00  0  1        SB          58\n",
       "6       1991-04-01 00:00:00  0  1        WB          26\n",
       "7       1991-04-01 00:00:00  0  2        EB          31\n",
       "8       1991-04-01 00:00:00  0  2        NB          49\n",
       "9       1991-04-01 00:00:00  0  2        SB          46"
      ]
     },
     "execution_count": 22,
     "metadata": {},
     "output_type": "execute_result"
    }
   ],
   "source": [
    "dat = pd.read_csv('train.csv', index_col='row_id')\n",
    "dat.head(10)"
   ]
  },
  {
   "cell_type": "code",
   "execution_count": 23,
   "id": "d7d07d40",
   "metadata": {},
   "outputs": [],
   "source": [
    "def preprocess(dat):\n",
    "    time_mapper = {}\n",
    "    ii = 0\n",
    "    for h in range(24):\n",
    "        for mm in ['00','20','40']:\n",
    "            hh = '{0:02d}'.format(h)\n",
    "            time_mapper[hh+':'+mm] = ii\n",
    "            ii += 1\n",
    "\n",
    "    dat['unique'] = dat['x'].astype(str) + dat['y'].astype(str) + dat['direction']\n",
    "    uniques = dat['unique'].unique()\n",
    "    dat['day'] = pd.to_datetime(dat['time']).dt.weekday\n",
    "    dat['time_stamp'] = dat['time'].apply(lambda x:time_mapper[x.split()[1][:5]])\n",
    "\n",
    "    tmp = dat.groupby(['unique','day','time_stamp']).agg({'congestion':np.median})\n",
    "    median_mapper = tmp.to_dict()['congestion']\n",
    "    dat['median'] = dat.apply(lambda x: \\\n",
    "                              median_mapper[x['unique'],x['day'],x['time_stamp']], axis=1)\n",
    "    dat['congestion-median'] = dat['congestion'] - dat['median']\n",
    "    \n",
    "    all_time = pd.DataFrame(pd.date_range('1991-04-01 00:00:00', '1991-09-30 11:40:00', freq='20Min'), columns=['time'])\n",
    "    all_time['time'] = all_time['time'].astype(str)\n",
    "    \n",
    "    return uniques, median_mapper, time_mapper, all_time"
   ]
  },
  {
   "cell_type": "code",
   "execution_count": 24,
   "id": "0ab96091",
   "metadata": {},
   "outputs": [],
   "source": [
    "uniques, median_mapper, time_mapper, all_time = preprocess(dat)"
   ]
  },
  {
   "cell_type": "code",
   "execution_count": 25,
   "id": "47c28061",
   "metadata": {},
   "outputs": [
    {
     "data": {
      "text/html": [
       "<div>\n",
       "<style scoped>\n",
       "    .dataframe tbody tr th:only-of-type {\n",
       "        vertical-align: middle;\n",
       "    }\n",
       "\n",
       "    .dataframe tbody tr th {\n",
       "        vertical-align: top;\n",
       "    }\n",
       "\n",
       "    .dataframe thead th {\n",
       "        text-align: right;\n",
       "    }\n",
       "</style>\n",
       "<table border=\"1\" class=\"dataframe\">\n",
       "  <thead>\n",
       "    <tr style=\"text-align: right;\">\n",
       "      <th></th>\n",
       "      <th>time</th>\n",
       "      <th>x</th>\n",
       "      <th>y</th>\n",
       "      <th>direction</th>\n",
       "      <th>congestion</th>\n",
       "      <th>unique</th>\n",
       "      <th>day</th>\n",
       "      <th>time_stamp</th>\n",
       "      <th>median</th>\n",
       "      <th>congestion-median</th>\n",
       "    </tr>\n",
       "    <tr>\n",
       "      <th>row_id</th>\n",
       "      <th></th>\n",
       "      <th></th>\n",
       "      <th></th>\n",
       "      <th></th>\n",
       "      <th></th>\n",
       "      <th></th>\n",
       "      <th></th>\n",
       "      <th></th>\n",
       "      <th></th>\n",
       "      <th></th>\n",
       "    </tr>\n",
       "  </thead>\n",
       "  <tbody>\n",
       "    <tr>\n",
       "      <th>0</th>\n",
       "      <td>1991-04-01 00:00:00</td>\n",
       "      <td>0</td>\n",
       "      <td>0</td>\n",
       "      <td>EB</td>\n",
       "      <td>70</td>\n",
       "      <td>00EB</td>\n",
       "      <td>0</td>\n",
       "      <td>0</td>\n",
       "      <td>35.0</td>\n",
       "      <td>35.0</td>\n",
       "    </tr>\n",
       "    <tr>\n",
       "      <th>1</th>\n",
       "      <td>1991-04-01 00:00:00</td>\n",
       "      <td>0</td>\n",
       "      <td>0</td>\n",
       "      <td>NB</td>\n",
       "      <td>49</td>\n",
       "      <td>00NB</td>\n",
       "      <td>0</td>\n",
       "      <td>0</td>\n",
       "      <td>29.0</td>\n",
       "      <td>20.0</td>\n",
       "    </tr>\n",
       "    <tr>\n",
       "      <th>2</th>\n",
       "      <td>1991-04-01 00:00:00</td>\n",
       "      <td>0</td>\n",
       "      <td>0</td>\n",
       "      <td>SB</td>\n",
       "      <td>24</td>\n",
       "      <td>00SB</td>\n",
       "      <td>0</td>\n",
       "      <td>0</td>\n",
       "      <td>24.0</td>\n",
       "      <td>0.0</td>\n",
       "    </tr>\n",
       "    <tr>\n",
       "      <th>3</th>\n",
       "      <td>1991-04-01 00:00:00</td>\n",
       "      <td>0</td>\n",
       "      <td>1</td>\n",
       "      <td>EB</td>\n",
       "      <td>18</td>\n",
       "      <td>01EB</td>\n",
       "      <td>0</td>\n",
       "      <td>0</td>\n",
       "      <td>17.0</td>\n",
       "      <td>1.0</td>\n",
       "    </tr>\n",
       "    <tr>\n",
       "      <th>4</th>\n",
       "      <td>1991-04-01 00:00:00</td>\n",
       "      <td>0</td>\n",
       "      <td>1</td>\n",
       "      <td>NB</td>\n",
       "      <td>60</td>\n",
       "      <td>01NB</td>\n",
       "      <td>0</td>\n",
       "      <td>0</td>\n",
       "      <td>63.0</td>\n",
       "      <td>-3.0</td>\n",
       "    </tr>\n",
       "    <tr>\n",
       "      <th>...</th>\n",
       "      <td>...</td>\n",
       "      <td>...</td>\n",
       "      <td>...</td>\n",
       "      <td>...</td>\n",
       "      <td>...</td>\n",
       "      <td>...</td>\n",
       "      <td>...</td>\n",
       "      <td>...</td>\n",
       "      <td>...</td>\n",
       "      <td>...</td>\n",
       "    </tr>\n",
       "    <tr>\n",
       "      <th>848830</th>\n",
       "      <td>1991-09-30 11:40:00</td>\n",
       "      <td>2</td>\n",
       "      <td>3</td>\n",
       "      <td>NB</td>\n",
       "      <td>54</td>\n",
       "      <td>23NB</td>\n",
       "      <td>0</td>\n",
       "      <td>35</td>\n",
       "      <td>58.0</td>\n",
       "      <td>-4.0</td>\n",
       "    </tr>\n",
       "    <tr>\n",
       "      <th>848831</th>\n",
       "      <td>1991-09-30 11:40:00</td>\n",
       "      <td>2</td>\n",
       "      <td>3</td>\n",
       "      <td>NE</td>\n",
       "      <td>28</td>\n",
       "      <td>23NE</td>\n",
       "      <td>0</td>\n",
       "      <td>35</td>\n",
       "      <td>26.0</td>\n",
       "      <td>2.0</td>\n",
       "    </tr>\n",
       "    <tr>\n",
       "      <th>848832</th>\n",
       "      <td>1991-09-30 11:40:00</td>\n",
       "      <td>2</td>\n",
       "      <td>3</td>\n",
       "      <td>SB</td>\n",
       "      <td>68</td>\n",
       "      <td>23SB</td>\n",
       "      <td>0</td>\n",
       "      <td>35</td>\n",
       "      <td>71.0</td>\n",
       "      <td>-3.0</td>\n",
       "    </tr>\n",
       "    <tr>\n",
       "      <th>848833</th>\n",
       "      <td>1991-09-30 11:40:00</td>\n",
       "      <td>2</td>\n",
       "      <td>3</td>\n",
       "      <td>SW</td>\n",
       "      <td>17</td>\n",
       "      <td>23SW</td>\n",
       "      <td>0</td>\n",
       "      <td>35</td>\n",
       "      <td>20.0</td>\n",
       "      <td>-3.0</td>\n",
       "    </tr>\n",
       "    <tr>\n",
       "      <th>848834</th>\n",
       "      <td>1991-09-30 11:40:00</td>\n",
       "      <td>2</td>\n",
       "      <td>3</td>\n",
       "      <td>WB</td>\n",
       "      <td>24</td>\n",
       "      <td>23WB</td>\n",
       "      <td>0</td>\n",
       "      <td>35</td>\n",
       "      <td>37.0</td>\n",
       "      <td>-13.0</td>\n",
       "    </tr>\n",
       "  </tbody>\n",
       "</table>\n",
       "<p>848835 rows × 10 columns</p>\n",
       "</div>"
      ],
      "text/plain": [
       "                       time  x  y direction  congestion unique  day  \\\n",
       "row_id                                                                \n",
       "0       1991-04-01 00:00:00  0  0        EB          70   00EB    0   \n",
       "1       1991-04-01 00:00:00  0  0        NB          49   00NB    0   \n",
       "2       1991-04-01 00:00:00  0  0        SB          24   00SB    0   \n",
       "3       1991-04-01 00:00:00  0  1        EB          18   01EB    0   \n",
       "4       1991-04-01 00:00:00  0  1        NB          60   01NB    0   \n",
       "...                     ... .. ..       ...         ...    ...  ...   \n",
       "848830  1991-09-30 11:40:00  2  3        NB          54   23NB    0   \n",
       "848831  1991-09-30 11:40:00  2  3        NE          28   23NE    0   \n",
       "848832  1991-09-30 11:40:00  2  3        SB          68   23SB    0   \n",
       "848833  1991-09-30 11:40:00  2  3        SW          17   23SW    0   \n",
       "848834  1991-09-30 11:40:00  2  3        WB          24   23WB    0   \n",
       "\n",
       "        time_stamp  median  congestion-median  \n",
       "row_id                                         \n",
       "0                0    35.0               35.0  \n",
       "1                0    29.0               20.0  \n",
       "2                0    24.0                0.0  \n",
       "3                0    17.0                1.0  \n",
       "4                0    63.0               -3.0  \n",
       "...            ...     ...                ...  \n",
       "848830          35    58.0               -4.0  \n",
       "848831          35    26.0                2.0  \n",
       "848832          35    71.0               -3.0  \n",
       "848833          35    20.0               -3.0  \n",
       "848834          35    37.0              -13.0  \n",
       "\n",
       "[848835 rows x 10 columns]"
      ]
     },
     "execution_count": 25,
     "metadata": {},
     "output_type": "execute_result"
    }
   ],
   "source": [
    "dat"
   ]
  },
  {
   "cell_type": "code",
   "execution_count": 28,
   "id": "d72767f7",
   "metadata": {},
   "outputs": [
    {
     "data": {
      "text/plain": [
       "36"
      ]
     },
     "execution_count": 28,
     "metadata": {},
     "output_type": "execute_result"
    }
   ],
   "source": [
    "test = pd.read_csv('test.csv')\n",
    "len(test[(test['x']==0) & (test['y']==0) & (test['direction']=='EB')])"
   ]
  },
  {
   "cell_type": "markdown",
   "id": "979c751d",
   "metadata": {},
   "source": [
    "one day is 72 points, one week is 504 points; the test data is on monday after, and has half a day 36 points"
   ]
  },
  {
   "cell_type": "markdown",
   "id": "fbcb1a54",
   "metadata": {},
   "source": [
    "total is 13140, a little over 26 weeks"
   ]
  },
  {
   "cell_type": "code",
   "execution_count": 73,
   "id": "f40d498b",
   "metadata": {},
   "outputs": [],
   "source": [
    "from torch.nn import GRU\n",
    "import torch.nn as nn\n",
    "import torch.nn.functional as F"
   ]
  },
  {
   "cell_type": "code",
   "execution_count": 97,
   "id": "f544aea8",
   "metadata": {},
   "outputs": [],
   "source": [
    "class MyModel(nn.Module):\n",
    "    def __init__(self, input_feature, hidden_size, output_feature, num_layers=1):\n",
    "        super(MyModel, self).__init__()\n",
    "        self.linear = nn.Linear(input_feature, hidden_size)\n",
    "        self.gru = nn.GRU(hidden_size, hidden_size, batch_first=True, num_layers=num_layers)\n",
    "        ''' gru input is (N,L,H_in=H_hidden), output is (N,L,H_hidden), hidden is (num_layers, h_hidden)'''\n",
    "        self.linear_out = nn.Linear(hidden_size, output_feature)\n",
    "        self.hidden_size = hidden_size\n",
    "        self.num_layers = num_layers\n",
    "    \n",
    "    def forward(self, input, hidden):\n",
    "        ''' X is in the shape of (N,L,input_feature) '''\n",
    "        output = F.relu(self.linear(input))\n",
    "        output, hidden = self.gru(output, hidden)\n",
    "        output = self.linear_out(F.relu(output))\n",
    "        return output\n",
    "    \n",
    "    def initHidden(self, batch_size):\n",
    "        return torch.zeros((self.num_layers, batch_size, self.hidden_size))"
   ]
  },
  {
   "cell_type": "code",
   "execution_count": 36,
   "id": "05c4f52b",
   "metadata": {},
   "outputs": [
    {
     "data": {
      "text/plain": [
       "array([70, 70, 70, ..., 40, 52, 70])"
      ]
     },
     "execution_count": 36,
     "metadata": {},
     "output_type": "execute_result"
    }
   ],
   "source": [
    "series = dat[dat['unique']=='00EB']['congestion'].values\n",
    "series"
   ]
  },
  {
   "cell_type": "code",
   "execution_count": 37,
   "id": "493af66a",
   "metadata": {},
   "outputs": [],
   "source": [
    "from matplotlib import pyplot as plt"
   ]
  },
  {
   "cell_type": "code",
   "execution_count": 38,
   "id": "0f1b3fa7",
   "metadata": {},
   "outputs": [
    {
     "data": {
      "text/plain": [
       "[<matplotlib.lines.Line2D at 0x14baea6d0>]"
      ]
     },
     "execution_count": 38,
     "metadata": {},
     "output_type": "execute_result"
    },
    {
     "data": {
      "image/png": "[encoded data removed]",
      "text/plain": [
       "<Figure size 432x288 with 1 Axes>"
      ]
     },
     "metadata": {
      "needs_background": "light"
     },
     "output_type": "display_data"
    }
   ],
   "source": [
    "plt.plot(series[:1000])"
   ]
  },
  {
   "cell_type": "markdown",
   "id": "5e5be4fe",
   "metadata": {},
   "source": [
    "refer to https://machinelearningmastery.com/time-series-prediction-lstm-recurrent-neural-networks-python-keras/"
   ]
  },
  {
   "cell_type": "code",
   "execution_count": 98,
   "id": "860ac60d",
   "metadata": {},
   "outputs": [],
   "source": [
    "def create_dataset(dataset, look_back=5):\n",
    "    dataX, dataY = [], []\n",
    "    for i in range(len(dataset)-look_back-1):\n",
    "        a = dataset[i:(i+look_back)]\n",
    "        dataX.append(a)\n",
    "        dataY.append(dataset[i + look_back])\n",
    "    return np.array(dataX), np.array(dataY)"
   ]
  },
  {
   "cell_type": "code",
   "execution_count": 45,
   "id": "5fc6d60d",
   "metadata": {},
   "outputs": [],
   "source": [
    "X, y = create_dataset(series)"
   ]
  },
  {
   "cell_type": "code",
   "execution_count": 46,
   "id": "a7765a29",
   "metadata": {},
   "outputs": [
    {
     "data": {
      "text/plain": [
       "array([[70, 70, 70, 70, 70],\n",
       "       [70, 70, 70, 70, 70],\n",
       "       [70, 70, 70, 70, 70],\n",
       "       ...,\n",
       "       [50, 53, 55, 40, 43],\n",
       "       [53, 55, 40, 43, 47],\n",
       "       [55, 40, 43, 47, 40]])"
      ]
     },
     "execution_count": 46,
     "metadata": {},
     "output_type": "execute_result"
    }
   ],
   "source": [
    "X"
   ]
  },
  {
   "cell_type": "code",
   "execution_count": 50,
   "id": "ee49aff8",
   "metadata": {},
   "outputs": [
    {
     "data": {
      "text/plain": [
       "(array([70, 70, 70, 70, 70]), 70)"
      ]
     },
     "execution_count": 50,
     "metadata": {},
     "output_type": "execute_result"
    }
   ],
   "source": [
    "X[0],y[0]"
   ]
  },
  {
   "cell_type": "code",
   "execution_count": 53,
   "id": "4b03c383",
   "metadata": {},
   "outputs": [],
   "source": [
    "import torch"
   ]
  },
  {
   "cell_type": "code",
   "execution_count": 86,
   "id": "c20d1b00",
   "metadata": {},
   "outputs": [
    {
     "data": {
      "text/plain": [
       "(torch.Size([1, 1, 5]), torch.float32)"
      ]
     },
     "execution_count": 86,
     "metadata": {},
     "output_type": "execute_result"
    }
   ],
   "source": [
    "tmp = torch.tensor(X[0], dtype=torch.float32).reshape((1,1,-1))\n",
    "tmp.shape, tmp.dtype"
   ]
  },
  {
   "cell_type": "code",
   "execution_count": 99,
   "id": "cbbdfce6",
   "metadata": {},
   "outputs": [],
   "source": [
    "model = MyModel(5, 10, 1)"
   ]
  },
  {
   "cell_type": "code",
   "execution_count": 100,
   "id": "bf6c5efb",
   "metadata": {},
   "outputs": [
    {
     "data": {
      "text/plain": [
       "tensor([[[0., 0., 0., 0., 0., 0., 0., 0., 0., 0.]]])"
      ]
     },
     "execution_count": 100,
     "metadata": {},
     "output_type": "execute_result"
    }
   ],
   "source": [
    "h0 = model.initHidden(1)\n",
    "h0"
   ]
  },
  {
   "cell_type": "code",
   "execution_count": 101,
   "id": "fa5639d5",
   "metadata": {},
   "outputs": [],
   "source": [
    "output = model.forward(tmp,h0)"
   ]
  },
  {
   "cell_type": "code",
   "execution_count": 106,
   "id": "07abb563",
   "metadata": {},
   "outputs": [
    {
     "data": {
      "text/plain": [
       "0.6681071519851685"
      ]
     },
     "execution_count": 106,
     "metadata": {},
     "output_type": "execute_result"
    }
   ],
   "source": [
    "output.item()"
   ]
  },
  {
   "cell_type": "code",
   "execution_count": 107,
   "id": "959da62d",
   "metadata": {},
   "outputs": [],
   "source": [
    "import torch.optim as optim"
   ]
  },
  {
   "cell_type": "code",
   "execution_count": 108,
   "id": "ee05e639",
   "metadata": {},
   "outputs": [],
   "source": [
    "criterion = nn.L1Loss()"
   ]
  },
  {
   "cell_type": "code",
   "execution_count": 124,
   "id": "491ca727",
   "metadata": {},
   "outputs": [],
   "source": [
    "def train(n_epoches, X_train, y_train):\n",
    "    optimizer = optim.Adam(model.parameters())\n",
    "    \n",
    "    for epoch in range(n_epoches):\n",
    "        loss = 0.0\n",
    "        model.train()\n",
    "        model.zero_grad()\n",
    "        \n",
    "        for x, y in zip(X_train, y_train):\n",
    "            h0 = model.initHidden(1)\n",
    "            output = model.forward(torch.tensor(x, dtype=torch.float32).reshape((1,1,-1)), h0)\n",
    "            loss += criterion(output, torch.tensor(y, dtype=torch.float32).reshape((1,1,-1)))\n",
    "        \n",
    "        loss /= len(X_train)\n",
    "        loss.backward()\n",
    "        optimizer.step()\n",
    "        print(f'current loss={loss.item()}')"
   ]
  },
  {
   "cell_type": "code",
   "execution_count": 110,
   "id": "64b4a264",
   "metadata": {},
   "outputs": [
    {
     "data": {
      "text/plain": [
       "array([70, 70, 70, ..., 40, 52, 70])"
      ]
     },
     "execution_count": 110,
     "metadata": {},
     "output_type": "execute_result"
    }
   ],
   "source": [
    "series"
   ]
  },
  {
   "cell_type": "code",
   "execution_count": 111,
   "id": "51e245ff",
   "metadata": {},
   "outputs": [],
   "source": [
    "from sklearn.preprocessing import StandardScaler"
   ]
  },
  {
   "cell_type": "code",
   "execution_count": 115,
   "id": "302ff0bf",
   "metadata": {},
   "outputs": [],
   "source": [
    "ss = StandardScaler()\n",
    "series_normalized = ss.fit_transform(series.reshape((-1,1)))"
   ]
  },
  {
   "cell_type": "code",
   "execution_count": 118,
   "id": "fea68d7c",
   "metadata": {},
   "outputs": [
    {
     "data": {
      "text/plain": [
       "array([ 1.80058176,  1.80058176,  1.80058176, ..., -0.5891694 ,\n",
       "        0.36673107,  1.80058176])"
      ]
     },
     "execution_count": 118,
     "metadata": {},
     "output_type": "execute_result"
    }
   ],
   "source": [
    "series_normalized = series_normalized.reshape((-1))\n",
    "series_normalized"
   ]
  },
  {
   "cell_type": "code",
   "execution_count": 129,
   "id": "75012816",
   "metadata": {},
   "outputs": [
    {
     "data": {
      "text/plain": [
       "(array([47.39620185]), array([12.55360831]))"
      ]
     },
     "execution_count": 129,
     "metadata": {},
     "output_type": "execute_result"
    }
   ],
   "source": [
    "ss.mean_, ss.scale_"
   ]
  },
  {
   "cell_type": "code",
   "execution_count": 119,
   "id": "7791bb36",
   "metadata": {},
   "outputs": [],
   "source": [
    "X, y = create_dataset(series_normalized, look_back=5)"
   ]
  },
  {
   "cell_type": "code",
   "execution_count": 125,
   "id": "88fefb73",
   "metadata": {},
   "outputs": [
    {
     "name": "stdout",
     "output_type": "stream",
     "text": [
      "current loss=0.7767149209976196\n",
      "current loss=0.7756969332695007\n",
      "current loss=0.7746860980987549\n",
      "current loss=0.7736830711364746\n",
      "current loss=0.7726747393608093\n",
      "current loss=0.771671712398529\n",
      "current loss=0.7706784009933472\n",
      "current loss=0.769677460193634\n",
      "current loss=0.7686856389045715\n",
      "current loss=0.7676954865455627\n"
     ]
    }
   ],
   "source": [
    "train(10, X, y)"
   ]
  },
  {
   "cell_type": "code",
   "execution_count": 134,
   "id": "6f1c40a9",
   "metadata": {},
   "outputs": [],
   "source": [
    "batch_size = 4\n",
    "train_dataset = []\n",
    "for i in range(len(X)):\n",
    "    train_dataset.append((torch.tensor(X[i].reshape(1,-1),dtype=torch.float32),\n",
    "                          torch.tensor(y[i].reshape(1,-1),dtype=torch.float32)))"
   ]
  },
  {
   "cell_type": "code",
   "execution_count": 132,
   "id": "24abe672",
   "metadata": {},
   "outputs": [],
   "source": [
    "from torch.utils.data import DataLoader"
   ]
  },
  {
   "cell_type": "code",
   "execution_count": 151,
   "id": "d5bf53a4",
   "metadata": {},
   "outputs": [],
   "source": [
    "train_loader = DataLoader(train_dataset, batch_size=batch_size)"
   ]
  },
  {
   "cell_type": "code",
   "execution_count": 137,
   "id": "b7e1bd50",
   "metadata": {},
   "outputs": [
    {
     "data": {
      "text/plain": [
       "(torch.Size([4, 1, 5]), torch.Size([4, 1, 1]))"
      ]
     },
     "execution_count": 137,
     "metadata": {},
     "output_type": "execute_result"
    }
   ],
   "source": [
    "X,y = next(iter(train_loader))\n",
    "X.shape, y.shape"
   ]
  },
  {
   "cell_type": "code",
   "execution_count": 141,
   "id": "23f6f675",
   "metadata": {},
   "outputs": [
    {
     "data": {
      "text/plain": [
       "tensor([[[1.8006]],\n",
       "\n",
       "        [[1.8006]],\n",
       "\n",
       "        [[1.8006]],\n",
       "\n",
       "        [[1.8006]]])"
      ]
     },
     "execution_count": 141,
     "metadata": {},
     "output_type": "execute_result"
    }
   ],
   "source": [
    "y"
   ]
  },
  {
   "cell_type": "code",
   "execution_count": 149,
   "id": "db49d44e",
   "metadata": {},
   "outputs": [
    {
     "data": {
      "text/plain": [
       "array([70, 70, 70, 70, 70, 70, 70, 70, 70, 70, 70, 70, 70, 70, 57, 55, 47,\n",
       "       58, 47, 57])"
      ]
     },
     "execution_count": 149,
     "metadata": {},
     "output_type": "execute_result"
    }
   ],
   "source": [
    "series[:20]"
   ]
  },
  {
   "cell_type": "code",
   "execution_count": 150,
   "id": "604ec29c",
   "metadata": {},
   "outputs": [
    {
     "data": {
      "text/plain": [
       "array([ 1.80058176,  1.80058176,  1.80058176,  1.80058176,  1.80058176,\n",
       "        1.80058176,  1.80058176,  1.80058176,  1.80058176,  1.80058176,\n",
       "        1.80058176,  1.80058176,  1.80058176,  1.80058176,  0.76502293,\n",
       "        0.60570618, -0.03156079,  0.8446813 , -0.03156079,  0.76502293])"
      ]
     },
     "execution_count": 150,
     "metadata": {},
     "output_type": "execute_result"
    }
   ],
   "source": [
    "series_normalized[:20]"
   ]
  },
  {
   "cell_type": "code",
   "execution_count": 145,
   "id": "9f7d5256",
   "metadata": {},
   "outputs": [
    {
     "data": {
      "text/plain": [
       "tensor([[[1.8006, 1.8006, 1.8006, 1.8006, 1.8006]],\n",
       "\n",
       "        [[1.8006, 1.8006, 1.8006, 1.8006, 1.8006]],\n",
       "\n",
       "        [[1.8006, 1.8006, 1.8006, 1.8006, 1.8006]],\n",
       "\n",
       "        [[1.8006, 1.8006, 1.8006, 1.8006, 1.8006]]])"
      ]
     },
     "execution_count": 145,
     "metadata": {},
     "output_type": "execute_result"
    }
   ],
   "source": [
    "X"
   ]
  },
  {
   "cell_type": "code",
   "execution_count": 142,
   "id": "e8c16e46",
   "metadata": {},
   "outputs": [
    {
     "data": {
      "text/plain": [
       "tensor([[[0.1714]],\n",
       "\n",
       "        [[0.1714]],\n",
       "\n",
       "        [[0.1714]],\n",
       "\n",
       "        [[0.1714]]], grad_fn=<AddBackward0>)"
      ]
     },
     "execution_count": 142,
     "metadata": {},
     "output_type": "execute_result"
    }
   ],
   "source": [
    "h0 = model.initHidden(batch_size)\n",
    "model.forward(X,h0)"
   ]
  },
  {
   "cell_type": "code",
   "execution_count": 143,
   "id": "f1128e79",
   "metadata": {},
   "outputs": [
    {
     "data": {
      "text/plain": [
       "tensor(1.6292, grad_fn=<L1LossBackward0>)"
      ]
     },
     "execution_count": 143,
     "metadata": {},
     "output_type": "execute_result"
    }
   ],
   "source": [
    "criterion(model.forward(X,h0),y)"
   ]
  },
  {
   "cell_type": "code",
   "execution_count": 160,
   "id": "5b381244",
   "metadata": {},
   "outputs": [],
   "source": [
    "batch_size = 64\n",
    "train_loader = DataLoader(train_dataset, batch_size=batch_size, drop_last=True, shuffle=True)"
   ]
  },
  {
   "cell_type": "code",
   "execution_count": 165,
   "id": "8724b1b3",
   "metadata": {},
   "outputs": [],
   "source": [
    "def train(n_epoches, train_loader):\n",
    "    optimizer = optim.Adam(model.parameters())\n",
    "    \n",
    "    for epoch in range(n_epoches):\n",
    "        curr_loss = 0.0\n",
    "        model.train()\n",
    "        \n",
    "        for batch, (x, y) in enumerate(train_loader):\n",
    "            h0 = model.initHidden(batch_size)\n",
    "            output = model.forward(x, h0)\n",
    "            loss = criterion(output, y)\n",
    "            \n",
    "            optimizer.zero_grad()\n",
    "            loss.backward()\n",
    "            optimizer.step()\n",
    "#             print(f\"{batch}, {loss.item()}\")\n",
    "            curr_loss += loss*len(x)\n",
    "        \n",
    "        curr_loss /= len(train_loader.dataset)\n",
    "        print(f'current loss={loss.item()}')"
   ]
  },
  {
   "cell_type": "code",
   "execution_count": 166,
   "id": "ee91a840",
   "metadata": {},
   "outputs": [
    {
     "name": "stdout",
     "output_type": "stream",
     "text": [
      "current loss=0.6242882609367371\n",
      "current loss=0.6472882032394409\n",
      "current loss=0.5973089337348938\n",
      "current loss=0.5958705544471741\n",
      "current loss=0.505281925201416\n",
      "current loss=0.6069816946983337\n",
      "current loss=0.5184617042541504\n",
      "current loss=0.4884766638278961\n",
      "current loss=0.7245726585388184\n",
      "current loss=0.6810411214828491\n",
      "current loss=0.5545057058334351\n",
      "current loss=0.6136927604675293\n",
      "current loss=0.6351155042648315\n",
      "current loss=0.5612891912460327\n",
      "current loss=0.6089338660240173\n",
      "current loss=0.6558752655982971\n",
      "current loss=0.7605106830596924\n",
      "current loss=0.6686404943466187\n",
      "current loss=0.6295968294143677\n",
      "current loss=0.7146410346031189\n",
      "current loss=0.5400086641311646\n",
      "current loss=0.6001333594322205\n",
      "current loss=0.5950933694839478\n",
      "current loss=0.6595151424407959\n",
      "current loss=0.5409175753593445\n",
      "current loss=0.6281051635742188\n",
      "current loss=0.5246407985687256\n",
      "current loss=0.5138238072395325\n",
      "current loss=0.5500326156616211\n",
      "current loss=0.5440602898597717\n",
      "current loss=0.6004719138145447\n",
      "current loss=0.5780783891677856\n",
      "current loss=0.5962954759597778\n",
      "current loss=0.39813828468322754\n",
      "current loss=0.5964271426200867\n",
      "current loss=0.6346099972724915\n",
      "current loss=0.6114296913146973\n",
      "current loss=0.4947631359100342\n",
      "current loss=0.6076653003692627\n",
      "current loss=0.5972223281860352\n",
      "current loss=0.5254863500595093\n",
      "current loss=0.6269224882125854\n",
      "current loss=0.5544542074203491\n",
      "current loss=0.49332281947135925\n",
      "current loss=0.522598922252655\n",
      "current loss=0.7025675773620605\n",
      "current loss=0.6028512716293335\n",
      "current loss=0.5654163956642151\n",
      "current loss=0.5936468839645386\n",
      "current loss=0.7415329217910767\n",
      "current loss=0.5450615882873535\n",
      "current loss=0.5686540603637695\n",
      "current loss=0.5928457975387573\n",
      "current loss=0.6839472055435181\n",
      "current loss=0.5735659599304199\n",
      "current loss=0.6430584192276001\n",
      "current loss=0.5644755959510803\n",
      "current loss=0.6196162700653076\n",
      "current loss=0.5755144953727722\n",
      "current loss=0.555260181427002\n",
      "current loss=0.47811248898506165\n",
      "current loss=0.6673871278762817\n",
      "current loss=0.7097628116607666\n",
      "current loss=0.6238659620285034\n",
      "current loss=0.7248581647872925\n",
      "current loss=0.408133864402771\n",
      "current loss=0.5652490854263306\n",
      "current loss=0.6292523741722107\n",
      "current loss=0.6854305863380432\n",
      "current loss=0.7197443246841431\n",
      "current loss=0.6618462800979614\n",
      "current loss=0.5075105428695679\n",
      "current loss=0.630364179611206\n",
      "current loss=0.6149030923843384\n",
      "current loss=0.6301805973052979\n",
      "current loss=0.6238526701927185\n",
      "current loss=0.565329909324646\n",
      "current loss=0.7279407978057861\n",
      "current loss=0.5997461080551147\n",
      "current loss=0.725007176399231\n",
      "current loss=0.5276755094528198\n",
      "current loss=0.5428318977355957\n",
      "current loss=0.5557709336280823\n",
      "current loss=0.6307361125946045\n",
      "current loss=0.5683645009994507\n",
      "current loss=0.6561049222946167\n",
      "current loss=0.44206702709198\n",
      "current loss=0.5978639721870422\n",
      "current loss=0.7931571006774902\n",
      "current loss=0.6930441856384277\n",
      "current loss=0.6115820407867432\n",
      "current loss=0.6095857620239258\n",
      "current loss=0.6304318904876709\n",
      "current loss=0.6425491571426392\n",
      "current loss=0.5708413124084473\n",
      "current loss=0.7582141757011414\n",
      "current loss=0.6639465093612671\n",
      "current loss=0.5961370468139648\n",
      "current loss=0.6729300022125244\n",
      "current loss=0.6321955919265747\n"
     ]
    }
   ],
   "source": [
    "train(100, train_loader)"
   ]
  },
  {
   "cell_type": "code",
   "execution_count": 172,
   "id": "57cd1cf6",
   "metadata": {},
   "outputs": [
    {
     "data": {
      "text/plain": [
       "(array([47.39620185]), array([12.55360831]))"
      ]
     },
     "execution_count": 172,
     "metadata": {},
     "output_type": "execute_result"
    }
   ],
   "source": [
    "series = dat[dat['unique']=='00EB']['congestion'].values\n",
    "series_normalized = ss.fit_transform(series.reshape((-1,1))).reshape(-1)\n",
    "ss.mean_, ss.scale_"
   ]
  },
  {
   "cell_type": "code",
   "execution_count": 173,
   "id": "3857757d",
   "metadata": {},
   "outputs": [],
   "source": [
    "X, y = create_dataset(series_normalized, look_back=9)\n",
    "model = MyModel(9, 10, 1)\n",
    "train_dataset = []\n",
    "for i in range(len(X)):\n",
    "    train_dataset.append((torch.tensor(X[i].reshape(1,-1),dtype=torch.float32),\n",
    "                          torch.tensor(y[i].reshape(1,-1),dtype=torch.float32)))\n",
    "batch_size = 64\n",
    "train_loader = DataLoader(train_dataset, batch_size=batch_size, drop_last=True, shuffle=True)"
   ]
  },
  {
   "cell_type": "code",
   "execution_count": 174,
   "id": "a9413f0f",
   "metadata": {},
   "outputs": [
    {
     "name": "stdout",
     "output_type": "stream",
     "text": [
      "current loss=0.6288358569145203\n",
      "current loss=0.6362320780754089\n",
      "current loss=0.5404850244522095\n",
      "current loss=0.617464542388916\n",
      "current loss=0.6154426336288452\n",
      "current loss=0.6587413549423218\n",
      "current loss=0.7683394551277161\n",
      "current loss=0.5941190123558044\n",
      "current loss=0.5907721519470215\n",
      "current loss=0.585248589515686\n",
      "current loss=0.7619957327842712\n",
      "current loss=0.5547212958335876\n",
      "current loss=0.58371901512146\n",
      "current loss=0.5957654714584351\n",
      "current loss=0.7325143814086914\n",
      "current loss=0.632469654083252\n",
      "current loss=0.6938233375549316\n",
      "current loss=0.6252468228340149\n",
      "current loss=0.6180144548416138\n",
      "current loss=0.46204766631126404\n",
      "current loss=0.693911612033844\n",
      "current loss=0.6266976594924927\n",
      "current loss=0.6949400305747986\n",
      "current loss=0.5954110622406006\n",
      "current loss=0.7805069088935852\n",
      "current loss=0.5605955123901367\n",
      "current loss=0.6338569521903992\n",
      "current loss=0.5648825168609619\n",
      "current loss=0.5952677726745605\n",
      "current loss=0.5951972603797913\n",
      "current loss=0.5331026911735535\n",
      "current loss=0.7002453207969666\n",
      "current loss=0.5944026112556458\n",
      "current loss=0.7061837911605835\n",
      "current loss=0.5535383820533752\n",
      "current loss=0.5925142168998718\n",
      "current loss=0.5020248293876648\n",
      "current loss=0.6022607088088989\n",
      "current loss=0.5511729121208191\n",
      "current loss=0.6095943450927734\n",
      "current loss=0.6828665137290955\n",
      "current loss=0.6205081343650818\n",
      "current loss=0.5889750123023987\n",
      "current loss=0.6407443881034851\n",
      "current loss=0.5380347967147827\n",
      "current loss=0.5977336764335632\n",
      "current loss=0.7284029126167297\n",
      "current loss=0.5553028583526611\n",
      "current loss=0.6425773501396179\n",
      "current loss=0.6009441018104553\n",
      "current loss=0.6297082901000977\n",
      "current loss=0.6624143123626709\n",
      "current loss=0.5676521062850952\n",
      "current loss=0.6064017415046692\n",
      "current loss=0.7320904731750488\n",
      "current loss=0.5862182378768921\n",
      "current loss=0.5841600894927979\n",
      "current loss=0.5264214873313904\n",
      "current loss=0.6339972019195557\n",
      "current loss=0.5389474630355835\n",
      "current loss=0.5672073364257812\n",
      "current loss=0.5812454223632812\n",
      "current loss=0.5657567381858826\n",
      "current loss=0.5561317205429077\n",
      "current loss=0.6576712727546692\n",
      "current loss=0.6967830061912537\n",
      "current loss=0.7509889006614685\n",
      "current loss=0.5824763774871826\n",
      "current loss=0.5639097094535828\n",
      "current loss=0.7148027420043945\n",
      "current loss=0.5352364778518677\n",
      "current loss=0.5784589648246765\n",
      "current loss=0.7315789461135864\n",
      "current loss=0.6475771069526672\n",
      "current loss=0.6043975353240967\n",
      "current loss=0.4642038345336914\n",
      "current loss=0.7189725637435913\n",
      "current loss=0.6225713491439819\n",
      "current loss=0.6915876269340515\n",
      "current loss=0.6259805560112\n",
      "current loss=0.5970695614814758\n",
      "current loss=0.7041373252868652\n",
      "current loss=0.5627118349075317\n",
      "current loss=0.5680107474327087\n",
      "current loss=0.6562897562980652\n",
      "current loss=0.6871602535247803\n",
      "current loss=0.5378625392913818\n",
      "current loss=0.49250534176826477\n",
      "current loss=0.45777344703674316\n",
      "current loss=0.7734604477882385\n",
      "current loss=0.5652228593826294\n",
      "current loss=0.6956368684768677\n",
      "current loss=0.5397482514381409\n",
      "current loss=0.6401940584182739\n",
      "current loss=0.5995840430259705\n",
      "current loss=0.5610959529876709\n",
      "current loss=0.6255056262016296\n",
      "current loss=0.5191537141799927\n",
      "current loss=0.6210775375366211\n",
      "current loss=0.6023603677749634\n"
     ]
    }
   ],
   "source": [
    "train(100, train_loader)"
   ]
  },
  {
   "cell_type": "code",
   "execution_count": 175,
   "id": "b1c989b8",
   "metadata": {},
   "outputs": [
    {
     "data": {
      "text/plain": [
       "(array([0.9608699]), array([11.61515326]))"
      ]
     },
     "execution_count": 175,
     "metadata": {},
     "output_type": "execute_result"
    }
   ],
   "source": [
    "series = dat[dat['unique']=='00EB']['congestion-median'].values\n",
    "series_normalized = ss.fit_transform(series.reshape((-1,1))).reshape(-1)\n",
    "ss.mean_, ss.scale_"
   ]
  },
  {
   "cell_type": "code",
   "execution_count": 176,
   "id": "599cbf58",
   "metadata": {},
   "outputs": [],
   "source": [
    "X, y = create_dataset(series_normalized, look_back=9)\n",
    "model = MyModel(9, 10, 1)\n",
    "train_dataset = []\n",
    "for i in range(len(X)):\n",
    "    train_dataset.append((torch.tensor(X[i].reshape(1,-1),dtype=torch.float32),\n",
    "                          torch.tensor(y[i].reshape(1,-1),dtype=torch.float32)))\n",
    "batch_size = 64\n",
    "train_loader = DataLoader(train_dataset, batch_size=batch_size, drop_last=True, shuffle=True)"
   ]
  },
  {
   "cell_type": "code",
   "execution_count": 177,
   "id": "416f3cef",
   "metadata": {},
   "outputs": [
    {
     "name": "stdout",
     "output_type": "stream",
     "text": [
      "current loss=0.7168369889259338\n",
      "current loss=0.6273313760757446\n",
      "current loss=0.580070436000824\n",
      "current loss=0.6621374487876892\n",
      "current loss=0.7819251418113708\n",
      "current loss=0.7247238159179688\n",
      "current loss=0.6200862526893616\n",
      "current loss=0.7553563714027405\n",
      "current loss=0.799769401550293\n",
      "current loss=0.5345761775970459\n",
      "current loss=0.6115989089012146\n",
      "current loss=0.5814597606658936\n",
      "current loss=0.5314439535140991\n",
      "current loss=0.6538180112838745\n",
      "current loss=0.623691201210022\n",
      "current loss=0.6833034157752991\n",
      "current loss=0.49870654940605164\n",
      "current loss=0.5013012290000916\n",
      "current loss=0.6357570886611938\n",
      "current loss=0.5726734399795532\n",
      "current loss=0.6109586954116821\n",
      "current loss=0.5470067858695984\n",
      "current loss=0.6195123195648193\n",
      "current loss=0.7429063320159912\n",
      "current loss=0.495055228471756\n",
      "current loss=0.5832582712173462\n",
      "current loss=0.6382485628128052\n",
      "current loss=0.7772975564002991\n",
      "current loss=0.6786072850227356\n",
      "current loss=0.6131778359413147\n",
      "current loss=0.5428531169891357\n",
      "current loss=0.6501436233520508\n",
      "current loss=0.5656252503395081\n",
      "current loss=0.48004284501075745\n",
      "current loss=0.5979931950569153\n",
      "current loss=0.5825163125991821\n",
      "current loss=0.5480578541755676\n",
      "current loss=0.46362072229385376\n",
      "current loss=0.6663630604743958\n",
      "current loss=0.512871503829956\n",
      "current loss=0.5686459541320801\n",
      "current loss=0.6059361100196838\n",
      "current loss=0.556923508644104\n",
      "current loss=0.5490378737449646\n",
      "current loss=0.5652821063995361\n",
      "current loss=0.599979817867279\n",
      "current loss=0.6581161022186279\n",
      "current loss=0.4848804473876953\n",
      "current loss=0.5266379714012146\n",
      "current loss=0.6033788919448853\n",
      "current loss=0.5792134404182434\n",
      "current loss=0.6232031583786011\n",
      "current loss=0.6674304604530334\n",
      "current loss=0.6252175569534302\n",
      "current loss=0.6529122591018677\n",
      "current loss=0.5460240244865417\n",
      "current loss=0.6031044125556946\n",
      "current loss=0.5671173930168152\n",
      "current loss=0.7675369381904602\n",
      "current loss=0.5562485456466675\n",
      "current loss=0.5810245871543884\n",
      "current loss=0.7643044590950012\n",
      "current loss=0.49648988246917725\n",
      "current loss=0.5733988285064697\n",
      "current loss=0.5951165556907654\n",
      "current loss=0.556844174861908\n",
      "current loss=0.7073124647140503\n",
      "current loss=0.6389054656028748\n",
      "current loss=0.6895517110824585\n",
      "current loss=0.6295139193534851\n",
      "current loss=0.6126486659049988\n",
      "current loss=0.5134297013282776\n",
      "current loss=0.5009958148002625\n",
      "current loss=0.5184170007705688\n",
      "current loss=0.4703080654144287\n",
      "current loss=0.6062233448028564\n",
      "current loss=0.6173173785209656\n",
      "current loss=0.6473880410194397\n",
      "current loss=0.660193145275116\n",
      "current loss=0.7197979092597961\n",
      "current loss=0.7095434665679932\n",
      "current loss=0.6189427375793457\n",
      "current loss=0.49054425954818726\n",
      "current loss=0.6222984790802002\n",
      "current loss=0.48173391819000244\n",
      "current loss=0.7291781306266785\n",
      "current loss=0.7076054811477661\n",
      "current loss=0.5363010168075562\n",
      "current loss=0.5909274816513062\n",
      "current loss=0.5861705541610718\n",
      "current loss=0.531582772731781\n",
      "current loss=0.5843333601951599\n",
      "current loss=0.5814797878265381\n",
      "current loss=0.659198522567749\n",
      "current loss=0.6226761341094971\n",
      "current loss=0.663737416267395\n",
      "current loss=0.7102316617965698\n",
      "current loss=0.5861521363258362\n",
      "current loss=0.6798681020736694\n",
      "current loss=0.5703883171081543\n"
     ]
    }
   ],
   "source": [
    "train(100, train_loader)"
   ]
  },
  {
   "cell_type": "code",
   "execution_count": 178,
   "id": "e3e0bcf7",
   "metadata": {},
   "outputs": [],
   "source": [
    "X, y = create_dataset(series_normalized, look_back=9)\n",
    "model = MyModel(9, 9, 3)\n",
    "train_dataset = []\n",
    "for i in range(len(X)):\n",
    "    train_dataset.append((torch.tensor(X[i].reshape(1,-1),dtype=torch.float32),\n",
    "                          torch.tensor(y[i].reshape(1,-1),dtype=torch.float32)))\n",
    "batch_size = 64\n",
    "train_loader = DataLoader(train_dataset, batch_size=batch_size, drop_last=True, shuffle=True)"
   ]
  }
 ],
 "metadata": {
  "kernelspec": {
   "display_name": "Python 3 (ipykernel)",
   "language": "python",
   "name": "python3"
  },
  "language_info": {
   "codemirror_mode": {
    "name": "ipython",
    "version": 3
   },
   "file_extension": ".py",
   "mimetype": "text/x-python",
   "name": "python",
   "nbconvert_exporter": "python",
   "pygments_lexer": "ipython3",
   "version": "3.9.10"
  }
 },
 "nbformat": 4,
 "nbformat_minor": 5
}
