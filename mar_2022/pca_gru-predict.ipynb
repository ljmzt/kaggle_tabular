{
 "cells": [
  {
   "cell_type": "code",
   "execution_count": 1,
   "id": "e298c3d0",
   "metadata": {},
   "outputs": [],
   "source": [
    "import pandas as pd\n",
    "import numpy as np\n",
    "from matplotlib import pyplot as plt\n",
    "import scipy.stats as stats\n",
    "from collections import defaultdict\n",
    "from itertools import product\n",
    "from sklearn.metrics import mean_absolute_error as mae\n",
    "import torch\n",
    "import torch.nn as nn\n",
    "import torch.nn.functional as F\n",
    "from torch.utils.data import DataLoader\n",
    "from torch import optim\n",
    "from sklearn.preprocessing import StandardScaler\n",
    "from sklearn.decomposition import PCA"
   ]
  },
  {
   "cell_type": "code",
   "execution_count": 2,
   "id": "7764c476",
   "metadata": {},
   "outputs": [],
   "source": [
    "look_back = 72\n",
    "batch_size = 512\n",
    "linear_node = 32"
   ]
  },
  {
   "cell_type": "code",
   "execution_count": 3,
   "id": "43c79162",
   "metadata": {},
   "outputs": [],
   "source": [
    "dat = pd.read_csv('train.csv', index_col='row_id')\n",
    "def preprocess(dat):\n",
    "    time_mapper = {}\n",
    "    ii = 0\n",
    "    for h in range(24):\n",
    "        for mm in ['00','20','40']:\n",
    "            hh = '{0:02d}'.format(h)\n",
    "            time_mapper[hh+':'+mm] = ii\n",
    "            ii += 1\n",
    "\n",
    "    dat['unique'] = dat['x'].astype(str) + dat['y'].astype(str) + dat['direction']\n",
    "    uniques = dat['unique'].unique()\n",
    "    dat['day'] = pd.to_datetime(dat['time']).dt.weekday\n",
    "    dat['time_stamp'] = dat['time'].apply(lambda x:time_mapper[x.split()[1][:5]])\n",
    "\n",
    "    tmp = dat.groupby(['unique','day','time_stamp']).agg({'congestion':np.median})\n",
    "    median_mapper = tmp.to_dict()['congestion']\n",
    "    dat['median'] = dat.apply(lambda x: \\\n",
    "                              median_mapper[x['unique'],x['day'],x['time_stamp']], axis=1)\n",
    "    dat['congestion-median'] = dat['congestion'] - dat['median']\n",
    "    \n",
    "    all_time = pd.DataFrame(pd.date_range('1991-04-01 00:00:00', '1991-09-30 11:40:00', freq='20Min'), columns=['time'])\n",
    "    all_time['time'] = all_time['time'].astype(str)\n",
    "    \n",
    "    return uniques, median_mapper, time_mapper, all_time\n",
    "uniques, median_mapper, time_mapper, all_time = preprocess(dat)"
   ]
  },
  {
   "cell_type": "code",
   "execution_count": 4,
   "id": "5cb05e64",
   "metadata": {},
   "outputs": [],
   "source": [
    "def getseries(unique):\n",
    "    df = dat.loc[dat['unique']==unique, ['time', 'congestion-median']]\n",
    "    df = pd.merge(all_time, df, left_on='time', right_on='time', how='outer')\n",
    "    df = df.set_index('time')\n",
    "    df['congestion-median'] = df['congestion-median'].fillna(0)\n",
    "    ss = StandardScaler()\n",
    "    df['congestion-median-normalized'] = ss.fit_transform(df['congestion-median'].values.reshape(-1,1)).reshape(-1)\n",
    "    return df, ss"
   ]
  },
  {
   "cell_type": "code",
   "execution_count": 10,
   "id": "55b3d355",
   "metadata": {},
   "outputs": [
    {
     "data": {
      "text/plain": [
       "13140"
      ]
     },
     "execution_count": 10,
     "metadata": {},
     "output_type": "execute_result"
    }
   ],
   "source": [
    "df,_ = getseries('00EB')\n",
    "len(df)"
   ]
  },
  {
   "cell_type": "code",
   "execution_count": 15,
   "id": "651b08f5",
   "metadata": {},
   "outputs": [
    {
     "data": {
      "text/plain": [
       "(12636, 13140)"
      ]
     },
     "execution_count": 15,
     "metadata": {},
     "output_type": "execute_result"
    }
   ],
   "source": [
    "test_periods = [\n",
    "    ['1991-09-23 12:00:00', '1991-09-23 24:00:00']]\n",
    "id1 = df.index.to_list().index(test_periods[0][0])\n",
    "id1, len(df)"
   ]
  },
  {
   "cell_type": "code",
   "execution_count": 16,
   "id": "92a24378",
   "metadata": {},
   "outputs": [],
   "source": [
    "data_all = []\n",
    "for unique in uniques:\n",
    "    df, ss = getseries(unique)\n",
    "    data_all.append(df['congestion-median-normalized'].values)\n",
    "data_all = np.array(data_all).T"
   ]
  },
  {
   "cell_type": "code",
   "execution_count": 17,
   "id": "d5bd696e",
   "metadata": {},
   "outputs": [
    {
     "data": {
      "text/plain": [
       "(13140, 65)"
      ]
     },
     "execution_count": 17,
     "metadata": {},
     "output_type": "execute_result"
    }
   ],
   "source": [
    "data_all.shape"
   ]
  },
  {
   "cell_type": "code",
   "execution_count": 18,
   "id": "a85de2a7",
   "metadata": {},
   "outputs": [],
   "source": [
    "pca = PCA()\n",
    "data_all_pca = pca.fit_transform(data_all)"
   ]
  },
  {
   "cell_type": "code",
   "execution_count": 24,
   "id": "65648376",
   "metadata": {},
   "outputs": [
    {
     "data": {
      "text/plain": [
       "504"
      ]
     },
     "execution_count": 24,
     "metadata": {},
     "output_type": "execute_result"
    }
   ],
   "source": [
    "13140-12636"
   ]
  },
  {
   "cell_type": "code",
   "execution_count": 23,
   "id": "8701722e",
   "metadata": {},
   "outputs": [],
   "source": [
    "train_pca = data_all_pca[:12636, :]\n",
    "test_pca = data_all_pca[12636:, :]\n",
    "predict_test_pca = np.zeros(test_pca.shape)\n",
    "test = data_all[12636, :]"
   ]
  },
  {
   "cell_type": "code",
   "execution_count": 22,
   "id": "e7f20980",
   "metadata": {},
   "outputs": [],
   "source": [
    "criterion = nn.L1Loss()\n",
    "class MyModel(nn.Module):\n",
    "    def __init__(self, input_feature, hidden_size, output_feature, num_layers=1):\n",
    "        super(MyModel, self).__init__()\n",
    "        self.linear = nn.Linear(input_feature, hidden_size)\n",
    "        self.gru = nn.GRU(hidden_size, hidden_size, batch_first=True, num_layers=num_layers, dropout=0.2)\n",
    "        ''' gru input is (N,L,H_in=H_hidden), output is (N,L,H_hidden), hidden is (num_layers, h_hidden)'''\n",
    "        self.linear_out = nn.Linear(hidden_size, output_feature)\n",
    "        self.hidden_size = hidden_size\n",
    "        self.num_layers = num_layers\n",
    "    \n",
    "    def forward(self, input, hidden):\n",
    "        ''' X is in the shape of (N,L,input_feature) '''\n",
    "        output = F.relu(self.linear(input))\n",
    "        output, hidden = self.gru(output, hidden)\n",
    "        output = self.linear_out(F.relu(output))\n",
    "        return output\n",
    "    \n",
    "    def initHidden(self, batch_size):\n",
    "        return torch.zeros((self.num_layers, batch_size, self.hidden_size))"
   ]
  },
  {
   "cell_type": "code",
   "execution_count": 26,
   "id": "8844b83c",
   "metadata": {},
   "outputs": [],
   "source": [
    "def create_dataset(dataset, look_back=5):\n",
    "    dataX, dataY = [], []\n",
    "    for i in range(len(dataset)-look_back-1):\n",
    "        a = dataset[i:(i+look_back)]\n",
    "        dataX.append(a)\n",
    "        dataY.append(dataset[i+look_back])\n",
    "    return np.array(dataX), np.array(dataY)"
   ]
  },
  {
   "cell_type": "code",
   "execution_count": 53,
   "id": "4dfb92db",
   "metadata": {},
   "outputs": [],
   "source": [
    "nn.L1Loss?"
   ]
  },
  {
   "cell_type": "code",
   "execution_count": 73,
   "id": "cd871937",
   "metadata": {},
   "outputs": [
    {
     "data": {
      "text/plain": [
       "504"
      ]
     },
     "execution_count": 73,
     "metadata": {},
     "output_type": "execute_result"
    }
   ],
   "source": [
    "len(test_pca)"
   ]
  },
  {
   "cell_type": "code",
   "execution_count": 92,
   "id": "14f39aa6",
   "metadata": {},
   "outputs": [
    {
     "name": "stdout",
     "output_type": "stream",
     "text": [
      "0 0.9307579398155212\n",
      "1 0.794122040271759\n",
      "2 0.7608469724655151\n",
      "3 0.7854874134063721\n",
      "4 0.8738499879837036\n",
      "5 0.8467821478843689\n",
      "6 0.7947840094566345\n",
      "7 0.6899648308753967\n",
      "8 0.7613958120346069\n",
      "9 0.7499510049819946\n",
      "10 0.7454723715782166\n",
      "11 0.721054196357727\n",
      "12 0.7514623403549194\n",
      "13 0.7385885715484619\n",
      "14 0.780203640460968\n",
      "15 0.7026103138923645\n",
      "16 0.7138119339942932\n",
      "17 0.7817379832267761\n",
      "18 0.7612203359603882\n",
      "19 0.6608558893203735\n",
      "20 0.7349149584770203\n",
      "21 0.7319332361221313\n",
      "22 0.73804771900177\n",
      "23 0.7954270839691162\n",
      "24 0.7337861657142639\n",
      "25 0.668300449848175\n",
      "26 0.7194326519966125\n",
      "27 0.7074945569038391\n",
      "28 0.7401716113090515\n",
      "29 0.6714547872543335\n",
      "30 0.7747689485549927\n",
      "31 0.7432311773300171\n",
      "32 0.7169390320777893\n",
      "33 0.6946439743041992\n",
      "34 0.7387929558753967\n",
      "35 0.6772165894508362\n",
      "36 0.6742100119590759\n",
      "37 0.6633779406547546\n",
      "38 0.7634164094924927\n",
      "39 0.7387778759002686\n",
      "40 0.6822261214256287\n",
      "41 0.7707405090332031\n",
      "42 0.6941987872123718\n",
      "43 0.7140578031539917\n",
      "44 0.6790107488632202\n",
      "45 0.7153241038322449\n",
      "46 0.7147491574287415\n",
      "47 0.7153403759002686\n",
      "48 0.707635223865509\n",
      "49 0.7256096005439758\n",
      "50 0.7106819748878479\n",
      "51 0.6668294072151184\n",
      "52 0.7340487241744995\n",
      "53 0.6828958988189697\n",
      "54 0.6665856838226318\n",
      "55 0.6772865056991577\n",
      "56 0.5851745009422302\n",
      "57 0.7057881951332092\n",
      "58 0.6662768125534058\n",
      "59 0.7165467143058777\n",
      "60 0.6346024870872498\n",
      "61 0.613106906414032\n",
      "62 0.6580055952072144\n",
      "63 0.664772093296051\n",
      "64 0.635344386100769\n"
     ]
    }
   ],
   "source": [
    "model = MyModel(1, linear_node, 1, num_layers=3)\n",
    "\n",
    "for icol in range(65):\n",
    "    X, y = create_dataset(test_pca[:,icol], look_back=look_back)\n",
    "    test_dataset = []\n",
    "    for i in range(len(X)):\n",
    "        test_dataset.append((torch.tensor(X[i].reshape(-1,1),dtype=torch.float32),\n",
    "                             torch.tensor(y[i].reshape(-1,),dtype=torch.float32)))\n",
    "    test_loader = DataLoader(test_dataset, batch_size=batch_size, drop_last=False)\n",
    "    model.load_state_dict(torch.load('model_pca_train_'+str(icol)+'.pickle')['model'])\n",
    "    model.eval()\n",
    "    with torch.no_grad():\n",
    "        loss = 0\n",
    "        n = 0\n",
    "        for batch, (x, y) in enumerate(test_loader):\n",
    "            h0 = model.initHidden(len(x))\n",
    "            output = model.forward(x, h0)\n",
    "            loss += criterion(output[:,-1,:],y).item() * len(x)\n",
    "            n += len(x)\n",
    "        loss /= n\n",
    "    print(f\"{icol} {loss}\")"
   ]
  },
  {
   "cell_type": "code",
   "execution_count": 93,
   "id": "0c1cbeb8",
   "metadata": {},
   "outputs": [
    {
     "name": "stdout",
     "output_type": "stream",
     "text": [
      "loss=0.9289831941578659\n",
      "loss=0.7925213296036454\n",
      "loss=0.761384247939194\n",
      "loss=0.7863439045414268\n",
      "loss=0.8757575172233593\n",
      "loss=0.8466665299035322\n",
      "loss=0.7944646849482052\n",
      "loss=0.6921371183684083\n",
      "loss=0.7621268342904824\n",
      "loss=0.7488796967970311\n",
      "loss=0.7453667622891268\n",
      "loss=0.7220080811916034\n",
      "loss=0.7510288252111479\n",
      "loss=0.7371397506163261\n",
      "loss=0.7791315446689026\n",
      "loss=0.7013514049500081\n"
     ]
    },
    {
     "ename": "KeyboardInterrupt",
     "evalue": "",
     "output_type": "error",
     "traceback": [
      "\u001b[0;31m---------------------------------------------------------------------------\u001b[0m",
      "\u001b[0;31mKeyboardInterrupt\u001b[0m                         Traceback (most recent call last)",
      "Input \u001b[0;32mIn [93]\u001b[0m, in \u001b[0;36m<module>\u001b[0;34m\u001b[0m\n\u001b[1;32m     11\u001b[0m \u001b[38;5;28;01mfor\u001b[39;00m irow \u001b[38;5;129;01min\u001b[39;00m \u001b[38;5;28mrange\u001b[39m(look_back, predict_test_pca\u001b[38;5;241m.\u001b[39mshape[\u001b[38;5;241m0\u001b[39m]):            \n\u001b[1;32m     12\u001b[0m     h0 \u001b[38;5;241m=\u001b[39m model\u001b[38;5;241m.\u001b[39minitHidden(\u001b[38;5;241m1\u001b[39m)\n\u001b[0;32m---> 13\u001b[0m     y \u001b[38;5;241m=\u001b[39m \u001b[43mmodel\u001b[49m\u001b[38;5;241;43m.\u001b[39;49m\u001b[43mforward\u001b[49m\u001b[43m(\u001b[49m\u001b[43mX\u001b[49m\u001b[43m,\u001b[49m\u001b[43mh0\u001b[49m\u001b[43m)\u001b[49m[\u001b[38;5;241m0\u001b[39m,\u001b[38;5;241m-\u001b[39m\u001b[38;5;241m1\u001b[39m,\u001b[38;5;241m0\u001b[39m]\u001b[38;5;241m.\u001b[39mitem()\n\u001b[1;32m     14\u001b[0m     loss \u001b[38;5;241m+\u001b[39m\u001b[38;5;241m=\u001b[39m np\u001b[38;5;241m.\u001b[39mabs(y\u001b[38;5;241m-\u001b[39mtest_pca[irow,icol])\n\u001b[1;32m     15\u001b[0m     n \u001b[38;5;241m+\u001b[39m\u001b[38;5;241m=\u001b[39m \u001b[38;5;241m1\u001b[39m\n",
      "Input \u001b[0;32mIn [22]\u001b[0m, in \u001b[0;36mMyModel.forward\u001b[0;34m(self, input, hidden)\u001b[0m\n\u001b[1;32m     13\u001b[0m \u001b[38;5;124;03m''' X is in the shape of (N,L,input_feature) '''\u001b[39;00m\n\u001b[1;32m     14\u001b[0m output \u001b[38;5;241m=\u001b[39m F\u001b[38;5;241m.\u001b[39mrelu(\u001b[38;5;28mself\u001b[39m\u001b[38;5;241m.\u001b[39mlinear(\u001b[38;5;28minput\u001b[39m))\n\u001b[0;32m---> 15\u001b[0m output, hidden \u001b[38;5;241m=\u001b[39m \u001b[38;5;28;43mself\u001b[39;49m\u001b[38;5;241;43m.\u001b[39;49m\u001b[43mgru\u001b[49m\u001b[43m(\u001b[49m\u001b[43moutput\u001b[49m\u001b[43m,\u001b[49m\u001b[43m \u001b[49m\u001b[43mhidden\u001b[49m\u001b[43m)\u001b[49m\n\u001b[1;32m     16\u001b[0m output \u001b[38;5;241m=\u001b[39m \u001b[38;5;28mself\u001b[39m\u001b[38;5;241m.\u001b[39mlinear_out(F\u001b[38;5;241m.\u001b[39mrelu(output))\n\u001b[1;32m     17\u001b[0m \u001b[38;5;28;01mreturn\u001b[39;00m output\n",
      "File \u001b[0;32m/opt/anaconda3/envs/cs2020/lib/python3.9/site-packages/torch/nn/modules/module.py:1102\u001b[0m, in \u001b[0;36mModule._call_impl\u001b[0;34m(self, *input, **kwargs)\u001b[0m\n\u001b[1;32m   1098\u001b[0m \u001b[38;5;66;03m# If we don't have any hooks, we want to skip the rest of the logic in\u001b[39;00m\n\u001b[1;32m   1099\u001b[0m \u001b[38;5;66;03m# this function, and just call forward.\u001b[39;00m\n\u001b[1;32m   1100\u001b[0m \u001b[38;5;28;01mif\u001b[39;00m \u001b[38;5;129;01mnot\u001b[39;00m (\u001b[38;5;28mself\u001b[39m\u001b[38;5;241m.\u001b[39m_backward_hooks \u001b[38;5;129;01mor\u001b[39;00m \u001b[38;5;28mself\u001b[39m\u001b[38;5;241m.\u001b[39m_forward_hooks \u001b[38;5;129;01mor\u001b[39;00m \u001b[38;5;28mself\u001b[39m\u001b[38;5;241m.\u001b[39m_forward_pre_hooks \u001b[38;5;129;01mor\u001b[39;00m _global_backward_hooks\n\u001b[1;32m   1101\u001b[0m         \u001b[38;5;129;01mor\u001b[39;00m _global_forward_hooks \u001b[38;5;129;01mor\u001b[39;00m _global_forward_pre_hooks):\n\u001b[0;32m-> 1102\u001b[0m     \u001b[38;5;28;01mreturn\u001b[39;00m \u001b[43mforward_call\u001b[49m\u001b[43m(\u001b[49m\u001b[38;5;241;43m*\u001b[39;49m\u001b[38;5;28;43minput\u001b[39;49m\u001b[43m,\u001b[49m\u001b[43m \u001b[49m\u001b[38;5;241;43m*\u001b[39;49m\u001b[38;5;241;43m*\u001b[39;49m\u001b[43mkwargs\u001b[49m\u001b[43m)\u001b[49m\n\u001b[1;32m   1103\u001b[0m \u001b[38;5;66;03m# Do not call functions when jit is used\u001b[39;00m\n\u001b[1;32m   1104\u001b[0m full_backward_hooks, non_full_backward_hooks \u001b[38;5;241m=\u001b[39m [], []\n",
      "File \u001b[0;32m/opt/anaconda3/envs/cs2020/lib/python3.9/site-packages/torch/nn/modules/rnn.py:849\u001b[0m, in \u001b[0;36mGRU.forward\u001b[0;34m(self, input, hx)\u001b[0m\n\u001b[1;32m    847\u001b[0m \u001b[38;5;28mself\u001b[39m\u001b[38;5;241m.\u001b[39mcheck_forward_args(\u001b[38;5;28minput\u001b[39m, hx, batch_sizes)\n\u001b[1;32m    848\u001b[0m \u001b[38;5;28;01mif\u001b[39;00m batch_sizes \u001b[38;5;129;01mis\u001b[39;00m \u001b[38;5;28;01mNone\u001b[39;00m:\n\u001b[0;32m--> 849\u001b[0m     result \u001b[38;5;241m=\u001b[39m \u001b[43m_VF\u001b[49m\u001b[38;5;241;43m.\u001b[39;49m\u001b[43mgru\u001b[49m\u001b[43m(\u001b[49m\u001b[38;5;28;43minput\u001b[39;49m\u001b[43m,\u001b[49m\u001b[43m \u001b[49m\u001b[43mhx\u001b[49m\u001b[43m,\u001b[49m\u001b[43m \u001b[49m\u001b[38;5;28;43mself\u001b[39;49m\u001b[38;5;241;43m.\u001b[39;49m\u001b[43m_flat_weights\u001b[49m\u001b[43m,\u001b[49m\u001b[43m \u001b[49m\u001b[38;5;28;43mself\u001b[39;49m\u001b[38;5;241;43m.\u001b[39;49m\u001b[43mbias\u001b[49m\u001b[43m,\u001b[49m\u001b[43m \u001b[49m\u001b[38;5;28;43mself\u001b[39;49m\u001b[38;5;241;43m.\u001b[39;49m\u001b[43mnum_layers\u001b[49m\u001b[43m,\u001b[49m\n\u001b[1;32m    850\u001b[0m \u001b[43m                     \u001b[49m\u001b[38;5;28;43mself\u001b[39;49m\u001b[38;5;241;43m.\u001b[39;49m\u001b[43mdropout\u001b[49m\u001b[43m,\u001b[49m\u001b[43m \u001b[49m\u001b[38;5;28;43mself\u001b[39;49m\u001b[38;5;241;43m.\u001b[39;49m\u001b[43mtraining\u001b[49m\u001b[43m,\u001b[49m\u001b[43m \u001b[49m\u001b[38;5;28;43mself\u001b[39;49m\u001b[38;5;241;43m.\u001b[39;49m\u001b[43mbidirectional\u001b[49m\u001b[43m,\u001b[49m\u001b[43m \u001b[49m\u001b[38;5;28;43mself\u001b[39;49m\u001b[38;5;241;43m.\u001b[39;49m\u001b[43mbatch_first\u001b[49m\u001b[43m)\u001b[49m\n\u001b[1;32m    851\u001b[0m \u001b[38;5;28;01melse\u001b[39;00m:\n\u001b[1;32m    852\u001b[0m     result \u001b[38;5;241m=\u001b[39m _VF\u001b[38;5;241m.\u001b[39mgru(\u001b[38;5;28minput\u001b[39m, batch_sizes, hx, \u001b[38;5;28mself\u001b[39m\u001b[38;5;241m.\u001b[39m_flat_weights, \u001b[38;5;28mself\u001b[39m\u001b[38;5;241m.\u001b[39mbias,\n\u001b[1;32m    853\u001b[0m                      \u001b[38;5;28mself\u001b[39m\u001b[38;5;241m.\u001b[39mnum_layers, \u001b[38;5;28mself\u001b[39m\u001b[38;5;241m.\u001b[39mdropout, \u001b[38;5;28mself\u001b[39m\u001b[38;5;241m.\u001b[39mtraining, \u001b[38;5;28mself\u001b[39m\u001b[38;5;241m.\u001b[39mbidirectional)\n",
      "\u001b[0;31mKeyboardInterrupt\u001b[0m: "
     ]
    }
   ],
   "source": [
    "with torch.no_grad():\n",
    "    model = MyModel(1, linear_node, 1, num_layers=3)\n",
    "\n",
    "    for icol in range(65):\n",
    "        model.load_state_dict(torch.load('model_pca_train_'+str(icol)+'.pickle')['model'])\n",
    "        model.eval()\n",
    "        \n",
    "        X = test_pca[:look_back, icol]\n",
    "        X = torch.tensor(X, dtype=torch.float32).reshape(1,-1,1)\n",
    "        loss, n = 0, 0\n",
    "        for irow in range(look_back, predict_test_pca.shape[0]):            \n",
    "            h0 = model.initHidden(1)\n",
    "            y = model.forward(X,h0)[0,-1,0].item()\n",
    "            loss += np.abs(y-test_pca[irow,icol])\n",
    "            n += 1\n",
    "            predict_test_pca[irow,icol] = y\n",
    "            X = X.reshape(-1).numpy()\n",
    "            X = np.hstack((X[1:], test_pca[irow,icol]))\n",
    "            X = torch.tensor(X, dtype=torch.float32).reshape(1,-1,1)\n",
    "        print(f\"loss={loss/n}\")"
   ]
  },
  {
   "cell_type": "code",
   "execution_count": 94,
   "id": "5ebdeabe",
   "metadata": {},
   "outputs": [],
   "source": [
    "with torch.no_grad():\n",
    "    model = MyModel(1, linear_node, 1, num_layers=3)\n",
    "\n",
    "    for icol in range(65)[0:1]:\n",
    "        model.load_state_dict(torch.load('model_pca_train_'+str(icol)+'.pickle')['model'])\n",
    "        model.eval()\n",
    "        \n",
    "        X = train_pca[-look_back:, icol]\n",
    "        X = torch.tensor(X, dtype=torch.float32).reshape(1,-1,1)\n",
    "        for irow in range(predict_test_pca.shape[0]):\n",
    "            h0 = model.initHidden(1)\n",
    "            y = model.forward(X,h0)[0,-1,0].item()\n",
    "            predict_test_pca[irow,icol] = y\n",
    "            X = X.reshape(-1).numpy()\n",
    "            X = np.hstack((X[1:], test_pca[irow,icol]))\n",
    "            X = torch.tensor(X, dtype=torch.float32).reshape(1,-1,1)"
   ]
  },
  {
   "cell_type": "code",
   "execution_count": 95,
   "id": "713a8a55",
   "metadata": {},
   "outputs": [
    {
     "data": {
      "text/plain": [
       "[<matplotlib.lines.Line2D at 0x143301820>]"
      ]
     },
     "execution_count": 95,
     "metadata": {},
     "output_type": "execute_result"
    },
    {
     "data": {
      "image/png": "[encoded data removed]",
      "text/plain": [
       "<Figure size 432x288 with 1 Axes>"
      ]
     },
     "metadata": {
      "needs_background": "light"
     },
     "output_type": "display_data"
    }
   ],
   "source": [
    "plt.plot(test_pca[:,0])"
   ]
  },
  {
   "cell_type": "code",
   "execution_count": 96,
   "id": "462c0d98",
   "metadata": {},
   "outputs": [
    {
     "data": {
      "text/plain": [
       "[<matplotlib.lines.Line2D at 0x145addee0>]"
      ]
     },
     "execution_count": 96,
     "metadata": {},
     "output_type": "execute_result"
    },
    {
     "data": {
      "image/png": "[encoded data removed]",
      "text/plain": [
       "<Figure size 432x288 with 1 Axes>"
      ]
     },
     "metadata": {
      "needs_background": "light"
     },
     "output_type": "display_data"
    }
   ],
   "source": [
    "plt.plot(predict_test_pca[:,0])"
   ]
  },
  {
   "cell_type": "code",
   "execution_count": 97,
   "id": "84a5fca9",
   "metadata": {},
   "outputs": [
    {
     "data": {
      "text/plain": [
       "0.9196394800389016"
      ]
     },
     "execution_count": 97,
     "metadata": {},
     "output_type": "execute_result"
    }
   ],
   "source": [
    "np.mean(np.abs(predict_test_pca[:,0]-test_pca[:,0]))"
   ]
  },
  {
   "cell_type": "code",
   "execution_count": 103,
   "id": "7a80fbf9",
   "metadata": {},
   "outputs": [],
   "source": [
    "with torch.no_grad():\n",
    "    model = MyModel(1, linear_node, 1, num_layers=3)\n",
    "\n",
    "    for icol in range(65)[0:1]:\n",
    "        model.load_state_dict(torch.load('model_pca_train_'+str(icol)+'.pickle')['model'])\n",
    "        model.eval()\n",
    "        \n",
    "        X = train_pca[-look_back:, icol]\n",
    "        X = torch.tensor(X, dtype=torch.float32).reshape(1,-1,1)\n",
    "        for irow in range(predict_test_pca.shape[0]):\n",
    "            h0 = model.initHidden(1)\n",
    "            y = model.forward(X,h0)[0,-1,0].item()\n",
    "            predict_test_pca[irow,icol] = y\n",
    "            X = X.reshape(-1).numpy()\n",
    "#             X = np.hstack((X[1:], test_pca[irow, icol]))\n",
    "            X = np.hstack((X[1:], y))\n",
    "            X = torch.tensor(X, dtype=torch.float32).reshape(1,-1,1)"
   ]
  },
  {
   "cell_type": "code",
   "execution_count": 107,
   "id": "fe6b0625",
   "metadata": {},
   "outputs": [
    {
     "data": {
      "text/plain": [
       "[<matplotlib.lines.Line2D at 0x13ef83c40>]"
      ]
     },
     "execution_count": 107,
     "metadata": {},
     "output_type": "execute_result"
    },
    {
     "data": {
      "image/png": "[encoded data removed]",
      "text/plain": [
       "<Figure size 432x288 with 1 Axes>"
      ]
     },
     "metadata": {
      "needs_background": "light"
     },
     "output_type": "display_data"
    }
   ],
   "source": [
    "plt.plot(predict_test_pca[:36,0])"
   ]
  },
  {
   "cell_type": "code",
   "execution_count": 110,
   "id": "64b4034f",
   "metadata": {},
   "outputs": [
    {
     "data": {
      "text/plain": [
       "[<matplotlib.lines.Line2D at 0x13f06f730>]"
      ]
     },
     "execution_count": 110,
     "metadata": {},
     "output_type": "execute_result"
    },
    {
     "data": {
      "image/png": "[encoded data removed]",
      "text/plain": [
       "<Figure size 432x288 with 1 Axes>"
      ]
     },
     "metadata": {
      "needs_background": "light"
     },
     "output_type": "display_data"
    }
   ],
   "source": [
    "plt.plot(test_pca[:36,0])"
   ]
  },
  {
   "cell_type": "code",
   "execution_count": 111,
   "id": "309b4120",
   "metadata": {},
   "outputs": [
    {
     "data": {
      "text/plain": [
       "1.0994817837264117"
      ]
     },
     "execution_count": 111,
     "metadata": {},
     "output_type": "execute_result"
    }
   ],
   "source": [
    "np.mean(np.abs(test_pca[:36,0]))"
   ]
  },
  {
   "cell_type": "code",
   "execution_count": 112,
   "id": "57d767a8",
   "metadata": {},
   "outputs": [
    {
     "data": {
      "text/plain": [
       "1.413084178262401"
      ]
     },
     "execution_count": 112,
     "metadata": {},
     "output_type": "execute_result"
    }
   ],
   "source": [
    "np.mean(np.abs(predict_test_pca[:36,0]-test_pca[:36,0]))"
   ]
  },
  {
   "cell_type": "code",
   "execution_count": 22,
   "id": "495d13b6",
   "metadata": {},
   "outputs": [],
   "source": [
    "def evaluate(test_loader):\n",
    "    model.eval()\n",
    "    with torch.no_grad():\n",
    "        loss = 0\n",
    "        n = 0\n",
    "        for batch, (x, y) in enumerate(test_loader):\n",
    "            h0 = model.initHidden(len(x))\n",
    "            output = model.forward(x, h0)\n",
    "            loss += criterion(output[:,-1,:],y).item() * len(x)\n",
    "            n += len(x)\n",
    "        loss /= n\n",
    "    return loss\n",
    "\n",
    "def train(n_epoches, train_loader, test_loader):\n",
    "    optimizer = optim.Adam(model.parameters())\n",
    "\n",
    "    best_test_loss = 100.0\n",
    "    for epoch in range(n_epoches):\n",
    "\n",
    "        curr_loss = 0.0\n",
    "        model.train()\n",
    "\n",
    "        n = 0\n",
    "        for batch, (x, y) in enumerate(train_loader):\n",
    "            h0 = model.initHidden(len(x))\n",
    "            output = model.forward(x, h0)\n",
    "            #print(output[-1,-1,:],y[-1])\n",
    "            loss = criterion(output[:,-1,:], y)\n",
    "\n",
    "            optimizer.zero_grad()\n",
    "            loss.backward()\n",
    "            optimizer.step()\n",
    "\n",
    "            curr_loss += loss.item()*len(x)\n",
    "            n += len(x)\n",
    "\n",
    "        curr_loss /= len(train_loader.dataset)\n",
    "        test_loss = evaluate(test_loader)\n",
    "        if (epoch % 20 == 0):  print(f'current {epoch} training loss={loss.item()} test loss = {test_loss}')\n",
    "        if test_loss < best_test_loss:\n",
    "            best_n_epoches = epoch + 1\n",
    "            best_test_loss = test_loss\n",
    "            print(f'updating best loss {epoch} training loss={loss.item()} test loss = {test_loss}')\n",
    "\n",
    "        if epoch > best_n_epoches + 50:\n",
    "            print('early stop')\n",
    "            break\n",
    "    return best_n_epoches\n",
    "\n",
    "def retrain(n_epoches, train_loader):\n",
    "    optimizer = optim.Adam(model.parameters())\n",
    "\n",
    "    model.train()\n",
    "    for epoch in range(n_epoches):\n",
    "\n",
    "        curr_loss = 0.0\n",
    "        for batch, (x, y) in enumerate(train_loader):\n",
    "            h0 = model.initHidden(len(x))\n",
    "            output = model.forward(x, h0)\n",
    "            loss = criterion(output[:,-1,:], y)\n",
    "\n",
    "            optimizer.zero_grad()\n",
    "            loss.backward()\n",
    "            optimizer.step()\n",
    "\n",
    "            curr_loss += loss.item()*len(x)\n",
    "\n",
    "    curr_loss /= len(train_loader.dataset)\n",
    "    return curr_loss"
   ]
  },
  {
   "cell_type": "code",
   "execution_count": 24,
   "id": "5ac83997",
   "metadata": {},
   "outputs": [
    {
     "name": "stdout",
     "output_type": "stream",
     "text": [
      "current 0 training loss=1.7029120922088623 test loss = 1.8074543476104736\n",
      "updating best loss 0 training loss=1.7029120922088623 test loss = 1.8074543476104736\n",
      "updating best loss 1 training loss=1.518017292022705 test loss = 1.5907343626022339\n",
      "updating best loss 2 training loss=1.37233304977417 test loss = 1.4240084886550903\n",
      "updating best loss 3 training loss=1.2918810844421387 test loss = 1.3511874675750732\n",
      "updating best loss 4 training loss=1.244005799293518 test loss = 1.3190361261367798\n",
      "updating best loss 5 training loss=1.2235629558563232 test loss = 1.2956069707870483\n",
      "updating best loss 6 training loss=1.201930284500122 test loss = 1.2684249877929688\n",
      "updating best loss 7 training loss=1.1919437646865845 test loss = 1.2425135374069214\n",
      "updating best loss 8 training loss=1.1770130395889282 test loss = 1.2295634746551514\n",
      "updating best loss 9 training loss=1.1745543479919434 test loss = 1.2066650390625\n",
      "current 0 training loss=0.9216070175170898 test loss = 0.8999358415603638\n",
      "updating best loss 0 training loss=0.9216070175170898 test loss = 0.8999358415603638\n",
      "updating best loss 1 training loss=0.8751259446144104 test loss = 0.8685234189033508\n",
      "updating best loss 2 training loss=0.8525383472442627 test loss = 0.8124837875366211\n",
      "updating best loss 3 training loss=0.831932544708252 test loss = 0.7827246189117432\n",
      "current 0 training loss=1.0998996496200562 test loss = 0.9064019322395325\n",
      "updating best loss 0 training loss=1.0998996496200562 test loss = 0.9064019322395325\n",
      "updating best loss 1 training loss=1.0266298055648804 test loss = 0.8383778929710388\n",
      "updating best loss 2 training loss=0.9971324801445007 test loss = 0.8061153888702393\n",
      "updating best loss 3 training loss=0.9719278216362 test loss = 0.7968602776527405\n",
      "updating best loss 4 training loss=0.9485164284706116 test loss = 0.7920863628387451\n",
      "updating best loss 5 training loss=0.9236516952514648 test loss = 0.7860193848609924\n",
      "updating best loss 6 training loss=0.90395188331604 test loss = 0.7813836932182312\n",
      "updating best loss 7 training loss=0.8970034122467041 test loss = 0.77726811170578\n",
      "updating best loss 8 training loss=0.8857394456863403 test loss = 0.7746496796607971\n",
      "updating best loss 9 training loss=0.8733572959899902 test loss = 0.7733572721481323\n",
      "current 0 training loss=0.7828058004379272 test loss = 0.883988618850708\n",
      "updating best loss 0 training loss=0.7828058004379272 test loss = 0.883988618850708\n",
      "updating best loss 1 training loss=0.7661303877830505 test loss = 0.8418172001838684\n",
      "updating best loss 2 training loss=0.761433482170105 test loss = 0.8101171255111694\n",
      "updating best loss 3 training loss=0.7507696747779846 test loss = 0.7921558022499084\n",
      "updating best loss 4 training loss=0.7389330863952637 test loss = 0.7854079604148865\n",
      "updating best loss 5 training loss=0.7425622940063477 test loss = 0.7844670414924622\n",
      "updating best loss 6 training loss=0.7264010310173035 test loss = 0.7762904763221741\n"
     ]
    },
    {
     "ename": "KeyboardInterrupt",
     "evalue": "",
     "output_type": "error",
     "traceback": [
      "\u001b[0;31m---------------------------------------------------------------------------\u001b[0m",
      "\u001b[0;31mKeyboardInterrupt\u001b[0m                         Traceback (most recent call last)",
      "Input \u001b[0;32mIn [24]\u001b[0m, in \u001b[0;36m<module>\u001b[0;34m\u001b[0m\n\u001b[1;32m      2\u001b[0m train_loaders, test_loaders \u001b[38;5;241m=\u001b[39m assemble(data_all_pca, icol)\n\u001b[1;32m      4\u001b[0m model \u001b[38;5;241m=\u001b[39m MyModel(\u001b[38;5;241m1\u001b[39m, linear_node, \u001b[38;5;241m1\u001b[39m, num_layers\u001b[38;5;241m=\u001b[39m\u001b[38;5;241m3\u001b[39m)    \n\u001b[0;32m----> 5\u001b[0m best_n_epoches \u001b[38;5;241m=\u001b[39m \u001b[43mtrain\u001b[49m\u001b[43m(\u001b[49m\u001b[38;5;241;43m10\u001b[39;49m\u001b[43m,\u001b[49m\u001b[43m \u001b[49m\u001b[43mtrain_loaders\u001b[49m\u001b[43m[\u001b[49m\u001b[38;5;241;43m0\u001b[39;49m\u001b[43m]\u001b[49m\u001b[43m,\u001b[49m\u001b[43m \u001b[49m\u001b[43mtest_loaders\u001b[49m\u001b[43m[\u001b[49m\u001b[38;5;241;43m0\u001b[39;49m\u001b[43m]\u001b[49m\u001b[43m)\u001b[49m\n\u001b[1;32m      6\u001b[0m torch\u001b[38;5;241m.\u001b[39msave({\u001b[38;5;124m'\u001b[39m\u001b[38;5;124mbest_epoches\u001b[39m\u001b[38;5;124m'\u001b[39m: best_n_epoches,\n\u001b[1;32m      7\u001b[0m             \u001b[38;5;124m'\u001b[39m\u001b[38;5;124mmodel\u001b[39m\u001b[38;5;124m'\u001b[39m: model\u001b[38;5;241m.\u001b[39mstate_dict()},\n\u001b[1;32m      8\u001b[0m             \u001b[38;5;124m'\u001b[39m\u001b[38;5;124mmodel_pca_train_\u001b[39m\u001b[38;5;124m'\u001b[39m\u001b[38;5;241m+\u001b[39m\u001b[38;5;28mstr\u001b[39m(icol)\u001b[38;5;241m+\u001b[39m\u001b[38;5;124m'\u001b[39m\u001b[38;5;124m.pickle\u001b[39m\u001b[38;5;124m'\u001b[39m)\n\u001b[1;32m     10\u001b[0m model \u001b[38;5;241m=\u001b[39m MyModel(\u001b[38;5;241m1\u001b[39m, linear_node, \u001b[38;5;241m1\u001b[39m, num_layers\u001b[38;5;241m=\u001b[39m\u001b[38;5;241m3\u001b[39m)    \n",
      "Input \u001b[0;32mIn [22]\u001b[0m, in \u001b[0;36mtrain\u001b[0;34m(n_epoches, train_loader, test_loader)\u001b[0m\n\u001b[1;32m     27\u001b[0m \u001b[38;5;66;03m#print(output[-1,-1,:],y[-1])\u001b[39;00m\n\u001b[1;32m     28\u001b[0m loss \u001b[38;5;241m=\u001b[39m criterion(output[:,\u001b[38;5;241m-\u001b[39m\u001b[38;5;241m1\u001b[39m,:], y)\n\u001b[0;32m---> 30\u001b[0m \u001b[43moptimizer\u001b[49m\u001b[38;5;241;43m.\u001b[39;49m\u001b[43mzero_grad\u001b[49m()\n\u001b[1;32m     31\u001b[0m loss\u001b[38;5;241m.\u001b[39mbackward()\n\u001b[1;32m     32\u001b[0m optimizer\u001b[38;5;241m.\u001b[39mstep()\n",
      "\u001b[0;31mKeyboardInterrupt\u001b[0m: "
     ]
    }
   ],
   "source": [
    "for icol in range(65):\n",
    "    train_loaders, test_loaders = assemble(data_all_pca, icol)\n",
    "    \n",
    "    model = MyModel(1, linear_node, 1, num_layers=3)    \n",
    "    best_n_epoches = train(10, train_loaders[0], test_loaders[0])\n",
    "    torch.save({'best_epoches': best_n_epoches,\n",
    "                'model': model.state_dict()},\n",
    "                'model_pca_train_'+str(icol)+'.pickle')\n",
    "    \n",
    "    model = MyModel(1, linear_node, 1, num_layers=3)    \n",
    "    loss = retrain(best_n_epoches, train_loaders[1])\n",
    "    torch.save({'loss': loss,\n",
    "                'best_epoches': best_n_epoches,\n",
    "                'model': model.state_dict()},\n",
    "                'model_pca_all_'+str(icol)+'.pickle')"
   ]
  }
 ],
 "metadata": {
  "kernelspec": {
   "display_name": "Python 3 (ipykernel)",
   "language": "python",
   "name": "python3"
  },
  "language_info": {
   "codemirror_mode": {
    "name": "ipython",
    "version": 3
   },
   "file_extension": ".py",
   "mimetype": "text/x-python",
   "name": "python",
   "nbconvert_exporter": "python",
   "pygments_lexer": "ipython3",
   "version": "3.9.10"
  }
 },
 "nbformat": 4,
 "nbformat_minor": 5
}
